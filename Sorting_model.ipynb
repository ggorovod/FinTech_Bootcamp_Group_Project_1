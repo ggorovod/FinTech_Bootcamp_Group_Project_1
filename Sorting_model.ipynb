{
 "cells": [
  {
   "cell_type": "code",
   "execution_count": null,
   "id": "37b0e5bb-4842-4d31-b0d6-5c034e09062a",
   "metadata": {},
   "outputs": [],
   "source": [
    "#import relevant libraries"
   ]
  },
  {
   "cell_type": "code",
   "execution_count": 97,
   "id": "109e2203-7aaf-4ddd-8d05-4cbeb1b57232",
   "metadata": {},
   "outputs": [],
   "source": [
    "import pandas as pd\n",
    "import numpy as np"
   ]
  },
  {
   "cell_type": "code",
   "execution_count": null,
   "id": "6ffb4418-6ad5-4641-ba0f-2e2f6e5c17e5",
   "metadata": {},
   "outputs": [],
   "source": [
    "#use %store function to import key statistics from all other python notebooks (Sharpe Ratio, Cumulative Returns, Sortino Ratio, Beta, Alpha, Outperformance)"
   ]
  },
  {
   "cell_type": "code",
   "execution_count": 26,
   "id": "e376e04c-dd6d-4f25-bfc5-401be5c803d7",
   "metadata": {},
   "outputs": [
    {
     "data": {
      "text/html": [
       "<div>\n",
       "<style scoped>\n",
       "    .dataframe tbody tr th:only-of-type {\n",
       "        vertical-align: middle;\n",
       "    }\n",
       "\n",
       "    .dataframe tbody tr th {\n",
       "        vertical-align: top;\n",
       "    }\n",
       "\n",
       "    .dataframe thead th {\n",
       "        text-align: right;\n",
       "    }\n",
       "</style>\n",
       "<table border=\"1\" class=\"dataframe\">\n",
       "  <thead>\n",
       "    <tr style=\"text-align: right;\">\n",
       "      <th></th>\n",
       "      <th>Sharpe Ratios</th>\n",
       "    </tr>\n",
       "  </thead>\n",
       "  <tbody>\n",
       "    <tr>\n",
       "      <th>SHEL</th>\n",
       "      <td>0.071999</td>\n",
       "    </tr>\n",
       "    <tr>\n",
       "      <th>COP</th>\n",
       "      <td>0.556158</td>\n",
       "    </tr>\n",
       "    <tr>\n",
       "      <th>CVX</th>\n",
       "      <td>0.371731</td>\n",
       "    </tr>\n",
       "    <tr>\n",
       "      <th>XOM</th>\n",
       "      <td>0.294456</td>\n",
       "    </tr>\n",
       "    <tr>\n",
       "      <th>IXC</th>\n",
       "      <td>0.224020</td>\n",
       "    </tr>\n",
       "  </tbody>\n",
       "</table>\n",
       "</div>"
      ],
      "text/plain": [
       "      Sharpe Ratios\n",
       "SHEL       0.071999\n",
       "COP        0.556158\n",
       "CVX        0.371731\n",
       "XOM        0.294456\n",
       "IXC        0.224020"
      ]
     },
     "execution_count": 26,
     "metadata": {},
     "output_type": "execute_result"
    }
   ],
   "source": [
    "%store -r sharpe_ratios\n",
    "sharpe_ratios = pd.DataFrame(sharpe_ratios, columns=[\"Sharpe Ratios\"])\n",
    "sharpe_ratios"
   ]
  },
  {
   "cell_type": "code",
   "execution_count": 13,
   "id": "0c0e879f-3c60-4bf1-8bb1-2088ba31ad05",
   "metadata": {},
   "outputs": [
    {
     "data": {
      "text/html": [
       "<div>\n",
       "<style scoped>\n",
       "    .dataframe tbody tr th:only-of-type {\n",
       "        vertical-align: middle;\n",
       "    }\n",
       "\n",
       "    .dataframe tbody tr th {\n",
       "        vertical-align: top;\n",
       "    }\n",
       "\n",
       "    .dataframe thead th {\n",
       "        text-align: right;\n",
       "    }\n",
       "</style>\n",
       "<table border=\"1\" class=\"dataframe\">\n",
       "  <thead>\n",
       "    <tr style=\"text-align: right;\">\n",
       "      <th></th>\n",
       "      <th>Cumulative Return</th>\n",
       "    </tr>\n",
       "  </thead>\n",
       "  <tbody>\n",
       "    <tr>\n",
       "      <th>SHEL</th>\n",
       "      <td>0.384815</td>\n",
       "    </tr>\n",
       "    <tr>\n",
       "      <th>COP</th>\n",
       "      <td>130.735318</td>\n",
       "    </tr>\n",
       "    <tr>\n",
       "      <th>CVX</th>\n",
       "      <td>54.613728</td>\n",
       "    </tr>\n",
       "    <tr>\n",
       "      <th>XOM</th>\n",
       "      <td>36.398767</td>\n",
       "    </tr>\n",
       "    <tr>\n",
       "      <th>IXC</th>\n",
       "      <td>21.917556</td>\n",
       "    </tr>\n",
       "  </tbody>\n",
       "</table>\n",
       "</div>"
      ],
      "text/plain": [
       "      Cumulative Return\n",
       "SHEL           0.384815\n",
       "COP          130.735318\n",
       "CVX           54.613728\n",
       "XOM           36.398767\n",
       "IXC           21.917556"
      ]
     },
     "execution_count": 13,
     "metadata": {},
     "output_type": "execute_result"
    }
   ],
   "source": [
    "%store -r cumulative_return_df\n",
    "cumulative_return_df"
   ]
  },
  {
   "cell_type": "code",
   "execution_count": 16,
   "id": "c39639aa-05b0-41a5-bbd3-b9f1c6d019e5",
   "metadata": {},
   "outputs": [
    {
     "data": {
      "text/html": [
       "<div>\n",
       "<style scoped>\n",
       "    .dataframe tbody tr th:only-of-type {\n",
       "        vertical-align: middle;\n",
       "    }\n",
       "\n",
       "    .dataframe tbody tr th {\n",
       "        vertical-align: top;\n",
       "    }\n",
       "\n",
       "    .dataframe thead th {\n",
       "        text-align: right;\n",
       "    }\n",
       "</style>\n",
       "<table border=\"1\" class=\"dataframe\">\n",
       "  <thead>\n",
       "    <tr style=\"text-align: right;\">\n",
       "      <th></th>\n",
       "      <th>Cumulative Return</th>\n",
       "    </tr>\n",
       "  </thead>\n",
       "  <tbody>\n",
       "    <tr>\n",
       "      <th>SHEL</th>\n",
       "      <td>0.384815</td>\n",
       "    </tr>\n",
       "    <tr>\n",
       "      <th>COP</th>\n",
       "      <td>130.735318</td>\n",
       "    </tr>\n",
       "    <tr>\n",
       "      <th>CVX</th>\n",
       "      <td>54.613728</td>\n",
       "    </tr>\n",
       "    <tr>\n",
       "      <th>XOM</th>\n",
       "      <td>36.398767</td>\n",
       "    </tr>\n",
       "    <tr>\n",
       "      <th>IXC</th>\n",
       "      <td>21.917556</td>\n",
       "    </tr>\n",
       "  </tbody>\n",
       "</table>\n",
       "</div>"
      ],
      "text/plain": [
       "      Cumulative Return\n",
       "SHEL           0.384815\n",
       "COP          130.735318\n",
       "CVX           54.613728\n",
       "XOM           36.398767\n",
       "IXC           21.917556"
      ]
     },
     "execution_count": 16,
     "metadata": {},
     "output_type": "execute_result"
    }
   ],
   "source": [
    "%store -r cumulative_return_df\n",
    "cumulative_return_df"
   ]
  },
  {
   "cell_type": "code",
   "execution_count": 63,
   "id": "0141fcbc-9b60-4e83-b9c2-837ecdc7dfe0",
   "metadata": {},
   "outputs": [
    {
     "data": {
      "text/html": [
       "<div>\n",
       "<style scoped>\n",
       "    .dataframe tbody tr th:only-of-type {\n",
       "        vertical-align: middle;\n",
       "    }\n",
       "\n",
       "    .dataframe tbody tr th {\n",
       "        vertical-align: top;\n",
       "    }\n",
       "\n",
       "    .dataframe thead th {\n",
       "        text-align: right;\n",
       "    }\n",
       "</style>\n",
       "<table border=\"1\" class=\"dataframe\">\n",
       "  <thead>\n",
       "    <tr style=\"text-align: right;\">\n",
       "      <th></th>\n",
       "      <th>Sortino Ratio</th>\n",
       "    </tr>\n",
       "  </thead>\n",
       "  <tbody>\n",
       "    <tr>\n",
       "      <th>SHEL</th>\n",
       "      <td>-0.071382</td>\n",
       "    </tr>\n",
       "    <tr>\n",
       "      <th>COP</th>\n",
       "      <td>0.190808</td>\n",
       "    </tr>\n",
       "    <tr>\n",
       "      <th>CVX</th>\n",
       "      <td>0.024329</td>\n",
       "    </tr>\n",
       "    <tr>\n",
       "      <th>XOM</th>\n",
       "      <td>0.021217</td>\n",
       "    </tr>\n",
       "    <tr>\n",
       "      <th>IXC</th>\n",
       "      <td>0.006889</td>\n",
       "    </tr>\n",
       "  </tbody>\n",
       "</table>\n",
       "</div>"
      ],
      "text/plain": [
       "      Sortino Ratio\n",
       "SHEL      -0.071382\n",
       "COP        0.190808\n",
       "CVX        0.024329\n",
       "XOM        0.021217\n",
       "IXC        0.006889"
      ]
     },
     "execution_count": 63,
     "metadata": {},
     "output_type": "execute_result"
    }
   ],
   "source": [
    "%store -r sortino_ratios\n",
    "sortino_ratios = sortino_ratios[\"Sortino Ratio\"]\n",
    "sortino_ratios_df = pd.DataFrame(sortino_ratios,)\n",
    "sortino_ratios_df.index=[ \"SHEL\", \"COP\",\"CVX\",\"XOM\", 'IXC']\n",
    "sortino_ratios_df"
   ]
  },
  {
   "cell_type": "code",
   "execution_count": 65,
   "id": "ff84803f-e544-427a-8834-e2a7b0677060",
   "metadata": {},
   "outputs": [
    {
     "data": {
      "text/html": [
       "<div>\n",
       "<style scoped>\n",
       "    .dataframe tbody tr th:only-of-type {\n",
       "        vertical-align: middle;\n",
       "    }\n",
       "\n",
       "    .dataframe tbody tr th {\n",
       "        vertical-align: top;\n",
       "    }\n",
       "\n",
       "    .dataframe thead th {\n",
       "        text-align: right;\n",
       "    }\n",
       "</style>\n",
       "<table border=\"1\" class=\"dataframe\">\n",
       "  <thead>\n",
       "    <tr style=\"text-align: right;\">\n",
       "      <th></th>\n",
       "      <th>Beta</th>\n",
       "    </tr>\n",
       "  </thead>\n",
       "  <tbody>\n",
       "    <tr>\n",
       "      <th>SHEL</th>\n",
       "      <td>0.768874</td>\n",
       "    </tr>\n",
       "    <tr>\n",
       "      <th>COP</th>\n",
       "      <td>0.944026</td>\n",
       "    </tr>\n",
       "    <tr>\n",
       "      <th>CVX</th>\n",
       "      <td>0.893733</td>\n",
       "    </tr>\n",
       "    <tr>\n",
       "      <th>XOM</th>\n",
       "      <td>1.285763</td>\n",
       "    </tr>\n",
       "  </tbody>\n",
       "</table>\n",
       "</div>"
      ],
      "text/plain": [
       "          Beta\n",
       "SHEL  0.768874\n",
       "COP   0.944026\n",
       "CVX   0.893733\n",
       "XOM   1.285763"
      ]
     },
     "execution_count": 65,
     "metadata": {},
     "output_type": "execute_result"
    }
   ],
   "source": [
    "%store -r Beta\n",
    "Beta = Beta[\"Beta\"]\n",
    "Beta_df = pd.DataFrame(Beta)\n",
    "Beta_df.index=[ \"SHEL\", \"COP\",\"CVX\",\"XOM\"]\n",
    "Beta_df"
   ]
  },
  {
   "cell_type": "code",
   "execution_count": 28,
   "id": "2689e120-418c-4f43-b25c-45b0175a6a82",
   "metadata": {},
   "outputs": [
    {
     "data": {
      "text/html": [
       "<div>\n",
       "<style scoped>\n",
       "    .dataframe tbody tr th:only-of-type {\n",
       "        vertical-align: middle;\n",
       "    }\n",
       "\n",
       "    .dataframe tbody tr th {\n",
       "        vertical-align: top;\n",
       "    }\n",
       "\n",
       "    .dataframe thead th {\n",
       "        text-align: right;\n",
       "    }\n",
       "</style>\n",
       "<table border=\"1\" class=\"dataframe\">\n",
       "  <thead>\n",
       "    <tr style=\"text-align: right;\">\n",
       "      <th></th>\n",
       "      <th>Alpha</th>\n",
       "    </tr>\n",
       "  </thead>\n",
       "  <tbody>\n",
       "    <tr>\n",
       "      <th>SHEL</th>\n",
       "      <td>-0.246536</td>\n",
       "    </tr>\n",
       "    <tr>\n",
       "      <th>COP</th>\n",
       "      <td>0.856203</td>\n",
       "    </tr>\n",
       "    <tr>\n",
       "      <th>CVX</th>\n",
       "      <td>0.224043</td>\n",
       "    </tr>\n",
       "    <tr>\n",
       "      <th>XOM</th>\n",
       "      <td>0.129943</td>\n",
       "    </tr>\n",
       "  </tbody>\n",
       "</table>\n",
       "</div>"
      ],
      "text/plain": [
       "         Alpha\n",
       "SHEL -0.246536\n",
       "COP   0.856203\n",
       "CVX   0.224043\n",
       "XOM   0.129943"
      ]
     },
     "execution_count": 28,
     "metadata": {},
     "output_type": "execute_result"
    }
   ],
   "source": [
    "%store -r alpha_df\n",
    "alpha_df\n"
   ]
  },
  {
   "cell_type": "code",
   "execution_count": 77,
   "id": "65c6a353-0343-4c15-be2f-92547f304342",
   "metadata": {},
   "outputs": [
    {
     "data": {
      "text/html": [
       "<div>\n",
       "<style scoped>\n",
       "    .dataframe tbody tr th:only-of-type {\n",
       "        vertical-align: middle;\n",
       "    }\n",
       "\n",
       "    .dataframe tbody tr th {\n",
       "        vertical-align: top;\n",
       "    }\n",
       "\n",
       "    .dataframe thead th {\n",
       "        text-align: right;\n",
       "    }\n",
       "</style>\n",
       "<table border=\"1\" class=\"dataframe\">\n",
       "  <thead>\n",
       "    <tr style=\"text-align: right;\">\n",
       "      <th></th>\n",
       "      <th>Outperform %</th>\n",
       "    </tr>\n",
       "  </thead>\n",
       "  <tbody>\n",
       "    <tr>\n",
       "      <th>XOM</th>\n",
       "      <td>0.491525</td>\n",
       "    </tr>\n",
       "    <tr>\n",
       "      <th>CVX</th>\n",
       "      <td>0.542373</td>\n",
       "    </tr>\n",
       "    <tr>\n",
       "      <th>SHEL</th>\n",
       "      <td>0.440678</td>\n",
       "    </tr>\n",
       "    <tr>\n",
       "      <th>COP</th>\n",
       "      <td>0.593220</td>\n",
       "    </tr>\n",
       "  </tbody>\n",
       "</table>\n",
       "</div>"
      ],
      "text/plain": [
       "      Outperform %\n",
       "XOM       0.491525\n",
       "CVX       0.542373\n",
       "SHEL      0.440678\n",
       "COP       0.593220"
      ]
     },
     "execution_count": 77,
     "metadata": {},
     "output_type": "execute_result"
    }
   ],
   "source": [
    "%store -r pct_outperformance_df\n",
    "pct_outperformance_df\n",
    "pct_outperformance_df_pct = pct_outperformance_df/ 59\n",
    "pct_outperformance_df_pct.columns=[\"Outperform %\"]\n",
    "pct_outperformance_df_pct"
   ]
  },
  {
   "cell_type": "code",
   "execution_count": null,
   "id": "5ccfdfaf-0d2c-491d-bc94-8b4e00084d7b",
   "metadata": {},
   "outputs": [],
   "source": [
    "#combine imported statistics into a DataFrame"
   ]
  },
  {
   "cell_type": "code",
   "execution_count": 78,
   "id": "f88ea393-cced-4480-b6be-c21718bcf33d",
   "metadata": {},
   "outputs": [
    {
     "data": {
      "text/html": [
       "<div>\n",
       "<style scoped>\n",
       "    .dataframe tbody tr th:only-of-type {\n",
       "        vertical-align: middle;\n",
       "    }\n",
       "\n",
       "    .dataframe tbody tr th {\n",
       "        vertical-align: top;\n",
       "    }\n",
       "\n",
       "    .dataframe thead th {\n",
       "        text-align: right;\n",
       "    }\n",
       "</style>\n",
       "<table border=\"1\" class=\"dataframe\">\n",
       "  <thead>\n",
       "    <tr style=\"text-align: right;\">\n",
       "      <th></th>\n",
       "      <th>Cumulative Return</th>\n",
       "      <th>Alpha</th>\n",
       "      <th>Outperform %</th>\n",
       "      <th>Beta</th>\n",
       "      <th>Sharpe Ratios</th>\n",
       "      <th>Sortino Ratio</th>\n",
       "    </tr>\n",
       "  </thead>\n",
       "  <tbody>\n",
       "    <tr>\n",
       "      <th>SHEL</th>\n",
       "      <td>0.384815</td>\n",
       "      <td>-0.246536</td>\n",
       "      <td>0.440678</td>\n",
       "      <td>0.768874</td>\n",
       "      <td>0.071999</td>\n",
       "      <td>-0.071382</td>\n",
       "    </tr>\n",
       "    <tr>\n",
       "      <th>COP</th>\n",
       "      <td>130.735318</td>\n",
       "      <td>0.856203</td>\n",
       "      <td>0.593220</td>\n",
       "      <td>0.944026</td>\n",
       "      <td>0.556158</td>\n",
       "      <td>0.190808</td>\n",
       "    </tr>\n",
       "    <tr>\n",
       "      <th>CVX</th>\n",
       "      <td>54.613728</td>\n",
       "      <td>0.224043</td>\n",
       "      <td>0.542373</td>\n",
       "      <td>0.893733</td>\n",
       "      <td>0.371731</td>\n",
       "      <td>0.024329</td>\n",
       "    </tr>\n",
       "    <tr>\n",
       "      <th>XOM</th>\n",
       "      <td>36.398767</td>\n",
       "      <td>0.129943</td>\n",
       "      <td>0.491525</td>\n",
       "      <td>1.285763</td>\n",
       "      <td>0.294456</td>\n",
       "      <td>0.021217</td>\n",
       "    </tr>\n",
       "  </tbody>\n",
       "</table>\n",
       "</div>"
      ],
      "text/plain": [
       "      Cumulative Return     Alpha  Outperform %      Beta  Sharpe Ratios  \\\n",
       "SHEL           0.384815 -0.246536      0.440678  0.768874       0.071999   \n",
       "COP          130.735318  0.856203      0.593220  0.944026       0.556158   \n",
       "CVX           54.613728  0.224043      0.542373  0.893733       0.371731   \n",
       "XOM           36.398767  0.129943      0.491525  1.285763       0.294456   \n",
       "\n",
       "      Sortino Ratio  \n",
       "SHEL      -0.071382  \n",
       "COP        0.190808  \n",
       "CVX        0.024329  \n",
       "XOM        0.021217  "
      ]
     },
     "execution_count": 78,
     "metadata": {},
     "output_type": "execute_result"
    }
   ],
   "source": [
    "criterias_df = pd.concat([cumulative_return_df,alpha_df, pct_outperformance_df_pct, Beta_df,sharpe_ratios,sortino_ratios_df], axis=1)\n",
    "criterias_df = criterias_df.drop(\"IXC\")\n",
    "criterias_df"
   ]
  },
  {
   "cell_type": "code",
   "execution_count": 95,
   "id": "9be18ca0-8137-4cfe-9d4e-cb4ac3f9d412",
   "metadata": {},
   "outputs": [],
   "source": [
    "#Use describe function to get 25th, 50th, and 75th percentiles"
   ]
  },
  {
   "cell_type": "code",
   "execution_count": 194,
   "id": "2aa82a0e-3709-4a1d-82e5-678a9bb13fc1",
   "metadata": {},
   "outputs": [],
   "source": [
    "quartiles_df = criterias_df.describe()"
   ]
  },
  {
   "cell_type": "code",
   "execution_count": null,
   "id": "974a4360-1544-46d1-96b1-0f0f0e09a133",
   "metadata": {},
   "outputs": [],
   "source": [
    "#drop other rows/data that is not needed"
   ]
  },
  {
   "cell_type": "code",
   "execution_count": 141,
   "id": "6339b627-9316-4d49-9396-c343312cbc2c",
   "metadata": {},
   "outputs": [
    {
     "data": {
      "text/html": [
       "<div>\n",
       "<style scoped>\n",
       "    .dataframe tbody tr th:only-of-type {\n",
       "        vertical-align: middle;\n",
       "    }\n",
       "\n",
       "    .dataframe tbody tr th {\n",
       "        vertical-align: top;\n",
       "    }\n",
       "\n",
       "    .dataframe thead th {\n",
       "        text-align: right;\n",
       "    }\n",
       "</style>\n",
       "<table border=\"1\" class=\"dataframe\">\n",
       "  <thead>\n",
       "    <tr style=\"text-align: right;\">\n",
       "      <th></th>\n",
       "      <th>Cumulative Return</th>\n",
       "      <th>Alpha</th>\n",
       "      <th>Outperform %</th>\n",
       "      <th>Beta</th>\n",
       "      <th>Sharpe Ratios</th>\n",
       "      <th>Sortino Ratio</th>\n",
       "    </tr>\n",
       "  </thead>\n",
       "  <tbody>\n",
       "    <tr>\n",
       "      <th>25%</th>\n",
       "      <td>27.395279</td>\n",
       "      <td>0.035824</td>\n",
       "      <td>0.478814</td>\n",
       "      <td>0.862518</td>\n",
       "      <td>0.238842</td>\n",
       "      <td>-0.001933</td>\n",
       "    </tr>\n",
       "    <tr>\n",
       "      <th>50%</th>\n",
       "      <td>45.506247</td>\n",
       "      <td>0.176993</td>\n",
       "      <td>0.516949</td>\n",
       "      <td>0.918879</td>\n",
       "      <td>0.333093</td>\n",
       "      <td>0.022773</td>\n",
       "    </tr>\n",
       "    <tr>\n",
       "      <th>75%</th>\n",
       "      <td>73.644125</td>\n",
       "      <td>0.382083</td>\n",
       "      <td>0.555085</td>\n",
       "      <td>1.029460</td>\n",
       "      <td>0.417837</td>\n",
       "      <td>0.065949</td>\n",
       "    </tr>\n",
       "  </tbody>\n",
       "</table>\n",
       "</div>"
      ],
      "text/plain": [
       "     Cumulative Return     Alpha  Outperform %      Beta  Sharpe Ratios  \\\n",
       "25%          27.395279  0.035824      0.478814  0.862518       0.238842   \n",
       "50%          45.506247  0.176993      0.516949  0.918879       0.333093   \n",
       "75%          73.644125  0.382083      0.555085  1.029460       0.417837   \n",
       "\n",
       "     Sortino Ratio  \n",
       "25%      -0.001933  \n",
       "50%       0.022773  \n",
       "75%       0.065949  "
      ]
     },
     "execution_count": 141,
     "metadata": {},
     "output_type": "execute_result"
    }
   ],
   "source": [
    "quartile_df = quartiles_df.drop(['count', 'mean', 'std', 'min', 'max'])\n",
    "quartile_df "
   ]
  },
  {
   "cell_type": "code",
   "execution_count": null,
   "id": "887b2b78-a1b6-4e90-87bd-1cb554c614c4",
   "metadata": {},
   "outputs": [],
   "source": [
    "#check code to single out specific measurements"
   ]
  },
  {
   "cell_type": "code",
   "execution_count": 139,
   "id": "97a4a312-0ec0-4a30-9088-d5cd27b7c7a4",
   "metadata": {},
   "outputs": [
    {
     "data": {
      "text/plain": [
       "27.395279201512288"
      ]
     },
     "execution_count": 139,
     "metadata": {},
     "output_type": "execute_result"
    }
   ],
   "source": [
    "quartile_df.loc[\"25%\", \"Cumulative Return\"]"
   ]
  },
  {
   "cell_type": "code",
   "execution_count": 142,
   "id": "2932ad13-71a2-46d2-ac80-099341e456e8",
   "metadata": {},
   "outputs": [
    {
     "data": {
      "text/plain": [
       "45.50624746296711"
      ]
     },
     "execution_count": 142,
     "metadata": {},
     "output_type": "execute_result"
    }
   ],
   "source": [
    "quartile_df.loc[\"50%\", \"Cumulative Return\"]"
   ]
  },
  {
   "cell_type": "code",
   "execution_count": 143,
   "id": "998b7d1a-29ea-4dc7-8fdb-4fd2e050e02c",
   "metadata": {},
   "outputs": [
    {
     "data": {
      "text/plain": [
       "73.64412534048343"
      ]
     },
     "execution_count": 143,
     "metadata": {},
     "output_type": "execute_result"
    }
   ],
   "source": [
    "quartile_df.loc[\"75%\", \"Cumulative Return\"]"
   ]
  },
  {
   "cell_type": "code",
   "execution_count": null,
   "id": "60c45eae-ade1-4da1-ab04-31b42cbf0cc4",
   "metadata": {},
   "outputs": [],
   "source": [
    "#Code for the points system to assign 0,1,2,3 points to each qualrtile repsectively and add up the points for each stock."
   ]
  },
  {
   "cell_type": "code",
   "execution_count": 150,
   "id": "0b7102ff-41f1-4954-9bc7-c2f4ae0c687b",
   "metadata": {},
   "outputs": [
    {
     "name": "stdout",
     "output_type": "stream",
     "text": [
      "0\n"
     ]
    }
   ],
   "source": [
    "points = 0\n",
    "\n",
    "if criterias_df.loc[\"SHEL\", \"Cumulative Return\"] < quartile_df.loc[\"25%\", \"Cumulative Return\"]:\n",
    "    points = 0\n",
    "elif criterias_df.loc[\"SHEL\", \"Cumulative Return\"] < quartile_df.loc[\"50%\", \"Cumulative Return\"]:\n",
    "    points = 1\n",
    "elif criterias_df.loc[\"SHEL\", \"Cumulative Return\"]< quartile_df.loc[\"75%\", \"Cumulative Return\"]:\n",
    "    points = 2\n",
    "elif criterias_df.loc[\"SHEL\", \"Cumulative Return\"] > quartile_df.loc[\"75%\", \"Cumulative Return\"]:\n",
    "    points = 3\n",
    "\n",
    "print(points)"
   ]
  },
  {
   "cell_type": "code",
   "execution_count": 151,
   "id": "35d8f973-6720-4e7e-a244-99873c049e20",
   "metadata": {},
   "outputs": [
    {
     "name": "stdout",
     "output_type": "stream",
     "text": [
      "3\n"
     ]
    }
   ],
   "source": [
    "points = 0\n",
    "\n",
    "if criterias_df.loc[\"COP\", \"Cumulative Return\"] < quartile_df.loc[\"25%\", \"Cumulative Return\"]:\n",
    "    points = 0\n",
    "elif criterias_df.loc[\"COP\", \"Cumulative Return\"] < quartile_df.loc[\"50%\", \"Cumulative Return\"]:\n",
    "    points = 1\n",
    "elif criterias_df.loc[\"COP\", \"Cumulative Return\"]< quartile_df.loc[\"75%\", \"Cumulative Return\"]:\n",
    "    points = 2\n",
    "elif criterias_df.loc[\"COP\", \"Cumulative Return\"] > quartile_df.loc[\"75%\", \"Cumulative Return\"]:\n",
    "    points = 3\n",
    "\n",
    "print(points)"
   ]
  },
  {
   "cell_type": "code",
   "execution_count": 160,
   "id": "57768483-a758-45f3-8983-01b2a810d59d",
   "metadata": {},
   "outputs": [],
   "source": [
    "def total_points(Ticker):\n",
    "    if criterias_df.loc[Ticker, \"Cumulative Return\"] < quartile_df.loc[\"25%\", \"Cumulative Return\"]:\n",
    "        points = 0\n",
    "    elif criterias_df.loc[Ticker, \"Cumulative Return\"] < quartile_df.loc[\"50%\", \"Cumulative Return\"]:\n",
    "        points = 1\n",
    "    elif criterias_df.loc[Ticker, \"Cumulative Return\"]< quartile_df.loc[\"75%\", \"Cumulative Return\"]:\n",
    "        points = 2\n",
    "    elif criterias_df.loc[Ticker, \"Cumulative Return\"] > quartile_df.loc[\"75%\", \"Cumulative Return\"]:\n",
    "        points = 3\n",
    "    print(points)\n"
   ]
  },
  {
   "cell_type": "code",
   "execution_count": 162,
   "id": "44251ffb-1bbe-4ff3-bee5-b38446222ff7",
   "metadata": {},
   "outputs": [
    {
     "name": "stdout",
     "output_type": "stream",
     "text": [
      "1\n"
     ]
    }
   ],
   "source": [
    "total_points(\"XOM\")"
   ]
  },
  {
   "cell_type": "code",
   "execution_count": 196,
   "id": "958e3222-bf1e-4df5-86ee-73bf5e73767c",
   "metadata": {},
   "outputs": [],
   "source": [
    "def total_points(Ticker, Column):\n",
    "    if criterias_df.loc[Ticker, Column] < quartile_df.loc[\"25%\", Column]:\n",
    "        points = 0\n",
    "    elif criterias_df.loc[Ticker, Column] < quartile_df.loc[\"50%\", Column]:\n",
    "        points = 1\n",
    "    elif criterias_df.loc[Ticker, Column]< quartile_df.loc[\"75%\", Column]:\n",
    "        points = 2\n",
    "    elif criterias_df.loc[Ticker, Column] > quartile_df.loc[\"75%\", Column]:\n",
    "        points = 3\n",
    "    \n",
    "    return points"
   ]
  },
  {
   "cell_type": "code",
   "execution_count": 204,
   "id": "493a19f3-2e20-4531-827e-07250ff135b9",
   "metadata": {},
   "outputs": [
    {
     "data": {
      "text/plain": [
       "8"
      ]
     },
     "execution_count": 204,
     "metadata": {},
     "output_type": "execute_result"
    }
   ],
   "source": [
    "XOM_points = (total_points(\"XOM\",\"Cumulative Return\") + total_points(\"XOM\",\"Alpha\") + total_points(\"XOM\",\"Outperform %\") + \n",
    "              total_points(\"XOM\", \"Beta\") + total_points(\"XOM\",\"Sharpe Ratios\") + total_points(\"XOM\",\"Sortino Ratio\"))\n",
    "XOM_points"
   ]
  },
  {
   "cell_type": "code",
   "execution_count": 198,
   "id": "afe8e4fe-2503-4dc9-8829-143dc08865ff",
   "metadata": {},
   "outputs": [
    {
     "data": {
      "text/plain": [
       "17"
      ]
     },
     "execution_count": 198,
     "metadata": {},
     "output_type": "execute_result"
    }
   ],
   "source": [
    "COP_points = total_points(\"COP\",\"Cumulative Return\") + total_points(\"COP\",\"Alpha\") + total_points(\"COP\",\"Outperform %\") + total_points(\"COP\", \"Beta\") + total_points(\"COP\",\"Sharpe Ratios\") + total_points(\"COP\",\"Sortino Ratio\")\n",
    "COP_points"
   ]
  },
  {
   "cell_type": "code",
   "execution_count": 205,
   "id": "e77fb30d-bc4e-4372-91e0-1619d31fc29e",
   "metadata": {},
   "outputs": [
    {
     "data": {
      "text/plain": [
       "0"
      ]
     },
     "execution_count": 205,
     "metadata": {},
     "output_type": "execute_result"
    }
   ],
   "source": [
    "SHEL_points = (total_points(\"SHEL\",\"Cumulative Return\") + total_points(\"SHEL\",\"Alpha\") + total_points(\"SHEL\",\"Outperform %\") + \n",
    "              total_points(\"SHEL\", \"Beta\") + total_points(\"SHEL\",\"Sharpe Ratios\") + total_points(\"SHEL\",\"Sortino Ratio\"))\n",
    "SHEL_points"
   ]
  },
  {
   "cell_type": "code",
   "execution_count": 206,
   "id": "62a0af05-d112-462b-876a-14b0ab61f1fd",
   "metadata": {},
   "outputs": [
    {
     "data": {
      "text/plain": [
       "11"
      ]
     },
     "execution_count": 206,
     "metadata": {},
     "output_type": "execute_result"
    }
   ],
   "source": [
    "CVX_points = (total_points(\"CVX\",\"Cumulative Return\") + total_points(\"CVX\",\"Alpha\") + total_points(\"CVX\",\"Outperform %\") + \n",
    "              total_points(\"CVX\", \"Beta\") + total_points(\"CVX\",\"Sharpe Ratios\") + total_points(\"CVX\",\"Sortino Ratio\"))\n",
    "CVX_points"
   ]
  },
  {
   "cell_type": "code",
   "execution_count": 221,
   "id": "663d1ca6-4b85-4c76-8c1a-d6f372c67e0a",
   "metadata": {},
   "outputs": [
    {
     "data": {
      "text/html": [
       "<div>\n",
       "<style scoped>\n",
       "    .dataframe tbody tr th:only-of-type {\n",
       "        vertical-align: middle;\n",
       "    }\n",
       "\n",
       "    .dataframe tbody tr th {\n",
       "        vertical-align: top;\n",
       "    }\n",
       "\n",
       "    .dataframe thead th {\n",
       "        text-align: right;\n",
       "    }\n",
       "</style>\n",
       "<table border=\"1\" class=\"dataframe\">\n",
       "  <thead>\n",
       "    <tr style=\"text-align: right;\">\n",
       "      <th></th>\n",
       "      <th>Total Points</th>\n",
       "    </tr>\n",
       "  </thead>\n",
       "  <tbody>\n",
       "    <tr>\n",
       "      <th>SHEL</th>\n",
       "      <td>0</td>\n",
       "    </tr>\n",
       "    <tr>\n",
       "      <th>XOM</th>\n",
       "      <td>8</td>\n",
       "    </tr>\n",
       "    <tr>\n",
       "      <th>CVX</th>\n",
       "      <td>11</td>\n",
       "    </tr>\n",
       "    <tr>\n",
       "      <th>COP</th>\n",
       "      <td>17</td>\n",
       "    </tr>\n",
       "  </tbody>\n",
       "</table>\n",
       "</div>"
      ],
      "text/plain": [
       "      Total Points\n",
       "SHEL             0\n",
       "XOM              8\n",
       "CVX             11\n",
       "COP             17"
      ]
     },
     "execution_count": 221,
     "metadata": {},
     "output_type": "execute_result"
    }
   ],
   "source": [
    "Talley_Points = [CVX_points,SHEL_points,COP_points,XOM_points]\n",
    "\n",
    "Total_Points_df = pd.DataFrame(Talley_Points, index=[\"CVX\", \"SHEL\", \"COP\", \"XOM\"], columns=[\"Total Points\"])\n",
    "Total_Points_df.sort_values(by=\"Total Points\")\n"
   ]
  },
  {
   "cell_type": "code",
   "execution_count": null,
   "id": "de5bb2b7-7941-4d96-a085-5481e40b41b8",
   "metadata": {},
   "outputs": [],
   "source": [
    "#COP IS THE CHOICE"
   ]
  }
 ],
 "metadata": {
  "kernelspec": {
   "display_name": "Python 3 (ipykernel)",
   "language": "python",
   "name": "python3"
  },
  "language_info": {
   "codemirror_mode": {
    "name": "ipython",
    "version": 3
   },
   "file_extension": ".py",
   "mimetype": "text/x-python",
   "name": "python",
   "nbconvert_exporter": "python",
   "pygments_lexer": "ipython3",
   "version": "3.7.13"
  }
 },
 "nbformat": 4,
 "nbformat_minor": 5
}
