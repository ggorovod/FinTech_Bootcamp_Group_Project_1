{
 "cells": [
  {
   "cell_type": "code",
   "execution_count": null,
   "id": "613250d9-1d56-410e-a786-153244d73848",
   "metadata": {},
   "outputs": [],
   "source": [
    "import pandas as pd\n",
    "import numpy as np\n",
    "from pathlib import Path\n",
    "\n",
    "%matplotlib inline"
   ]
  },
  {
   "cell_type": "code",
   "execution_count": null,
   "id": "a88f8df6-ceeb-47ba-8931-ebe6d3310a8a",
   "metadata": {},
   "outputs": [],
   "source": [
    "#Importing all csv files (4 stocks, ETF, and 10yr T-Bill)"
   ]
  },
  {
   "cell_type": "code",
   "execution_count": 58,
   "id": "05fdc6db-e629-4b3f-bc97-88da5607767a",
   "metadata": {},
   "outputs": [],
   "source": [
    "shel_df = pd.read_csv(Path('data/SHEL_5yr_time_series.csv'), \n",
    "                index_col = 'Date',\n",
    "                parse_dates = True,\n",
    "                infer_datetime_format = True,                      \n",
    "                     )\n",
    "shel_df = shel_df[\"Adj Close\"]"
   ]
  },
  {
   "cell_type": "code",
   "execution_count": 59,
   "id": "1621e870-25b2-4a4d-a574-8c859f633bfb",
   "metadata": {},
   "outputs": [],
   "source": [
    "xom_df = pd.read_csv(Path('data/XOM_5yr_time_series.csv'),\n",
    "                index_col = 'Date',\n",
    "                    parse_dates = True,\n",
    "                      infer_datetime_format = True,\n",
    "                      \n",
    "                     )\n",
    "xom_df = xom_df[\"Adj Close\"]"
   ]
  },
  {
   "cell_type": "code",
   "execution_count": 60,
   "id": "c49dc28e-8aca-4ca8-8893-dd669838a9a1",
   "metadata": {},
   "outputs": [],
   "source": [
    "cvx_df = pd.read_csv(Path('data/CVX_5yr_time_series.csv'),\n",
    "                index_col = 'Date',\n",
    "                    parse_dates = True,\n",
    "                      infer_datetime_format = True,\n",
    "                      \n",
    "                     )\n",
    "cvx_df = cvx_df[\"Adj Close\"]"
   ]
  },
  {
   "cell_type": "code",
   "execution_count": 61,
   "id": "777e5a51-93c9-4ad2-9018-e77b57873f94",
   "metadata": {},
   "outputs": [],
   "source": [
    "cop_df = pd.read_csv(Path('data/COP_5yr_time_series.csv'),\n",
    "                index_col = 'Date',\n",
    "                    parse_dates = True,\n",
    "                      infer_datetime_format = True,\n",
    "                      \n",
    "                     )\n",
    "cop_df = cop_df[\"Adj Close\"]"
   ]
  },
  {
   "cell_type": "code",
   "execution_count": 62,
   "id": "46f5b6da-b0a0-4d30-8e79-68d8b2528ed4",
   "metadata": {},
   "outputs": [],
   "source": [
    "ixc_df = pd.read_csv(Path('data/IXC_5yr_time_series.csv'),\n",
    "                index_col = 'Date',\n",
    "                    parse_dates = True,\n",
    "                      infer_datetime_format = True,\n",
    "                      \n",
    "                     )\n",
    "ixc_df = ixc_df[\"Adj Close\"]"
   ]
  },
  {
   "cell_type": "code",
   "execution_count": 63,
   "id": "a044823d-b5e3-438a-bdc6-f4d9ea0fb1ef",
   "metadata": {},
   "outputs": [],
   "source": [
    "treasury_df = pd.read_csv(Path('data/10_yr_treasury_5yr_time_series.csv'),\n",
    "                index_col = 'Date',\n",
    "                    parse_dates = True,\n",
    "                      infer_datetime_format = True,\n",
    "                      \n",
    "                     )\n",
    "treasury_df = treasury_df[\"Adj Close\"]"
   ]
  },
  {
   "cell_type": "code",
   "execution_count": 64,
   "id": "5d8b8e7a-9f00-4c2c-9e07-55332b235c08",
   "metadata": {},
   "outputs": [],
   "source": [
    "#Combining the 4 stocks and ETF into a DataFrame (energy_stocks_df)"
   ]
  },
  {
   "cell_type": "code",
   "execution_count": 65,
   "id": "4412d68b-109b-4e71-bbfe-5e15f0730634",
   "metadata": {},
   "outputs": [],
   "source": [
    "energy_stocks_df = pd.concat([shel_df, cop_df,cvx_df,xom_df,ixc_df],\n",
    "                            axis=1)\n",
    "energy_stocks_df=energy_stocks_df.set_axis(['SHEL', 'COP', 'CVX','XOM', 'IXC'], axis=1)"
   ]
  },
  {
   "cell_type": "code",
   "execution_count": 66,
   "id": "8c36d881-13c9-456b-b61f-7f69a0bab705",
   "metadata": {},
   "outputs": [
    {
     "data": {
      "text/html": [
       "<div>\n",
       "<style scoped>\n",
       "    .dataframe tbody tr th:only-of-type {\n",
       "        vertical-align: middle;\n",
       "    }\n",
       "\n",
       "    .dataframe tbody tr th {\n",
       "        vertical-align: top;\n",
       "    }\n",
       "\n",
       "    .dataframe thead th {\n",
       "        text-align: right;\n",
       "    }\n",
       "</style>\n",
       "<table border=\"1\" class=\"dataframe\">\n",
       "  <thead>\n",
       "    <tr style=\"text-align: right;\">\n",
       "      <th></th>\n",
       "      <th>SHEL</th>\n",
       "      <th>COP</th>\n",
       "      <th>CVX</th>\n",
       "      <th>XOM</th>\n",
       "      <th>IXC</th>\n",
       "    </tr>\n",
       "    <tr>\n",
       "      <th>Date</th>\n",
       "      <th></th>\n",
       "      <th></th>\n",
       "      <th></th>\n",
       "      <th></th>\n",
       "      <th></th>\n",
       "    </tr>\n",
       "  </thead>\n",
       "  <tbody>\n",
       "    <tr>\n",
       "      <th>2017-10-01</th>\n",
       "      <td>49.569248</td>\n",
       "      <td>43.725098</td>\n",
       "      <td>92.921890</td>\n",
       "      <td>64.010841</td>\n",
       "      <td>27.338148</td>\n",
       "    </tr>\n",
       "    <tr>\n",
       "      <th>2017-11-01</th>\n",
       "      <td>50.426472</td>\n",
       "      <td>43.726921</td>\n",
       "      <td>95.407494</td>\n",
       "      <td>63.964775</td>\n",
       "      <td>27.707043</td>\n",
       "    </tr>\n",
       "    <tr>\n",
       "      <th>2017-12-01</th>\n",
       "      <td>53.255947</td>\n",
       "      <td>47.173164</td>\n",
       "      <td>101.318382</td>\n",
       "      <td>64.828041</td>\n",
       "      <td>28.508978</td>\n",
       "    </tr>\n",
       "    <tr>\n",
       "      <th>2018-01-01</th>\n",
       "      <td>56.074009</td>\n",
       "      <td>50.542061</td>\n",
       "      <td>101.447868</td>\n",
       "      <td>67.664841</td>\n",
       "      <td>29.981033</td>\n",
       "    </tr>\n",
       "    <tr>\n",
       "      <th>2018-02-01</th>\n",
       "      <td>50.509724</td>\n",
       "      <td>46.674702</td>\n",
       "      <td>90.578758</td>\n",
       "      <td>58.704857</td>\n",
       "      <td>27.226599</td>\n",
       "    </tr>\n",
       "  </tbody>\n",
       "</table>\n",
       "</div>"
      ],
      "text/plain": [
       "                 SHEL        COP         CVX        XOM        IXC\n",
       "Date                                                              \n",
       "2017-10-01  49.569248  43.725098   92.921890  64.010841  27.338148\n",
       "2017-11-01  50.426472  43.726921   95.407494  63.964775  27.707043\n",
       "2017-12-01  53.255947  47.173164  101.318382  64.828041  28.508978\n",
       "2018-01-01  56.074009  50.542061  101.447868  67.664841  29.981033\n",
       "2018-02-01  50.509724  46.674702   90.578758  58.704857  27.226599"
      ]
     },
     "metadata": {},
     "output_type": "display_data"
    },
    {
     "data": {
      "text/html": [
       "<div>\n",
       "<style scoped>\n",
       "    .dataframe tbody tr th:only-of-type {\n",
       "        vertical-align: middle;\n",
       "    }\n",
       "\n",
       "    .dataframe tbody tr th {\n",
       "        vertical-align: top;\n",
       "    }\n",
       "\n",
       "    .dataframe thead th {\n",
       "        text-align: right;\n",
       "    }\n",
       "</style>\n",
       "<table border=\"1\" class=\"dataframe\">\n",
       "  <thead>\n",
       "    <tr style=\"text-align: right;\">\n",
       "      <th></th>\n",
       "      <th>SHEL</th>\n",
       "      <th>COP</th>\n",
       "      <th>CVX</th>\n",
       "      <th>XOM</th>\n",
       "      <th>IXC</th>\n",
       "    </tr>\n",
       "    <tr>\n",
       "      <th>Date</th>\n",
       "      <th></th>\n",
       "      <th></th>\n",
       "      <th></th>\n",
       "      <th></th>\n",
       "      <th></th>\n",
       "    </tr>\n",
       "  </thead>\n",
       "  <tbody>\n",
       "    <tr>\n",
       "      <th>2022-05-01</th>\n",
       "      <td>58.160614</td>\n",
       "      <td>108.933136</td>\n",
       "      <td>171.674988</td>\n",
       "      <td>94.112198</td>\n",
       "      <td>39.707764</td>\n",
       "    </tr>\n",
       "    <tr>\n",
       "      <th>2022-06-01</th>\n",
       "      <td>51.797909</td>\n",
       "      <td>87.461830</td>\n",
       "      <td>143.476334</td>\n",
       "      <td>84.815910</td>\n",
       "      <td>33.274773</td>\n",
       "    </tr>\n",
       "    <tr>\n",
       "      <th>2022-07-01</th>\n",
       "      <td>52.877651</td>\n",
       "      <td>95.618851</td>\n",
       "      <td>162.305252</td>\n",
       "      <td>95.997269</td>\n",
       "      <td>36.250000</td>\n",
       "    </tr>\n",
       "    <tr>\n",
       "      <th>2022-08-01</th>\n",
       "      <td>52.481411</td>\n",
       "      <td>107.415405</td>\n",
       "      <td>156.636765</td>\n",
       "      <td>94.670158</td>\n",
       "      <td>36.900002</td>\n",
       "    </tr>\n",
       "    <tr>\n",
       "      <th>2022-09-01</th>\n",
       "      <td>49.759998</td>\n",
       "      <td>100.889244</td>\n",
       "      <td>143.669998</td>\n",
       "      <td>87.309998</td>\n",
       "      <td>33.330002</td>\n",
       "    </tr>\n",
       "  </tbody>\n",
       "</table>\n",
       "</div>"
      ],
      "text/plain": [
       "                 SHEL         COP         CVX        XOM        IXC\n",
       "Date                                                               \n",
       "2022-05-01  58.160614  108.933136  171.674988  94.112198  39.707764\n",
       "2022-06-01  51.797909   87.461830  143.476334  84.815910  33.274773\n",
       "2022-07-01  52.877651   95.618851  162.305252  95.997269  36.250000\n",
       "2022-08-01  52.481411  107.415405  156.636765  94.670158  36.900002\n",
       "2022-09-01  49.759998  100.889244  143.669998  87.309998  33.330002"
      ]
     },
     "metadata": {},
     "output_type": "display_data"
    }
   ],
   "source": [
    "display(energy_stocks_df.head())\n",
    "display(energy_stocks_df.tail())"
   ]
  },
  {
   "cell_type": "code",
   "execution_count": 67,
   "id": "78092e52-e089-4fcb-a136-77321a6641f5",
   "metadata": {},
   "outputs": [
    {
     "data": {
      "text/html": [
       "<div>\n",
       "<style scoped>\n",
       "    .dataframe tbody tr th:only-of-type {\n",
       "        vertical-align: middle;\n",
       "    }\n",
       "\n",
       "    .dataframe tbody tr th {\n",
       "        vertical-align: top;\n",
       "    }\n",
       "\n",
       "    .dataframe thead th {\n",
       "        text-align: right;\n",
       "    }\n",
       "</style>\n",
       "<table border=\"1\" class=\"dataframe\">\n",
       "  <thead>\n",
       "    <tr style=\"text-align: right;\">\n",
       "      <th></th>\n",
       "      <th>SHEL</th>\n",
       "      <th>COP</th>\n",
       "      <th>CVX</th>\n",
       "      <th>XOM</th>\n",
       "      <th>IXC</th>\n",
       "    </tr>\n",
       "    <tr>\n",
       "      <th>Date</th>\n",
       "      <th></th>\n",
       "      <th></th>\n",
       "      <th></th>\n",
       "      <th></th>\n",
       "      <th></th>\n",
       "    </tr>\n",
       "  </thead>\n",
       "  <tbody>\n",
       "    <tr>\n",
       "      <th>2017-11-01</th>\n",
       "      <td>0.017293</td>\n",
       "      <td>0.000042</td>\n",
       "      <td>0.026749</td>\n",
       "      <td>-0.000720</td>\n",
       "      <td>0.013494</td>\n",
       "    </tr>\n",
       "    <tr>\n",
       "      <th>2017-12-01</th>\n",
       "      <td>0.056111</td>\n",
       "      <td>0.078813</td>\n",
       "      <td>0.061954</td>\n",
       "      <td>0.013496</td>\n",
       "      <td>0.028943</td>\n",
       "    </tr>\n",
       "    <tr>\n",
       "      <th>2018-01-01</th>\n",
       "      <td>0.052915</td>\n",
       "      <td>0.071416</td>\n",
       "      <td>0.001278</td>\n",
       "      <td>0.043759</td>\n",
       "      <td>0.051635</td>\n",
       "    </tr>\n",
       "    <tr>\n",
       "      <th>2018-02-01</th>\n",
       "      <td>-0.099231</td>\n",
       "      <td>-0.076518</td>\n",
       "      <td>-0.107140</td>\n",
       "      <td>-0.132417</td>\n",
       "      <td>-0.091873</td>\n",
       "    </tr>\n",
       "    <tr>\n",
       "      <th>2018-03-01</th>\n",
       "      <td>0.023208</td>\n",
       "      <td>0.097571</td>\n",
       "      <td>0.029085</td>\n",
       "      <td>-0.004846</td>\n",
       "      <td>0.017061</td>\n",
       "    </tr>\n",
       "  </tbody>\n",
       "</table>\n",
       "</div>"
      ],
      "text/plain": [
       "                SHEL       COP       CVX       XOM       IXC\n",
       "Date                                                        \n",
       "2017-11-01  0.017293  0.000042  0.026749 -0.000720  0.013494\n",
       "2017-12-01  0.056111  0.078813  0.061954  0.013496  0.028943\n",
       "2018-01-01  0.052915  0.071416  0.001278  0.043759  0.051635\n",
       "2018-02-01 -0.099231 -0.076518 -0.107140 -0.132417 -0.091873\n",
       "2018-03-01  0.023208  0.097571  0.029085 -0.004846  0.017061"
      ]
     },
     "execution_count": 67,
     "metadata": {},
     "output_type": "execute_result"
    }
   ],
   "source": [
    "#Calculating Pct Change for each stock and ETF\n",
    "energy_stocks_returns = energy_stocks_df.pct_change().dropna()\n",
    "energy_stocks_returns.head()"
   ]
  },
  {
   "cell_type": "code",
   "execution_count": 68,
   "id": "d921a75b-57e0-499b-95e8-a60d603d194a",
   "metadata": {},
   "outputs": [
    {
     "data": {
      "text/html": [
       "<div>\n",
       "<style scoped>\n",
       "    .dataframe tbody tr th:only-of-type {\n",
       "        vertical-align: middle;\n",
       "    }\n",
       "\n",
       "    .dataframe tbody tr th {\n",
       "        vertical-align: top;\n",
       "    }\n",
       "\n",
       "    .dataframe thead th {\n",
       "        text-align: right;\n",
       "    }\n",
       "</style>\n",
       "<table border=\"1\" class=\"dataframe\">\n",
       "  <thead>\n",
       "    <tr style=\"text-align: right;\">\n",
       "      <th></th>\n",
       "      <th>SHEL</th>\n",
       "      <th>COP</th>\n",
       "      <th>CVX</th>\n",
       "      <th>XOM</th>\n",
       "      <th>IXC</th>\n",
       "    </tr>\n",
       "  </thead>\n",
       "  <tbody>\n",
       "    <tr>\n",
       "      <th>count</th>\n",
       "      <td>59.000000</td>\n",
       "      <td>59.000000</td>\n",
       "      <td>59.000000</td>\n",
       "      <td>59.000000</td>\n",
       "      <td>59.000000</td>\n",
       "    </tr>\n",
       "    <tr>\n",
       "      <th>mean</th>\n",
       "      <td>0.003372</td>\n",
       "      <td>0.022062</td>\n",
       "      <td>0.011348</td>\n",
       "      <td>0.009753</td>\n",
       "      <td>0.007550</td>\n",
       "    </tr>\n",
       "    <tr>\n",
       "      <th>std</th>\n",
       "      <td>0.083087</td>\n",
       "      <td>0.127172</td>\n",
       "      <td>0.090419</td>\n",
       "      <td>0.095385</td>\n",
       "      <td>0.091319</td>\n",
       "    </tr>\n",
       "    <tr>\n",
       "      <th>min</th>\n",
       "      <td>-0.193181</td>\n",
       "      <td>-0.359397</td>\n",
       "      <td>-0.214625</td>\n",
       "      <td>-0.251261</td>\n",
       "      <td>-0.303505</td>\n",
       "    </tr>\n",
       "    <tr>\n",
       "      <th>25%</th>\n",
       "      <td>-0.036032</td>\n",
       "      <td>-0.053558</td>\n",
       "      <td>-0.036378</td>\n",
       "      <td>-0.051917</td>\n",
       "      <td>-0.031599</td>\n",
       "    </tr>\n",
       "    <tr>\n",
       "      <th>50%</th>\n",
       "      <td>0.007776</td>\n",
       "      <td>0.021637</td>\n",
       "      <td>0.001278</td>\n",
       "      <td>0.013496</td>\n",
       "      <td>0.011879</td>\n",
       "    </tr>\n",
       "    <tr>\n",
       "      <th>75%</th>\n",
       "      <td>0.049016</td>\n",
       "      <td>0.087797</td>\n",
       "      <td>0.057910</td>\n",
       "      <td>0.068143</td>\n",
       "      <td>0.047991</td>\n",
       "    </tr>\n",
       "    <tr>\n",
       "      <th>max</th>\n",
       "      <td>0.324462</td>\n",
       "      <td>0.399247</td>\n",
       "      <td>0.269666</td>\n",
       "      <td>0.241379</td>\n",
       "      <td>0.289203</td>\n",
       "    </tr>\n",
       "  </tbody>\n",
       "</table>\n",
       "</div>"
      ],
      "text/plain": [
       "            SHEL        COP        CVX        XOM        IXC\n",
       "count  59.000000  59.000000  59.000000  59.000000  59.000000\n",
       "mean    0.003372   0.022062   0.011348   0.009753   0.007550\n",
       "std     0.083087   0.127172   0.090419   0.095385   0.091319\n",
       "min    -0.193181  -0.359397  -0.214625  -0.251261  -0.303505\n",
       "25%    -0.036032  -0.053558  -0.036378  -0.051917  -0.031599\n",
       "50%     0.007776   0.021637   0.001278   0.013496   0.011879\n",
       "75%     0.049016   0.087797   0.057910   0.068143   0.047991\n",
       "max     0.324462   0.399247   0.269666   0.241379   0.289203"
      ]
     },
     "execution_count": 68,
     "metadata": {},
     "output_type": "execute_result"
    }
   ],
   "source": [
    "#Generating Summary Statistics for the Returns \n",
    "energy_stocks_returns.describe()"
   ]
  },
  {
   "cell_type": "code",
   "execution_count": 69,
   "id": "5f25e952-d987-4f35-8d3f-549555beb328",
   "metadata": {},
   "outputs": [
    {
     "data": {
      "text/plain": [
       "<AxesSubplot:title={'center':'Box Plot of Returns'}>"
      ]
     },
     "execution_count": 69,
     "metadata": {},
     "output_type": "execute_result"
    },
    {
     "data": {
      "image/png": "[encoded data removed]",
      "text/plain": [
       "<Figure size 1080x720 with 1 Axes>"
      ]
     },
     "metadata": {
      "needs_background": "light"
     },
     "output_type": "display_data"
    }
   ],
   "source": [
    "#creating a box plot for the spread/range of returns\n",
    "energy_stocks_returns.plot.box(figsize=(15,10), title=\"Box Plot of Returns\")"
   ]
  },
  {
   "cell_type": "code",
   "execution_count": 70,
   "id": "60c121ed-2edc-4779-8651-46e246c53b56",
   "metadata": {},
   "outputs": [],
   "source": [
    "#We can see that SHEL appears to be the least volatile stock, less volatile than the ETF IXC, CVX is second"
   ]
  },
  {
   "cell_type": "code",
   "execution_count": 73,
   "id": "00a1bb98-731f-4ebc-9c61-8fb4d49e27e8",
   "metadata": {},
   "outputs": [
    {
     "name": "stdout",
     "output_type": "stream",
     "text": [
      "Standard_Deviations\n"
     ]
    },
    {
     "data": {
      "text/plain": [
       "SHEL    0.083087\n",
       "CVX     0.090419\n",
       "IXC     0.091319\n",
       "XOM     0.095385\n",
       "COP     0.127172\n",
       "dtype: float64"
      ]
     },
     "execution_count": 73,
     "metadata": {},
     "output_type": "execute_result"
    }
   ],
   "source": [
    "#Calculating and Annualizing Standard Deviation for Each Stock and ETF\n",
    "months_in_year = 12\n",
    "standard_deviation = energy_stocks_returns.std()\n",
    "annualized_standard_deviation = standard_deviation * np.sqrt(months_in_year) \n",
    "\n",
    "print(\"Standard_Deviations\")\n",
    "standard_deviation.sort_values()"
   ]
  },
  {
   "cell_type": "code",
   "execution_count": 72,
   "id": "c072f750-cddc-4e8a-989a-761f69eba416",
   "metadata": {},
   "outputs": [
    {
     "name": "stdout",
     "output_type": "stream",
     "text": [
      "Annualized_Standard_Deviations\n"
     ]
    },
    {
     "data": {
      "text/plain": [
       "SHEL    0.287822\n",
       "CVX     0.313222\n",
       "IXC     0.316337\n",
       "XOM     0.330423\n",
       "COP     0.440538\n",
       "dtype: float64"
      ]
     },
     "execution_count": 72,
     "metadata": {},
     "output_type": "execute_result"
    }
   ],
   "source": [
    "print(\"Annualized_Standard_Deviations\")\n",
    "annualized_standard_deviation.sort_values()"
   ]
  },
  {
   "cell_type": "code",
   "execution_count": 74,
   "id": "0dcffcea-09f1-46f0-aadc-e9b6e539744f",
   "metadata": {},
   "outputs": [
    {
     "data": {
      "text/plain": [
       "SHEL    0.040461\n",
       "IXC     0.090604\n",
       "XOM     0.117033\n",
       "CVX     0.136172\n",
       "COP     0.264747\n",
       "dtype: float64"
      ]
     },
     "execution_count": 74,
     "metadata": {},
     "output_type": "execute_result"
    }
   ],
   "source": [
    "#Calculating the Annualized Avg Returns\n",
    "annualized_energy_stock_returns = energy_stocks_returns.mean() * months_in_year\n",
    "\n",
    "annualized_energy_stock_returns.sort_values()"
   ]
  },
  {
   "cell_type": "code",
   "execution_count": 88,
   "id": "c42dac20-cf7d-415a-bd93-e55544628ce3",
   "metadata": {},
   "outputs": [
    {
     "data": {
      "text/plain": [
       "0.019737833333333326"
      ]
     },
     "execution_count": 88,
     "metadata": {},
     "output_type": "execute_result"
    }
   ],
   "source": [
    "#Get the Risk Free Rate from treasury_df\n",
    "risk_free_rate = treasury_df.mean() / 100\n",
    "\n",
    "risk_free_rate "
   ]
  },
  {
   "cell_type": "code",
   "execution_count": 89,
   "id": "afbfd2ea-f2e0-48cd-af75-dc29c838a3a7",
   "metadata": {},
   "outputs": [
    {
     "data": {
      "text/plain": [
       "SHEL    0.071999\n",
       "COP     0.556158\n",
       "CVX     0.371731\n",
       "XOM     0.294456\n",
       "IXC     0.224020\n",
       "dtype: float64"
      ]
     },
     "execution_count": 89,
     "metadata": {},
     "output_type": "execute_result"
    }
   ],
   "source": [
    "#Calculate the Sharpe Ratio for each stock and ETF.\n",
    "\n",
    "sharpe_ratios = (annualized_energy_stock_returns - risk_free_rate) / annualized_standard_deviation\n",
    "\n",
    "sharpe_ratios"
   ]
  },
  {
   "cell_type": "code",
   "execution_count": 91,
   "id": "775305cb-4d59-42cc-a97a-f7430f5a3a4f",
   "metadata": {},
   "outputs": [
    {
     "data": {
      "text/plain": [
       "<AxesSubplot:title={'center':'Sharpe Ratios'}>"
      ]
     },
     "execution_count": 91,
     "metadata": {},
     "output_type": "execute_result"
    },
    {
     "data": {
      "image/png": "[encoded data removed]",
      "text/plain": [
       "<Figure size 1080x720 with 1 Axes>"
      ]
     },
     "metadata": {
      "needs_background": "light"
     },
     "output_type": "display_data"
    }
   ],
   "source": [
    "#Plot Sharpe Ratios for each Stock and ETF\n",
    "sharpe_ratios.plot.bar(figsize=(15,10), title=\"Sharpe Ratios\")"
   ]
  },
  {
   "cell_type": "code",
   "execution_count": 92,
   "id": "84d1139d-9bf1-45c6-bc0d-720fcefe8098",
   "metadata": {},
   "outputs": [
    {
     "data": {
      "text/plain": [
       "<AxesSubplot:title={'center':'Box Plot of Returns'}>"
      ]
     },
     "execution_count": 92,
     "metadata": {},
     "output_type": "execute_result"
    },
    {
     "data": {
      "image/png": "[encoded data removed]",
      "text/plain": [
       "<Figure size 1080x720 with 1 Axes>"
      ]
     },
     "metadata": {
      "needs_background": "light"
     },
     "output_type": "display_data"
    },
    {
     "data": {
      "image/png": "[encoded data removed]",
      "text/plain": [
       "<Figure size 1080x720 with 1 Axes>"
      ]
     },
     "metadata": {
      "needs_background": "light"
     },
     "output_type": "display_data"
    }
   ],
   "source": [
    "#Analize graphical data and numbers to make a conclusion.\n",
    "sharpe_ratios.plot.bar(figsize=(15,10), title=\"Sharpe Ratios\")\n",
    "energy_stocks_returns.plot.box(figsize=(15,10), title=\"Box Plot of Returns\")"
   ]
  },
  {
   "cell_type": "code",
   "execution_count": null,
   "id": "ed8789b7-9cf3-4ff6-b7dc-b687033a756b",
   "metadata": {},
   "outputs": [],
   "source": [
    "\"\"\"We can see that even though SHEL has least volatility,\n",
    "its Sharpe Ratio is the smallest.\n",
    "CVX appears to offer a larger Sharpe Ratio than IXC,\n",
    "while still having a relatively acceptable volatility.\"\"\""
   ]
  }
 ],
 "metadata": {
  "kernelspec": {
   "display_name": "Python 3 (ipykernel)",
   "language": "python",
   "name": "python3"
  },
  "language_info": {
   "codemirror_mode": {
    "name": "ipython",
    "version": 3
   },
   "file_extension": ".py",
   "mimetype": "text/x-python",
   "name": "python",
   "nbconvert_exporter": "python",
   "pygments_lexer": "ipython3",
   "version": "3.7.13"
  }
 },
 "nbformat": 4,
 "nbformat_minor": 5
}
