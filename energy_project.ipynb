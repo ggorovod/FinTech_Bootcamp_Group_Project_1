{
 "cells": [
  {
   "cell_type": "code",
   "execution_count": 106,
   "id": "bbca42bb-8487-4cd2-86ac-6046e0457ffc",
   "metadata": {},
   "outputs": [],
   "source": [
    "#importing necessary libraries\n",
    "import pandas as pd\n",
    "import csv\n",
    "import numpy as np\n",
    "from pathlib import Path\n",
    "from matplotlib import pyplot as plt\n"
   ]
  },
  {
   "cell_type": "code",
   "execution_count": 67,
   "id": "0af0b944-00aa-4d9d-b5fe-218735c4d3e3",
   "metadata": {},
   "outputs": [
    {
     "data": {
      "text/plain": [
       "Date\n",
       "2017-10-01   49.57\n",
       "2017-11-01   50.43\n",
       "2017-12-01   53.26\n",
       "2018-01-01   56.07\n",
       "2018-02-01   50.51\n",
       "Name: Adj Close, dtype: float64"
      ]
     },
     "execution_count": 67,
     "metadata": {},
     "output_type": "execute_result"
    }
   ],
   "source": [
    "#converting csv files into readable dataframes\n",
    "shel_df = pd.read_csv(Path('data/SHEL_5yr_time_series.csv'),\n",
    "                index_col = 'Date',\n",
    "                    parse_dates = True,\n",
    "                      infer_datetime_format = True,\n",
    "                      \n",
    "                     )\n",
    "shel_df = shel_df[\"Adj Close\"]\n",
    "\n",
    "shel_df.head()\n",
    "                      "
   ]
  },
  {
   "cell_type": "code",
   "execution_count": 3,
   "id": "2682fcab-605c-4196-acc4-f59bfcd931e5",
   "metadata": {},
   "outputs": [
    {
     "data": {
      "text/plain": [
       "Date\n",
       "2017-10-01    64.010841\n",
       "2017-11-01    63.964775\n",
       "2017-12-01    64.828041\n",
       "2018-01-01    67.664841\n",
       "2018-02-01    58.704857\n",
       "Name: Adj Close, dtype: float64"
      ]
     },
     "execution_count": 3,
     "metadata": {},
     "output_type": "execute_result"
    }
   ],
   "source": [
    "##converting csv files into readable dataframes\n",
    "xom_df = pd.read_csv(Path('data/XOM_5yr_time_series.csv'),\n",
    "                index_col = 'Date',\n",
    "                    parse_dates = True,\n",
    "                      infer_datetime_format = True,\n",
    "                      \n",
    "                     )\n",
    "xom_df = xom_df[\"Adj Close\"]\n",
    "\n",
    "xom_df.head()\n",
    "              "
   ]
  },
  {
   "cell_type": "code",
   "execution_count": 4,
   "id": "4eb21173-5acf-4151-8bed-7300efe07345",
   "metadata": {},
   "outputs": [
    {
     "data": {
      "text/plain": [
       "Date\n",
       "2017-10-01    27.338148\n",
       "2017-11-01    27.707043\n",
       "2017-12-01    28.508978\n",
       "2018-01-01    29.981033\n",
       "2018-02-01    27.226599\n",
       "Name: Adj Close, dtype: float64"
      ]
     },
     "execution_count": 4,
     "metadata": {},
     "output_type": "execute_result"
    }
   ],
   "source": [
    "#converting csv files into readable dataframes\n",
    "ixc_df = pd.read_csv(Path('data/IXC_5yr_time_series.csv'),\n",
    "                index_col = 'Date',\n",
    "                    parse_dates = True,\n",
    "                      infer_datetime_format = True,\n",
    "                      \n",
    "                     )\n",
    "ixc_df = ixc_df[\"Adj Close\"]\n",
    "\n",
    "ixc_df.head()\n",
    "              "
   ]
  },
  {
   "cell_type": "code",
   "execution_count": 6,
   "id": "b1b87011-59ae-41d8-ac3e-ff4402a7b243",
   "metadata": {},
   "outputs": [
    {
     "data": {
      "text/plain": [
       "Date\n",
       "2017-10-01     92.921890\n",
       "2017-11-01     95.407494\n",
       "2017-12-01    101.318382\n",
       "2018-01-01    101.447868\n",
       "2018-02-01     90.578758\n",
       "Name: Adj Close, dtype: float64"
      ]
     },
     "execution_count": 6,
     "metadata": {},
     "output_type": "execute_result"
    }
   ],
   "source": [
    "#converting csv files into readable dataframes\n",
    "cvx_df = pd.read_csv(Path('data/CVX_5yr_time_series.csv'),\n",
    "                index_col = 'Date',\n",
    "                    parse_dates = True,\n",
    "                      infer_datetime_format = True,\n",
    "                      \n",
    "                     )\n",
    "cvx_df = cvx_df[\"Adj Close\"]\n",
    "\n",
    "cvx_df.head()\n",
    "              "
   ]
  },
  {
   "cell_type": "code",
   "execution_count": 7,
   "id": "d47fa95d-caf3-4bfb-a3a8-97caaf3050bf",
   "metadata": {},
   "outputs": [
    {
     "data": {
      "text/plain": [
       "Date\n",
       "2017-10-01    43.725098\n",
       "2017-11-01    43.726921\n",
       "2017-12-01    47.173164\n",
       "2018-01-01    50.542061\n",
       "2018-02-01    46.674702\n",
       "Name: Adj Close, dtype: float64"
      ]
     },
     "execution_count": 7,
     "metadata": {},
     "output_type": "execute_result"
    }
   ],
   "source": [
    "#converting csv files into readable dataframes\n",
    "cop_df = pd.read_csv(Path('data/COP_5yr_time_series.csv'),\n",
    "                index_col = 'Date',\n",
    "                    parse_dates = True,\n",
    "                      infer_datetime_format = True,\n",
    "                      \n",
    "                     )\n",
    "cop_df = cop_df[\"Adj Close\"]\n",
    "\n",
    "cop_df.head()"
   ]
  },
  {
   "cell_type": "code",
   "execution_count": 47,
   "id": "f5976d58-84ab-4967-b881-3ba055b3fc72",
   "metadata": {},
   "outputs": [
    {
     "data": {
      "text/plain": [
       "Date\n",
       "2017-10-01   2.38\n",
       "2017-11-01   2.42\n",
       "2017-12-01   2.40\n",
       "2018-01-01   2.72\n",
       "2018-02-01   2.87\n",
       "Name: Adj Close, dtype: float64"
      ]
     },
     "execution_count": 47,
     "metadata": {},
     "output_type": "execute_result"
    }
   ],
   "source": [
    "#converting csv files into readable dataframes\n",
    "#you can go back to the entire df by deleting \"treasury_df = treasury_df[\"Adj Close\"]\", was not sure which columns we need\n",
    "treasury_df = pd.read_csv(Path('data/10_yr_treasury_5yr_time_series.csv'),\n",
    "                index_col = 'Date',\n",
    "                    parse_dates = True,\n",
    "                      infer_datetime_format = True,\n",
    "                      \n",
    "                     )\n",
    "treasury_df = treasury_df[\"Adj Close\"]\n",
    "treasury_df.head()"
   ]
  },
  {
   "cell_type": "code",
   "execution_count": 20,
   "id": "83f289ac-1b74-4872-8292-6ca04242ea52",
   "metadata": {},
   "outputs": [
    {
     "data": {
      "text/html": [
       "<div>\n",
       "<style scoped>\n",
       "    .dataframe tbody tr th:only-of-type {\n",
       "        vertical-align: middle;\n",
       "    }\n",
       "\n",
       "    .dataframe tbody tr th {\n",
       "        vertical-align: top;\n",
       "    }\n",
       "\n",
       "    .dataframe thead th {\n",
       "        text-align: right;\n",
       "    }\n",
       "</style>\n",
       "<table border=\"1\" class=\"dataframe\">\n",
       "  <thead>\n",
       "    <tr style=\"text-align: right;\">\n",
       "      <th></th>\n",
       "      <th>SHEL</th>\n",
       "      <th>COP</th>\n",
       "      <th>CVX</th>\n",
       "      <th>XOM</th>\n",
       "      <th>IXC</th>\n",
       "    </tr>\n",
       "    <tr>\n",
       "      <th>Date</th>\n",
       "      <th></th>\n",
       "      <th></th>\n",
       "      <th></th>\n",
       "      <th></th>\n",
       "      <th></th>\n",
       "    </tr>\n",
       "  </thead>\n",
       "  <tbody>\n",
       "    <tr>\n",
       "      <th>2017-10-01</th>\n",
       "      <td>49.569248</td>\n",
       "      <td>43.725098</td>\n",
       "      <td>92.921890</td>\n",
       "      <td>64.010841</td>\n",
       "      <td>27.338148</td>\n",
       "    </tr>\n",
       "    <tr>\n",
       "      <th>2017-11-01</th>\n",
       "      <td>50.426472</td>\n",
       "      <td>43.726921</td>\n",
       "      <td>95.407494</td>\n",
       "      <td>63.964775</td>\n",
       "      <td>27.707043</td>\n",
       "    </tr>\n",
       "    <tr>\n",
       "      <th>2017-12-01</th>\n",
       "      <td>53.255947</td>\n",
       "      <td>47.173164</td>\n",
       "      <td>101.318382</td>\n",
       "      <td>64.828041</td>\n",
       "      <td>28.508978</td>\n",
       "    </tr>\n",
       "    <tr>\n",
       "      <th>2018-01-01</th>\n",
       "      <td>56.074009</td>\n",
       "      <td>50.542061</td>\n",
       "      <td>101.447868</td>\n",
       "      <td>67.664841</td>\n",
       "      <td>29.981033</td>\n",
       "    </tr>\n",
       "    <tr>\n",
       "      <th>2018-02-01</th>\n",
       "      <td>50.509724</td>\n",
       "      <td>46.674702</td>\n",
       "      <td>90.578758</td>\n",
       "      <td>58.704857</td>\n",
       "      <td>27.226599</td>\n",
       "    </tr>\n",
       "  </tbody>\n",
       "</table>\n",
       "</div>"
      ],
      "text/plain": [
       "                 SHEL        COP         CVX        XOM        IXC\n",
       "Date                                                              \n",
       "2017-10-01  49.569248  43.725098   92.921890  64.010841  27.338148\n",
       "2017-11-01  50.426472  43.726921   95.407494  63.964775  27.707043\n",
       "2017-12-01  53.255947  47.173164  101.318382  64.828041  28.508978\n",
       "2018-01-01  56.074009  50.542061  101.447868  67.664841  29.981033\n",
       "2018-02-01  50.509724  46.674702   90.578758  58.704857  27.226599"
      ]
     },
     "execution_count": 20,
     "metadata": {},
     "output_type": "execute_result"
    }
   ],
   "source": [
    "#concatinating the dataframes to organize data in order to eventually get cumulative monthly returns\n",
    "energy_stocks_df = pd.concat([shel_df, cop_df,cvx_df,xom_df,ixc_df],\n",
    "                            axis=1)\n",
    "energy_stocks_df=energy_stocks_df.set_axis(['SHEL', 'COP', 'CVX','XOM', 'IXC'], axis=1)\n",
    "energy_stocks_df.head()"
   ]
  },
  {
   "cell_type": "code",
   "execution_count": 53,
   "id": "a99c04b0-0a2f-4b75-9cd8-7ed80c3797e7",
   "metadata": {},
   "outputs": [
    {
     "data": {
      "text/plain": [
       "<AxesSubplot:title={'center':'Monthly Returns'}, xlabel='Date'>"
      ]
     },
     "execution_count": 53,
     "metadata": {},
     "output_type": "execute_result"
    },
    {
     "data": {
      "image/png": "[encoded data removed]",
      "text/plain": [
       "<Figure size 1080x576 with 1 Axes>"
      ]
     },
     "metadata": {
      "needs_background": "light"
     },
     "output_type": "display_data"
    }
   ],
   "source": [
    "#visualizing monthly returns\n",
    "energy_stocks_df.plot(figsize=(15,8), title = 'Monthly Returns')"
   ]
  },
  {
   "cell_type": "code",
   "execution_count": 55,
   "id": "5f5ec04b-503a-4297-bba3-132d982b08a4",
   "metadata": {},
   "outputs": [
    {
     "data": {
      "text/html": [
       "<div>\n",
       "<style scoped>\n",
       "    .dataframe tbody tr th:only-of-type {\n",
       "        vertical-align: middle;\n",
       "    }\n",
       "\n",
       "    .dataframe tbody tr th {\n",
       "        vertical-align: top;\n",
       "    }\n",
       "\n",
       "    .dataframe thead th {\n",
       "        text-align: right;\n",
       "    }\n",
       "</style>\n",
       "<table border=\"1\" class=\"dataframe\">\n",
       "  <thead>\n",
       "    <tr style=\"text-align: right;\">\n",
       "      <th></th>\n",
       "      <th>SHEL</th>\n",
       "      <th>COP</th>\n",
       "      <th>CVX</th>\n",
       "      <th>XOM</th>\n",
       "      <th>IXC</th>\n",
       "    </tr>\n",
       "  </thead>\n",
       "  <tbody>\n",
       "    <tr>\n",
       "      <th>count</th>\n",
       "      <td>60.00</td>\n",
       "      <td>60.00</td>\n",
       "      <td>60.00</td>\n",
       "      <td>60.00</td>\n",
       "      <td>60.00</td>\n",
       "    </tr>\n",
       "    <tr>\n",
       "      <th>mean</th>\n",
       "      <td>45.89</td>\n",
       "      <td>57.48</td>\n",
       "      <td>102.56</td>\n",
       "      <td>59.01</td>\n",
       "      <td>26.30</td>\n",
       "    </tr>\n",
       "    <tr>\n",
       "      <th>std</th>\n",
       "      <td>9.80</td>\n",
       "      <td>19.45</td>\n",
       "      <td>23.82</td>\n",
       "      <td>15.47</td>\n",
       "      <td>5.65</td>\n",
       "    </tr>\n",
       "    <tr>\n",
       "      <th>min</th>\n",
       "      <td>23.52</td>\n",
       "      <td>26.30</td>\n",
       "      <td>63.30</td>\n",
       "      <td>29.09</td>\n",
       "      <td>14.30</td>\n",
       "    </tr>\n",
       "    <tr>\n",
       "      <th>25%</th>\n",
       "      <td>38.61</td>\n",
       "      <td>46.59</td>\n",
       "      <td>92.27</td>\n",
       "      <td>52.37</td>\n",
       "      <td>23.55</td>\n",
       "    </tr>\n",
       "    <tr>\n",
       "      <th>50%</th>\n",
       "      <td>50.45</td>\n",
       "      <td>53.38</td>\n",
       "      <td>99.19</td>\n",
       "      <td>59.09</td>\n",
       "      <td>26.74</td>\n",
       "    </tr>\n",
       "    <tr>\n",
       "      <th>75%</th>\n",
       "      <td>53.04</td>\n",
       "      <td>62.95</td>\n",
       "      <td>104.79</td>\n",
       "      <td>64.56</td>\n",
       "      <td>30.03</td>\n",
       "    </tr>\n",
       "    <tr>\n",
       "      <th>max</th>\n",
       "      <td>58.16</td>\n",
       "      <td>108.93</td>\n",
       "      <td>171.67</td>\n",
       "      <td>96.00</td>\n",
       "      <td>39.71</td>\n",
       "    </tr>\n",
       "  </tbody>\n",
       "</table>\n",
       "</div>"
      ],
      "text/plain": [
       "       SHEL    COP    CVX   XOM   IXC\n",
       "count 60.00  60.00  60.00 60.00 60.00\n",
       "mean  45.89  57.48 102.56 59.01 26.30\n",
       "std    9.80  19.45  23.82 15.47  5.65\n",
       "min   23.52  26.30  63.30 29.09 14.30\n",
       "25%   38.61  46.59  92.27 52.37 23.55\n",
       "50%   50.45  53.38  99.19 59.09 26.74\n",
       "75%   53.04  62.95 104.79 64.56 30.03\n",
       "max   58.16 108.93 171.67 96.00 39.71"
      ]
     },
     "execution_count": 55,
     "metadata": {},
     "output_type": "execute_result"
    }
   ],
   "source": [
    "#stocks return summary\n",
    "energy_stocks_df.describe()\n"
   ]
  },
  {
   "cell_type": "code",
   "execution_count": 70,
   "id": "259c835e-cda9-4de4-afda-243b9012c9d9",
   "metadata": {},
   "outputs": [
    {
     "data": {
      "text/html": [
       "<div>\n",
       "<style scoped>\n",
       "    .dataframe tbody tr th:only-of-type {\n",
       "        vertical-align: middle;\n",
       "    }\n",
       "\n",
       "    .dataframe tbody tr th {\n",
       "        vertical-align: top;\n",
       "    }\n",
       "\n",
       "    .dataframe thead th {\n",
       "        text-align: right;\n",
       "    }\n",
       "</style>\n",
       "<table border=\"1\" class=\"dataframe\">\n",
       "  <thead>\n",
       "    <tr style=\"text-align: right;\">\n",
       "      <th></th>\n",
       "      <th>SHEL</th>\n",
       "      <th>COP</th>\n",
       "      <th>CVX</th>\n",
       "      <th>XOM</th>\n",
       "      <th>IXC</th>\n",
       "    </tr>\n",
       "    <tr>\n",
       "      <th>Date</th>\n",
       "      <th></th>\n",
       "      <th></th>\n",
       "      <th></th>\n",
       "      <th></th>\n",
       "      <th></th>\n",
       "    </tr>\n",
       "  </thead>\n",
       "  <tbody>\n",
       "    <tr>\n",
       "      <th>2017-11-01</th>\n",
       "      <td>0.02</td>\n",
       "      <td>0.00</td>\n",
       "      <td>0.03</td>\n",
       "      <td>-0.00</td>\n",
       "      <td>0.01</td>\n",
       "    </tr>\n",
       "    <tr>\n",
       "      <th>2017-12-01</th>\n",
       "      <td>0.06</td>\n",
       "      <td>0.08</td>\n",
       "      <td>0.06</td>\n",
       "      <td>0.01</td>\n",
       "      <td>0.03</td>\n",
       "    </tr>\n",
       "    <tr>\n",
       "      <th>2018-01-01</th>\n",
       "      <td>0.05</td>\n",
       "      <td>0.07</td>\n",
       "      <td>0.00</td>\n",
       "      <td>0.04</td>\n",
       "      <td>0.05</td>\n",
       "    </tr>\n",
       "    <tr>\n",
       "      <th>2018-02-01</th>\n",
       "      <td>-0.10</td>\n",
       "      <td>-0.08</td>\n",
       "      <td>-0.11</td>\n",
       "      <td>-0.13</td>\n",
       "      <td>-0.09</td>\n",
       "    </tr>\n",
       "    <tr>\n",
       "      <th>2018-03-01</th>\n",
       "      <td>0.02</td>\n",
       "      <td>0.10</td>\n",
       "      <td>0.03</td>\n",
       "      <td>-0.00</td>\n",
       "      <td>0.02</td>\n",
       "    </tr>\n",
       "  </tbody>\n",
       "</table>\n",
       "</div>"
      ],
      "text/plain": [
       "            SHEL   COP   CVX   XOM   IXC\n",
       "Date                                    \n",
       "2017-11-01  0.02  0.00  0.03 -0.00  0.01\n",
       "2017-12-01  0.06  0.08  0.06  0.01  0.03\n",
       "2018-01-01  0.05  0.07  0.00  0.04  0.05\n",
       "2018-02-01 -0.10 -0.08 -0.11 -0.13 -0.09\n",
       "2018-03-01  0.02  0.10  0.03 -0.00  0.02"
      ]
     },
     "execution_count": 70,
     "metadata": {},
     "output_type": "execute_result"
    }
   ],
   "source": [
    "#calculated percentage change\n",
    "energy_stocks_df.pct_change().dropna().head()\n",
    "\n"
   ]
  },
  {
   "cell_type": "code",
   "execution_count": 73,
   "id": "109d8f5d-a47b-43f4-88a4-cc39628a6f8f",
   "metadata": {},
   "outputs": [
    {
     "data": {
      "text/plain": [
       "count   60.00\n",
       "mean    59.01\n",
       "std     15.47\n",
       "min     29.09\n",
       "25%     52.37\n",
       "50%     59.09\n",
       "75%     64.56\n",
       "max     96.00\n",
       "Name: Adj Close, dtype: float64"
      ]
     },
     "metadata": {},
     "output_type": "display_data"
    },
    {
     "data": {
      "text/plain": [
       "count    60.00\n",
       "mean     57.48\n",
       "std      19.45\n",
       "min      26.30\n",
       "25%      46.59\n",
       "50%      53.38\n",
       "75%      62.95\n",
       "max     108.93\n",
       "Name: Adj Close, dtype: float64"
      ]
     },
     "metadata": {},
     "output_type": "display_data"
    },
    {
     "data": {
      "text/plain": [
       "count    60.00\n",
       "mean    102.56\n",
       "std      23.82\n",
       "min      63.30\n",
       "25%      92.27\n",
       "50%      99.19\n",
       "75%     104.79\n",
       "max     171.67\n",
       "Name: Adj Close, dtype: float64"
      ]
     },
     "metadata": {},
     "output_type": "display_data"
    },
    {
     "data": {
      "text/plain": [
       "count   60.00\n",
       "mean    45.89\n",
       "std      9.80\n",
       "min     23.52\n",
       "25%     38.61\n",
       "50%     50.45\n",
       "75%     53.04\n",
       "max     58.16\n",
       "Name: Adj Close, dtype: float64"
      ]
     },
     "metadata": {},
     "output_type": "display_data"
    }
   ],
   "source": [
    "display(xom_df.describe())\n",
    "display(cop_df.describe())\n",
    "display(cvx_df.describe())\n",
    "display(shel_df.describe())"
   ]
  },
  {
   "cell_type": "code",
   "execution_count": 74,
   "id": "cf111304-694f-4f9b-8578-43704c6eb623",
   "metadata": {},
   "outputs": [
    {
     "data": {
      "text/plain": [
       "Date\n",
       "2017-10-01     NaN\n",
       "2017-11-01   -0.00\n",
       "2017-12-01    0.01\n",
       "2018-01-01    0.04\n",
       "2018-02-01   -0.13\n",
       "2018-03-01   -0.00\n",
       "2018-04-01    0.04\n",
       "2018-05-01    0.04\n",
       "2018-06-01    0.03\n",
       "2018-07-01   -0.01\n",
       "2018-08-01   -0.02\n",
       "2018-09-01    0.07\n",
       "2018-10-01   -0.06\n",
       "2018-11-01   -0.00\n",
       "2018-12-01   -0.13\n",
       "2019-01-01    0.07\n",
       "2019-02-01    0.08\n",
       "2019-03-01    0.03\n",
       "2019-04-01   -0.01\n",
       "2019-05-01   -0.12\n",
       "2019-06-01    0.10\n",
       "2019-07-01   -0.03\n",
       "2019-08-01   -0.08\n",
       "2019-09-01    0.04\n",
       "2019-10-01   -0.04\n",
       "2019-11-01    0.01\n",
       "2019-12-01    0.04\n",
       "2020-01-01   -0.11\n",
       "2020-02-01   -0.17\n",
       "2020-03-01   -0.25\n",
       "2020-04-01    0.22\n",
       "2020-05-01   -0.02\n",
       "2020-06-01    0.00\n",
       "2020-07-01   -0.06\n",
       "2020-08-01   -0.05\n",
       "2020-09-01   -0.12\n",
       "2020-10-01   -0.05\n",
       "2020-11-01    0.17\n",
       "2020-12-01    0.11\n",
       "2021-01-01    0.09\n",
       "2021-02-01    0.21\n",
       "2021-03-01    0.04\n",
       "2021-04-01    0.03\n",
       "2021-05-01    0.02\n",
       "2021-06-01    0.10\n",
       "2021-07-01   -0.09\n",
       "2021-08-01   -0.05\n",
       "2021-09-01    0.10\n",
       "2021-10-01    0.10\n",
       "2021-11-01   -0.07\n",
       "2021-12-01    0.04\n",
       "2022-01-01    0.24\n",
       "2022-02-01    0.03\n",
       "2022-03-01    0.06\n",
       "2022-04-01    0.03\n",
       "2022-05-01    0.13\n",
       "2022-06-01   -0.10\n",
       "2022-07-01    0.13\n",
       "2022-08-01   -0.01\n",
       "2022-09-01   -0.08\n",
       "Name: Adj Close, dtype: float64"
      ]
     },
     "metadata": {},
     "output_type": "display_data"
    },
    {
     "data": {
      "text/plain": [
       "Date\n",
       "2017-10-01     NaN\n",
       "2017-11-01    0.00\n",
       "2017-12-01    0.08\n",
       "2018-01-01    0.07\n",
       "2018-02-01   -0.08\n",
       "2018-03-01    0.10\n",
       "2018-04-01    0.10\n",
       "2018-05-01    0.03\n",
       "2018-06-01    0.04\n",
       "2018-07-01    0.04\n",
       "2018-08-01    0.02\n",
       "2018-09-01    0.05\n",
       "2018-10-01   -0.10\n",
       "2018-11-01   -0.05\n",
       "2018-12-01   -0.06\n",
       "2019-01-01    0.09\n",
       "2019-02-01    0.00\n",
       "2019-03-01   -0.01\n",
       "2019-04-01   -0.05\n",
       "2019-05-01   -0.07\n",
       "2019-06-01    0.04\n",
       "2019-07-01   -0.03\n",
       "2019-08-01   -0.11\n",
       "2019-09-01    0.09\n",
       "2019-10-01   -0.03\n",
       "2019-11-01    0.09\n",
       "2019-12-01    0.08\n",
       "2020-01-01   -0.09\n",
       "2020-02-01   -0.19\n",
       "2020-03-01   -0.36\n",
       "2020-04-01    0.37\n",
       "2020-05-01    0.00\n",
       "2020-06-01    0.01\n",
       "2020-07-01   -0.11\n",
       "2020-08-01    0.02\n",
       "2020-09-01   -0.13\n",
       "2020-10-01   -0.13\n",
       "2020-11-01    0.40\n",
       "2020-12-01    0.01\n",
       "2021-01-01    0.00\n",
       "2021-02-01    0.30\n",
       "2021-03-01    0.03\n",
       "2021-04-01   -0.03\n",
       "2021-05-01    0.09\n",
       "2021-06-01    0.10\n",
       "2021-07-01   -0.08\n",
       "2021-08-01   -0.00\n",
       "2021-09-01    0.22\n",
       "2021-10-01    0.10\n",
       "2021-11-01   -0.05\n",
       "2021-12-01    0.03\n",
       "2022-01-01    0.23\n",
       "2022-02-01    0.07\n",
       "2022-03-01    0.06\n",
       "2022-04-01   -0.04\n",
       "2022-05-01    0.18\n",
       "2022-06-01   -0.20\n",
       "2022-07-01    0.09\n",
       "2022-08-01    0.12\n",
       "2022-09-01   -0.06\n",
       "Name: Adj Close, dtype: float64"
      ]
     },
     "metadata": {},
     "output_type": "display_data"
    },
    {
     "data": {
      "text/plain": [
       "Date\n",
       "2017-10-01     NaN\n",
       "2017-11-01    0.03\n",
       "2017-12-01    0.06\n",
       "2018-01-01    0.00\n",
       "2018-02-01   -0.11\n",
       "2018-03-01    0.03\n",
       "2018-04-01    0.10\n",
       "2018-05-01   -0.01\n",
       "2018-06-01    0.03\n",
       "2018-07-01   -0.00\n",
       "2018-08-01   -0.06\n",
       "2018-09-01    0.04\n",
       "2018-10-01   -0.09\n",
       "2018-11-01    0.07\n",
       "2018-12-01   -0.08\n",
       "2019-01-01    0.05\n",
       "2019-02-01    0.04\n",
       "2019-03-01    0.04\n",
       "2019-04-01   -0.03\n",
       "2019-05-01   -0.05\n",
       "2019-06-01    0.10\n",
       "2019-07-01   -0.01\n",
       "2019-08-01   -0.04\n",
       "2019-09-01    0.02\n",
       "2019-10-01   -0.02\n",
       "2019-11-01    0.01\n",
       "2019-12-01    0.04\n",
       "2020-01-01   -0.11\n",
       "2020-02-01   -0.13\n",
       "2020-03-01   -0.21\n",
       "2020-04-01    0.27\n",
       "2020-05-01   -0.00\n",
       "2020-06-01   -0.01\n",
       "2020-07-01   -0.06\n",
       "2020-08-01   -0.00\n",
       "2020-09-01   -0.13\n",
       "2020-10-01   -0.03\n",
       "2020-11-01    0.25\n",
       "2020-12-01   -0.02\n",
       "2021-01-01    0.01\n",
       "2021-02-01    0.17\n",
       "2021-03-01    0.06\n",
       "2021-04-01   -0.02\n",
       "2021-05-01    0.01\n",
       "2021-06-01    0.02\n",
       "2021-07-01   -0.03\n",
       "2021-08-01   -0.05\n",
       "2021-09-01    0.06\n",
       "2021-10-01    0.13\n",
       "2021-11-01   -0.01\n",
       "2021-12-01    0.05\n",
       "2022-01-01    0.12\n",
       "2022-02-01    0.10\n",
       "2022-03-01    0.14\n",
       "2022-04-01   -0.04\n",
       "2022-05-01    0.11\n",
       "2022-06-01   -0.16\n",
       "2022-07-01    0.13\n",
       "2022-08-01   -0.03\n",
       "2022-09-01   -0.08\n",
       "Name: Adj Close, dtype: float64"
      ]
     },
     "metadata": {},
     "output_type": "display_data"
    },
    {
     "data": {
      "text/plain": [
       "Date\n",
       "2017-10-01     NaN\n",
       "2017-11-01    0.02\n",
       "2017-12-01    0.06\n",
       "2018-01-01    0.05\n",
       "2018-02-01   -0.10\n",
       "2018-03-01    0.02\n",
       "2018-04-01    0.10\n",
       "2018-05-01   -0.00\n",
       "2018-06-01    0.01\n",
       "2018-07-01   -0.01\n",
       "2018-08-01   -0.05\n",
       "2018-09-01    0.06\n",
       "2018-10-01   -0.07\n",
       "2018-11-01   -0.04\n",
       "2018-12-01   -0.02\n",
       "2019-01-01    0.06\n",
       "2019-02-01    0.01\n",
       "2019-03-01    0.02\n",
       "2019-04-01    0.02\n",
       "2019-05-01   -0.03\n",
       "2019-06-01    0.07\n",
       "2019-07-01   -0.03\n",
       "2019-08-01   -0.12\n",
       "2019-09-01    0.08\n",
       "2019-10-01   -0.01\n",
       "2019-11-01   -0.01\n",
       "2019-12-01    0.04\n",
       "2020-01-01   -0.12\n",
       "2020-02-01   -0.16\n",
       "2020-03-01   -0.19\n",
       "2020-04-01   -0.05\n",
       "2020-05-01   -0.04\n",
       "2020-06-01    0.03\n",
       "2020-07-01   -0.09\n",
       "2020-08-01   -0.00\n",
       "2020-09-01   -0.14\n",
       "2020-10-01    0.02\n",
       "2020-11-01    0.32\n",
       "2020-12-01    0.05\n",
       "2021-01-01    0.05\n",
       "2021-02-01    0.11\n",
       "2021-03-01   -0.04\n",
       "2021-04-01   -0.03\n",
       "2021-05-01    0.02\n",
       "2021-06-01    0.06\n",
       "2021-07-01    0.01\n",
       "2021-08-01   -0.02\n",
       "2021-09-01    0.13\n",
       "2021-10-01    0.03\n",
       "2021-11-01   -0.08\n",
       "2021-12-01    0.04\n",
       "2022-01-01    0.18\n",
       "2022-02-01    0.02\n",
       "2022-03-01    0.05\n",
       "2022-04-01   -0.03\n",
       "2022-05-01    0.11\n",
       "2022-06-01   -0.11\n",
       "2022-07-01    0.02\n",
       "2022-08-01   -0.01\n",
       "2022-09-01   -0.05\n",
       "Name: Adj Close, dtype: float64"
      ]
     },
     "metadata": {},
     "output_type": "display_data"
    }
   ],
   "source": [
    "display(xom_df.pct_change())\n",
    "display(cop_df.pct_change())\n",
    "display(cvx_df.pct_change())\n",
    "display(shel_df.pct_change())"
   ]
  },
  {
   "cell_type": "code",
   "execution_count": 75,
   "id": "026e348f-a09c-4e69-9bfa-bd800674c8dc",
   "metadata": {},
   "outputs": [
    {
     "data": {
      "text/plain": [
       "count   60.00\n",
       "mean    26.30\n",
       "std      5.65\n",
       "min     14.30\n",
       "25%     23.55\n",
       "50%     26.74\n",
       "75%     30.03\n",
       "max     39.71\n",
       "Name: Adj Close, dtype: float64"
      ]
     },
     "metadata": {},
     "output_type": "display_data"
    },
    {
     "data": {
      "text/plain": [
       "Date\n",
       "2017-10-01     NaN\n",
       "2017-11-01    0.01\n",
       "2017-12-01    0.03\n",
       "2018-01-01    0.05\n",
       "2018-02-01   -0.09\n",
       "2018-03-01    0.02\n",
       "2018-04-01    0.09\n",
       "2018-05-01    0.01\n",
       "2018-06-01   -0.00\n",
       "2018-07-01    0.03\n",
       "2018-08-01   -0.03\n",
       "2018-09-01    0.03\n",
       "2018-10-01   -0.09\n",
       "2018-11-01   -0.03\n",
       "2018-12-01   -0.12\n",
       "2019-01-01    0.13\n",
       "2019-02-01    0.03\n",
       "2019-03-01    0.01\n",
       "2019-04-01    0.00\n",
       "2019-05-01   -0.08\n",
       "2019-06-01    0.05\n",
       "2019-07-01   -0.01\n",
       "2019-08-01   -0.07\n",
       "2019-09-01    0.05\n",
       "2019-10-01   -0.01\n",
       "2019-11-01    0.01\n",
       "2019-12-01    0.00\n",
       "2020-01-01   -0.05\n",
       "2020-02-01   -0.13\n",
       "2020-03-01   -0.30\n",
       "2020-04-01    0.16\n",
       "2020-05-01    0.02\n",
       "2020-06-01   -0.03\n",
       "2020-07-01   -0.02\n",
       "2020-08-01    0.01\n",
       "2020-09-01   -0.14\n",
       "2020-10-01   -0.05\n",
       "2020-11-01    0.29\n",
       "2020-12-01    0.01\n",
       "2021-01-01    0.06\n",
       "2021-02-01    0.15\n",
       "2021-03-01    0.02\n",
       "2021-04-01    0.00\n",
       "2021-05-01    0.06\n",
       "2021-06-01    0.02\n",
       "2021-07-01   -0.05\n",
       "2021-08-01   -0.01\n",
       "2021-09-01    0.09\n",
       "2021-10-01    0.08\n",
       "2021-11-01   -0.06\n",
       "2021-12-01    0.01\n",
       "2022-01-01    0.19\n",
       "2022-02-01    0.05\n",
       "2022-03-01    0.08\n",
       "2022-04-01   -0.02\n",
       "2022-05-01    0.14\n",
       "2022-06-01   -0.16\n",
       "2022-07-01    0.09\n",
       "2022-08-01    0.02\n",
       "2022-09-01   -0.10\n",
       "Name: Adj Close, dtype: float64"
      ]
     },
     "metadata": {},
     "output_type": "display_data"
    }
   ],
   "source": [
    "display(ixc_df.describe())\n",
    "display(ixc_df.pct_change())"
   ]
  },
  {
   "cell_type": "code",
   "execution_count": 81,
   "id": "57241c9f-1f3e-42ca-957c-643b24069531",
   "metadata": {},
   "outputs": [
    {
     "data": {
      "text/plain": [
       "26"
      ]
     },
     "execution_count": 81,
     "metadata": {},
     "output_type": "execute_result"
    }
   ],
   "source": [
    "shel_count = np.count_nonzero(shel_df.pct_change()> ixc_df.pct_change())\n",
    "shel_count"
   ]
  },
  {
   "cell_type": "code",
   "execution_count": 86,
   "id": "fb51c13f-2faf-475e-a5bf-b59b10d4292a",
   "metadata": {},
   "outputs": [
    {
     "data": {
      "text/plain": [
       "35"
      ]
     },
     "execution_count": 86,
     "metadata": {},
     "output_type": "execute_result"
    }
   ],
   "source": [
    "cop_count = np.count_nonzero(cop_df.pct_change()> ixc_df.pct_change())\n",
    "cop_count"
   ]
  },
  {
   "cell_type": "code",
   "execution_count": 87,
   "id": "8a39c8e7-ff8c-465d-a677-d58265f5b052",
   "metadata": {},
   "outputs": [
    {
     "data": {
      "text/plain": [
       "32"
      ]
     },
     "execution_count": 87,
     "metadata": {},
     "output_type": "execute_result"
    }
   ],
   "source": [
    "cvx_count = np.count_nonzero(cvx_df.pct_change()> ixc_df.pct_change())\n",
    "cvx_count"
   ]
  },
  {
   "cell_type": "code",
   "execution_count": 140,
   "id": "d28cb369-ab4d-4bd7-a470-21b088bab882",
   "metadata": {},
   "outputs": [
    {
     "data": {
      "text/plain": [
       "29"
      ]
     },
     "execution_count": 140,
     "metadata": {},
     "output_type": "execute_result"
    }
   ],
   "source": [
    "xom_count = np.count_nonzero(xom_df.pct_change()> ixc_df.pct_change())\n",
    "xom_count"
   ]
  },
  {
   "cell_type": "code",
   "execution_count": 141,
   "id": "7c9d4e1a-d656-4e8f-9127-460d94de6740",
   "metadata": {},
   "outputs": [
    {
     "data": {
      "text/html": [
       "<div>\n",
       "<style scoped>\n",
       "    .dataframe tbody tr th:only-of-type {\n",
       "        vertical-align: middle;\n",
       "    }\n",
       "\n",
       "    .dataframe tbody tr th {\n",
       "        vertical-align: top;\n",
       "    }\n",
       "\n",
       "    .dataframe thead th {\n",
       "        text-align: right;\n",
       "    }\n",
       "</style>\n",
       "<table border=\"1\" class=\"dataframe\">\n",
       "  <thead>\n",
       "    <tr style=\"text-align: right;\">\n",
       "      <th></th>\n",
       "      <th>Number of Times Stock Outperformed IXC</th>\n",
       "    </tr>\n",
       "  </thead>\n",
       "  <tbody>\n",
       "    <tr>\n",
       "      <th>XOM</th>\n",
       "      <td>29</td>\n",
       "    </tr>\n",
       "    <tr>\n",
       "      <th>CVX</th>\n",
       "      <td>32</td>\n",
       "    </tr>\n",
       "    <tr>\n",
       "      <th>SHEL</th>\n",
       "      <td>26</td>\n",
       "    </tr>\n",
       "    <tr>\n",
       "      <th>COP</th>\n",
       "      <td>35</td>\n",
       "    </tr>\n",
       "  </tbody>\n",
       "</table>\n",
       "</div>"
      ],
      "text/plain": [
       "      Number of Times Stock Outperformed IXC \n",
       "XOM                                        29\n",
       "CVX                                        32\n",
       "SHEL                                       26\n",
       "COP                                        35"
      ]
     },
     "execution_count": 141,
     "metadata": {},
     "output_type": "execute_result"
    }
   ],
   "source": [
    "outperformance = [ xom_count, cvx_count, shel_count, cop_count]\n",
    "pct_outperformance_df = pd.DataFrame (outperformance, columns = ['Number of Times Stock Outperformed IXC '], index = ['XOM','CVX','SHEL','COP'])\n",
    "pct_outperformance_df"
   ]
  },
  {
   "cell_type": "code",
   "execution_count": 142,
   "id": "9c894b6e-bc20-4361-a55f-7d9a05118852",
   "metadata": {},
   "outputs": [
    {
     "data": {
      "text/plain": [
       "<AxesSubplot:title={'center':'Energy Stock Outperformance vs Energy ETF (IXC)'}>"
      ]
     },
     "execution_count": 142,
     "metadata": {},
     "output_type": "execute_result"
    },
    {
     "data": {
      "image/png": "[encoded data removed]",
      "text/plain": [
       "<Figure size 720x360 with 1 Axes>"
      ]
     },
     "metadata": {
      "needs_background": "light"
     },
     "output_type": "display_data"
    }
   ],
   "source": [
    "pct_outperformance_df.plot(kind='bar',figsize=(10,5), title=\"Energy Stock Outperformance vs Energy ETF (IXC)\", color='green')"
   ]
  },
  {
   "cell_type": "code",
   "execution_count": null,
   "id": "d8712422-147b-40b2-ae25-870b2c0bd452",
   "metadata": {},
   "outputs": [],
   "source": [
    "#Analysis: From gathering data and cleaning it up to calculate percent \n",
    "#changes between the stocks we picked and the IXC ETF, we found the number of times(monthly) within\n",
    "# a 5 year period where the stocks returns outperformed the ETF. XOM outperformed IXC 26 times, CVX beat IXC\n",
    "#32 times, SHEL beat IXC 26 times and COP beat IXC 35 times. This makes COP the safest stock within the IXC \n",
    "# to invest in, in terms of monthly returns calculated from percentage change.\n"
   ]
  }
 ],
 "metadata": {
  "kernelspec": {
   "display_name": "Python 3 (ipykernel)",
   "language": "python",
   "name": "python3"
  },
  "language_info": {
   "codemirror_mode": {
    "name": "ipython",
    "version": 3
   },
   "file_extension": ".py",
   "mimetype": "text/x-python",
   "name": "python",
   "nbconvert_exporter": "python",
   "pygments_lexer": "ipython3",
   "version": "3.7.13"
  }
 },
 "nbformat": 4,
 "nbformat_minor": 5
}
