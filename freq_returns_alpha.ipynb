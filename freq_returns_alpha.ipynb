{
 "cells": [
  {
   "cell_type": "code",
   "execution_count": 1,
   "id": "bbca42bb-8487-4cd2-86ac-6046e0457ffc",
   "metadata": {},
   "outputs": [
    {
     "data": {
      "text/html": [
       "        <script type=\"text/javascript\">\n",
       "        window.PlotlyConfig = {MathJaxConfig: 'local'};\n",
       "        if (window.MathJax) {MathJax.Hub.Config({SVG: {font: \"STIX-Web\"}});}\n",
       "        if (typeof require !== 'undefined') {\n",
       "        require.undef(\"plotly\");\n",
       "        requirejs.config({\n",
       "            paths: {\n",
       "                'plotly': ['https://cdn.plot.ly/plotly-2.9.0.min']\n",
       "            }\n",
       "        });\n",
       "        require(['plotly'], function(Plotly) {\n",
       "            window._Plotly = Plotly;\n",
       "        });\n",
       "        }\n",
       "        </script>\n",
       "        "
      ]
     },
     "metadata": {},
     "output_type": "display_data"
    }
   ],
   "source": [
    "#importing necessary libraries\n",
    "import pandas as pd\n",
    "import csv\n",
    "import numpy as np\n",
    "from pathlib import Path\n",
    "from matplotlib import pyplot as plt\n",
    "%matplotlib inline\n",
    "import plotly.offline as offline\n",
    "from plotly.offline import download_plotlyjs, init_notebook_mode, plot, iplot\n",
    "import plotly.express as px\n",
    "import plotly.graph_objs as go\n",
    "offline.init_notebook_mode(connected=True)\n",
    "pd.set_option('display.max_rows', 10)"
   ]
  },
  {
   "cell_type": "code",
   "execution_count": 2,
   "id": "0af0b944-00aa-4d9d-b5fe-218735c4d3e3",
   "metadata": {},
   "outputs": [
    {
     "data": {
      "text/plain": [
       "Date\n",
       "2017-10-01    49.569248\n",
       "2017-11-01    50.426472\n",
       "2017-12-01    53.255947\n",
       "2018-01-01    56.074009\n",
       "2018-02-01    50.509724\n",
       "Name: Adj Close, dtype: float64"
      ]
     },
     "execution_count": 2,
     "metadata": {},
     "output_type": "execute_result"
    }
   ],
   "source": [
    "#converting csv files into readable dataframes\n",
    "shel_df = pd.read_csv(Path('data/SHEL_5yr_time_series.csv'),\n",
    "                index_col = 'Date',\n",
    "                    parse_dates = True,\n",
    "                      infer_datetime_format = True,\n",
    "                      \n",
    "                     )\n",
    "shel_df = shel_df[\"Adj Close\"]\n",
    "\n",
    "shel_df.head()\n",
    "                      "
   ]
  },
  {
   "cell_type": "code",
   "execution_count": 3,
   "id": "2682fcab-605c-4196-acc4-f59bfcd931e5",
   "metadata": {},
   "outputs": [
    {
     "data": {
      "text/plain": [
       "Date\n",
       "2017-10-01    64.010841\n",
       "2017-11-01    63.964775\n",
       "2017-12-01    64.828041\n",
       "2018-01-01    67.664841\n",
       "2018-02-01    58.704857\n",
       "Name: Adj Close, dtype: float64"
      ]
     },
     "execution_count": 3,
     "metadata": {},
     "output_type": "execute_result"
    }
   ],
   "source": [
    "##converting csv files into readable dataframes\n",
    "xom_df = pd.read_csv(Path('data/XOM_5yr_time_series.csv'),\n",
    "                index_col = 'Date',\n",
    "                    parse_dates = True,\n",
    "                      infer_datetime_format = True,\n",
    "                      \n",
    "                     )\n",
    "xom_df = xom_df[\"Adj Close\"]\n",
    "\n",
    "xom_df.head()\n",
    "              "
   ]
  },
  {
   "cell_type": "code",
   "execution_count": 4,
   "id": "4eb21173-5acf-4151-8bed-7300efe07345",
   "metadata": {},
   "outputs": [
    {
     "data": {
      "text/plain": [
       "Date\n",
       "2017-10-01    27.338148\n",
       "2017-11-01    27.707043\n",
       "2017-12-01    28.508978\n",
       "2018-01-01    29.981033\n",
       "2018-02-01    27.226599\n",
       "Name: Adj Close, dtype: float64"
      ]
     },
     "execution_count": 4,
     "metadata": {},
     "output_type": "execute_result"
    }
   ],
   "source": [
    "#converting csv files into readable dataframes\n",
    "ixc_df = pd.read_csv(Path('data/IXC_5yr_time_series.csv'),\n",
    "                index_col = 'Date',\n",
    "                    parse_dates = True,\n",
    "                      infer_datetime_format = True,\n",
    "                      \n",
    "                     )\n",
    "ixc_df = ixc_df[\"Adj Close\"]\n",
    "\n",
    "ixc_df.head()\n",
    "              "
   ]
  },
  {
   "cell_type": "code",
   "execution_count": 5,
   "id": "b1b87011-59ae-41d8-ac3e-ff4402a7b243",
   "metadata": {},
   "outputs": [
    {
     "data": {
      "text/plain": [
       "Date\n",
       "2017-10-01     92.921890\n",
       "2017-11-01     95.407494\n",
       "2017-12-01    101.318382\n",
       "2018-01-01    101.447868\n",
       "2018-02-01     90.578758\n",
       "Name: Adj Close, dtype: float64"
      ]
     },
     "execution_count": 5,
     "metadata": {},
     "output_type": "execute_result"
    }
   ],
   "source": [
    "#converting csv files into readable dataframes\n",
    "cvx_df = pd.read_csv(Path('data/CVX_5yr_time_series.csv'),\n",
    "                index_col = 'Date',\n",
    "                    parse_dates = True,\n",
    "                      infer_datetime_format = True,\n",
    "                      \n",
    "                     )\n",
    "cvx_df = cvx_df[\"Adj Close\"]\n",
    "\n",
    "cvx_df.head()\n",
    "              "
   ]
  },
  {
   "cell_type": "code",
   "execution_count": 6,
   "id": "d47fa95d-caf3-4bfb-a3a8-97caaf3050bf",
   "metadata": {},
   "outputs": [
    {
     "data": {
      "text/plain": [
       "Date\n",
       "2017-10-01    43.725098\n",
       "2017-11-01    43.726921\n",
       "2017-12-01    47.173164\n",
       "2018-01-01    50.542061\n",
       "2018-02-01    46.674702\n",
       "Name: Adj Close, dtype: float64"
      ]
     },
     "execution_count": 6,
     "metadata": {},
     "output_type": "execute_result"
    }
   ],
   "source": [
    "#converting csv files into readable dataframes\n",
    "cop_df = pd.read_csv(Path('data/COP_5yr_time_series.csv'),\n",
    "                index_col = 'Date',\n",
    "                    parse_dates = True,\n",
    "                      infer_datetime_format = True,\n",
    "                      \n",
    "                     )\n",
    "cop_df = cop_df[\"Adj Close\"]\n",
    "\n",
    "cop_df.head()"
   ]
  },
  {
   "cell_type": "code",
   "execution_count": 7,
   "id": "f5976d58-84ab-4967-b881-3ba055b3fc72",
   "metadata": {},
   "outputs": [
    {
     "data": {
      "text/plain": [
       "Date\n",
       "2017-10-01    2.376\n",
       "2017-11-01    2.417\n",
       "2017-12-01    2.405\n",
       "2018-01-01    2.720\n",
       "2018-02-01    2.868\n",
       "Name: Adj Close, dtype: float64"
      ]
     },
     "execution_count": 7,
     "metadata": {},
     "output_type": "execute_result"
    }
   ],
   "source": [
    "#converting csv files into readable dataframes\n",
    "#you can go back to the entire df by deleting \"treasury_df = treasury_df[\"Adj Close\"]\", was not sure which columns we need\n",
    "treasury_df = pd.read_csv(Path('data/10_yr_treasury_5yr_time_series.csv'),\n",
    "                index_col = 'Date',\n",
    "                    parse_dates = True,\n",
    "                      infer_datetime_format = True,\n",
    "                      \n",
    "                     )\n",
    "treasury_df = treasury_df[\"Adj Close\"]\n",
    "treasury_df.head()"
   ]
  },
  {
   "cell_type": "code",
   "execution_count": 8,
   "id": "83f289ac-1b74-4872-8292-6ca04242ea52",
   "metadata": {},
   "outputs": [
    {
     "data": {
      "text/html": [
       "<div>\n",
       "<style scoped>\n",
       "    .dataframe tbody tr th:only-of-type {\n",
       "        vertical-align: middle;\n",
       "    }\n",
       "\n",
       "    .dataframe tbody tr th {\n",
       "        vertical-align: top;\n",
       "    }\n",
       "\n",
       "    .dataframe thead th {\n",
       "        text-align: right;\n",
       "    }\n",
       "</style>\n",
       "<table border=\"1\" class=\"dataframe\">\n",
       "  <thead>\n",
       "    <tr style=\"text-align: right;\">\n",
       "      <th></th>\n",
       "      <th>SHEL</th>\n",
       "      <th>COP</th>\n",
       "      <th>CVX</th>\n",
       "      <th>XOM</th>\n",
       "      <th>IXC</th>\n",
       "    </tr>\n",
       "    <tr>\n",
       "      <th>Date</th>\n",
       "      <th></th>\n",
       "      <th></th>\n",
       "      <th></th>\n",
       "      <th></th>\n",
       "      <th></th>\n",
       "    </tr>\n",
       "  </thead>\n",
       "  <tbody>\n",
       "    <tr>\n",
       "      <th>2017-10-01</th>\n",
       "      <td>49.569248</td>\n",
       "      <td>43.725098</td>\n",
       "      <td>92.921890</td>\n",
       "      <td>64.010841</td>\n",
       "      <td>27.338148</td>\n",
       "    </tr>\n",
       "    <tr>\n",
       "      <th>2017-11-01</th>\n",
       "      <td>50.426472</td>\n",
       "      <td>43.726921</td>\n",
       "      <td>95.407494</td>\n",
       "      <td>63.964775</td>\n",
       "      <td>27.707043</td>\n",
       "    </tr>\n",
       "    <tr>\n",
       "      <th>2017-12-01</th>\n",
       "      <td>53.255947</td>\n",
       "      <td>47.173164</td>\n",
       "      <td>101.318382</td>\n",
       "      <td>64.828041</td>\n",
       "      <td>28.508978</td>\n",
       "    </tr>\n",
       "    <tr>\n",
       "      <th>2018-01-01</th>\n",
       "      <td>56.074009</td>\n",
       "      <td>50.542061</td>\n",
       "      <td>101.447868</td>\n",
       "      <td>67.664841</td>\n",
       "      <td>29.981033</td>\n",
       "    </tr>\n",
       "    <tr>\n",
       "      <th>2018-02-01</th>\n",
       "      <td>50.509724</td>\n",
       "      <td>46.674702</td>\n",
       "      <td>90.578758</td>\n",
       "      <td>58.704857</td>\n",
       "      <td>27.226599</td>\n",
       "    </tr>\n",
       "  </tbody>\n",
       "</table>\n",
       "</div>"
      ],
      "text/plain": [
       "                 SHEL        COP         CVX        XOM        IXC\n",
       "Date                                                              \n",
       "2017-10-01  49.569248  43.725098   92.921890  64.010841  27.338148\n",
       "2017-11-01  50.426472  43.726921   95.407494  63.964775  27.707043\n",
       "2017-12-01  53.255947  47.173164  101.318382  64.828041  28.508978\n",
       "2018-01-01  56.074009  50.542061  101.447868  67.664841  29.981033\n",
       "2018-02-01  50.509724  46.674702   90.578758  58.704857  27.226599"
      ]
     },
     "execution_count": 8,
     "metadata": {},
     "output_type": "execute_result"
    }
   ],
   "source": [
    "#concatinating the dataframes to organize data in order to eventually get cumulative monthly returns\n",
    "energy_stocks_df = pd.concat([shel_df, cop_df,cvx_df,xom_df,ixc_df],\n",
    "                            axis=1)\n",
    "energy_stocks_df=energy_stocks_df.set_axis(['SHEL', 'COP', 'CVX','XOM', 'IXC'], axis=1)\n",
    "energy_stocks_df.head()"
   ]
  },
  {
   "cell_type": "code",
   "execution_count": 9,
   "id": "a99c04b0-0a2f-4b75-9cd8-7ed80c3797e7",
   "metadata": {},
   "outputs": [
    {
     "data": {
      "text/plain": [
       "<AxesSubplot:title={'center':'Monthly Returns'}, xlabel='Date'>"
      ]
     },
     "execution_count": 9,
     "metadata": {},
     "output_type": "execute_result"
    },
    {
     "data": {
      "image/png": "[encoded data removed]",
      "text/plain": [
       "<Figure size 720x720 with 1 Axes>"
      ]
     },
     "metadata": {
      "needs_background": "light"
     },
     "output_type": "display_data"
    }
   ],
   "source": [
    "#visualizing monthly returns\n",
    "energy_stocks_df.plot(figsize=(10,10), title = 'Monthly Returns')"
   ]
  },
  {
   "cell_type": "code",
   "execution_count": 10,
   "id": "5f5ec04b-503a-4297-bba3-132d982b08a4",
   "metadata": {},
   "outputs": [
    {
     "data": {
      "text/html": [
       "<div>\n",
       "<style scoped>\n",
       "    .dataframe tbody tr th:only-of-type {\n",
       "        vertical-align: middle;\n",
       "    }\n",
       "\n",
       "    .dataframe tbody tr th {\n",
       "        vertical-align: top;\n",
       "    }\n",
       "\n",
       "    .dataframe thead th {\n",
       "        text-align: right;\n",
       "    }\n",
       "</style>\n",
       "<table border=\"1\" class=\"dataframe\">\n",
       "  <thead>\n",
       "    <tr style=\"text-align: right;\">\n",
       "      <th></th>\n",
       "      <th>SHEL</th>\n",
       "      <th>COP</th>\n",
       "      <th>CVX</th>\n",
       "      <th>XOM</th>\n",
       "      <th>IXC</th>\n",
       "    </tr>\n",
       "  </thead>\n",
       "  <tbody>\n",
       "    <tr>\n",
       "      <th>count</th>\n",
       "      <td>60.000000</td>\n",
       "      <td>60.000000</td>\n",
       "      <td>60.000000</td>\n",
       "      <td>60.000000</td>\n",
       "      <td>60.000000</td>\n",
       "    </tr>\n",
       "    <tr>\n",
       "      <th>mean</th>\n",
       "      <td>45.889875</td>\n",
       "      <td>57.483592</td>\n",
       "      <td>102.559762</td>\n",
       "      <td>59.012818</td>\n",
       "      <td>26.304467</td>\n",
       "    </tr>\n",
       "    <tr>\n",
       "      <th>std</th>\n",
       "      <td>9.796329</td>\n",
       "      <td>19.451099</td>\n",
       "      <td>23.820843</td>\n",
       "      <td>15.466269</td>\n",
       "      <td>5.652586</td>\n",
       "    </tr>\n",
       "    <tr>\n",
       "      <th>min</th>\n",
       "      <td>23.520634</td>\n",
       "      <td>26.301830</td>\n",
       "      <td>63.304138</td>\n",
       "      <td>29.093813</td>\n",
       "      <td>14.297342</td>\n",
       "    </tr>\n",
       "    <tr>\n",
       "      <th>25%</th>\n",
       "      <td>38.613966</td>\n",
       "      <td>46.585681</td>\n",
       "      <td>92.272632</td>\n",
       "      <td>52.374467</td>\n",
       "      <td>23.553242</td>\n",
       "    </tr>\n",
       "    <tr>\n",
       "      <th>50%</th>\n",
       "      <td>50.453490</td>\n",
       "      <td>53.381300</td>\n",
       "      <td>99.191391</td>\n",
       "      <td>59.088278</td>\n",
       "      <td>26.737729</td>\n",
       "    </tr>\n",
       "    <tr>\n",
       "      <th>75%</th>\n",
       "      <td>53.041167</td>\n",
       "      <td>62.953677</td>\n",
       "      <td>104.786243</td>\n",
       "      <td>64.559563</td>\n",
       "      <td>30.031966</td>\n",
       "    </tr>\n",
       "    <tr>\n",
       "      <th>max</th>\n",
       "      <td>58.160614</td>\n",
       "      <td>108.933136</td>\n",
       "      <td>171.674988</td>\n",
       "      <td>95.997269</td>\n",
       "      <td>39.707764</td>\n",
       "    </tr>\n",
       "  </tbody>\n",
       "</table>\n",
       "</div>"
      ],
      "text/plain": [
       "            SHEL         COP         CVX        XOM        IXC\n",
       "count  60.000000   60.000000   60.000000  60.000000  60.000000\n",
       "mean   45.889875   57.483592  102.559762  59.012818  26.304467\n",
       "std     9.796329   19.451099   23.820843  15.466269   5.652586\n",
       "min    23.520634   26.301830   63.304138  29.093813  14.297342\n",
       "25%    38.613966   46.585681   92.272632  52.374467  23.553242\n",
       "50%    50.453490   53.381300   99.191391  59.088278  26.737729\n",
       "75%    53.041167   62.953677  104.786243  64.559563  30.031966\n",
       "max    58.160614  108.933136  171.674988  95.997269  39.707764"
      ]
     },
     "execution_count": 10,
     "metadata": {},
     "output_type": "execute_result"
    }
   ],
   "source": [
    "#stocks return summary\n",
    "energy_stocks_df.describe()\n"
   ]
  },
  {
   "cell_type": "code",
   "execution_count": 11,
   "id": "259c835e-cda9-4de4-afda-243b9012c9d9",
   "metadata": {},
   "outputs": [
    {
     "data": {
      "text/html": [
       "<div>\n",
       "<style scoped>\n",
       "    .dataframe tbody tr th:only-of-type {\n",
       "        vertical-align: middle;\n",
       "    }\n",
       "\n",
       "    .dataframe tbody tr th {\n",
       "        vertical-align: top;\n",
       "    }\n",
       "\n",
       "    .dataframe thead th {\n",
       "        text-align: right;\n",
       "    }\n",
       "</style>\n",
       "<table border=\"1\" class=\"dataframe\">\n",
       "  <thead>\n",
       "    <tr style=\"text-align: right;\">\n",
       "      <th></th>\n",
       "      <th>SHEL</th>\n",
       "      <th>COP</th>\n",
       "      <th>CVX</th>\n",
       "      <th>XOM</th>\n",
       "      <th>IXC</th>\n",
       "    </tr>\n",
       "    <tr>\n",
       "      <th>Date</th>\n",
       "      <th></th>\n",
       "      <th></th>\n",
       "      <th></th>\n",
       "      <th></th>\n",
       "      <th></th>\n",
       "    </tr>\n",
       "  </thead>\n",
       "  <tbody>\n",
       "    <tr>\n",
       "      <th>2017-11-01</th>\n",
       "      <td>0.017293</td>\n",
       "      <td>0.000042</td>\n",
       "      <td>0.026749</td>\n",
       "      <td>-0.000720</td>\n",
       "      <td>0.013494</td>\n",
       "    </tr>\n",
       "    <tr>\n",
       "      <th>2017-12-01</th>\n",
       "      <td>0.056111</td>\n",
       "      <td>0.078813</td>\n",
       "      <td>0.061954</td>\n",
       "      <td>0.013496</td>\n",
       "      <td>0.028943</td>\n",
       "    </tr>\n",
       "    <tr>\n",
       "      <th>2018-01-01</th>\n",
       "      <td>0.052915</td>\n",
       "      <td>0.071416</td>\n",
       "      <td>0.001278</td>\n",
       "      <td>0.043759</td>\n",
       "      <td>0.051635</td>\n",
       "    </tr>\n",
       "    <tr>\n",
       "      <th>2018-02-01</th>\n",
       "      <td>-0.099231</td>\n",
       "      <td>-0.076518</td>\n",
       "      <td>-0.107140</td>\n",
       "      <td>-0.132417</td>\n",
       "      <td>-0.091873</td>\n",
       "    </tr>\n",
       "    <tr>\n",
       "      <th>2018-03-01</th>\n",
       "      <td>0.023208</td>\n",
       "      <td>0.097571</td>\n",
       "      <td>0.029085</td>\n",
       "      <td>-0.004846</td>\n",
       "      <td>0.017061</td>\n",
       "    </tr>\n",
       "  </tbody>\n",
       "</table>\n",
       "</div>"
      ],
      "text/plain": [
       "                SHEL       COP       CVX       XOM       IXC\n",
       "Date                                                        \n",
       "2017-11-01  0.017293  0.000042  0.026749 -0.000720  0.013494\n",
       "2017-12-01  0.056111  0.078813  0.061954  0.013496  0.028943\n",
       "2018-01-01  0.052915  0.071416  0.001278  0.043759  0.051635\n",
       "2018-02-01 -0.099231 -0.076518 -0.107140 -0.132417 -0.091873\n",
       "2018-03-01  0.023208  0.097571  0.029085 -0.004846  0.017061"
      ]
     },
     "execution_count": 11,
     "metadata": {},
     "output_type": "execute_result"
    }
   ],
   "source": [
    "#calculated percentage change\n",
    "energy_stocks_df.pct_change().dropna().head()\n",
    "\n"
   ]
  },
  {
   "cell_type": "code",
   "execution_count": 12,
   "id": "109d8f5d-a47b-43f4-88a4-cc39628a6f8f",
   "metadata": {},
   "outputs": [
    {
     "data": {
      "text/plain": [
       "count    60.000000\n",
       "mean     59.012818\n",
       "std      15.466269\n",
       "min      29.093813\n",
       "25%      52.374467\n",
       "50%      59.088278\n",
       "75%      64.559563\n",
       "max      95.997269\n",
       "Name: Adj Close, dtype: float64"
      ]
     },
     "metadata": {},
     "output_type": "display_data"
    },
    {
     "data": {
      "text/plain": [
       "count     60.000000\n",
       "mean      57.483592\n",
       "std       19.451099\n",
       "min       26.301830\n",
       "25%       46.585681\n",
       "50%       53.381300\n",
       "75%       62.953677\n",
       "max      108.933136\n",
       "Name: Adj Close, dtype: float64"
      ]
     },
     "metadata": {},
     "output_type": "display_data"
    },
    {
     "data": {
      "text/plain": [
       "count     60.000000\n",
       "mean     102.559762\n",
       "std       23.820843\n",
       "min       63.304138\n",
       "25%       92.272632\n",
       "50%       99.191391\n",
       "75%      104.786243\n",
       "max      171.674988\n",
       "Name: Adj Close, dtype: float64"
      ]
     },
     "metadata": {},
     "output_type": "display_data"
    },
    {
     "data": {
      "text/plain": [
       "count    60.000000\n",
       "mean     45.889875\n",
       "std       9.796329\n",
       "min      23.520634\n",
       "25%      38.613966\n",
       "50%      50.453490\n",
       "75%      53.041167\n",
       "max      58.160614\n",
       "Name: Adj Close, dtype: float64"
      ]
     },
     "metadata": {},
     "output_type": "display_data"
    }
   ],
   "source": [
    "display(xom_df.describe())\n",
    "display(cop_df.describe())\n",
    "display(cvx_df.describe())\n",
    "display(shel_df.describe())"
   ]
  },
  {
   "cell_type": "code",
   "execution_count": 13,
   "id": "cf111304-694f-4f9b-8578-43704c6eb623",
   "metadata": {},
   "outputs": [
    {
     "data": {
      "text/plain": [
       "Date\n",
       "2017-10-01         NaN\n",
       "2017-11-01   -0.000720\n",
       "2017-12-01    0.013496\n",
       "2018-01-01    0.043759\n",
       "2018-02-01   -0.132417\n",
       "                ...   \n",
       "2022-05-01    0.126100\n",
       "2022-06-01   -0.098779\n",
       "2022-07-01    0.131831\n",
       "2022-08-01   -0.013824\n",
       "2022-09-01   -0.077745\n",
       "Name: Adj Close, Length: 60, dtype: float64"
      ]
     },
     "metadata": {},
     "output_type": "display_data"
    },
    {
     "data": {
      "text/plain": [
       "Date\n",
       "2017-10-01         NaN\n",
       "2017-11-01    0.000042\n",
       "2017-12-01    0.078813\n",
       "2018-01-01    0.071416\n",
       "2018-02-01   -0.076518\n",
       "                ...   \n",
       "2022-05-01    0.176298\n",
       "2022-06-01   -0.197105\n",
       "2022-07-01    0.093264\n",
       "2022-08-01    0.123371\n",
       "2022-09-01   -0.060756\n",
       "Name: Adj Close, Length: 60, dtype: float64"
      ]
     },
     "metadata": {},
     "output_type": "display_data"
    },
    {
     "data": {
      "text/plain": [
       "Date\n",
       "2017-10-01         NaN\n",
       "2017-11-01    0.026749\n",
       "2017-12-01    0.061954\n",
       "2018-01-01    0.001278\n",
       "2018-02-01   -0.107140\n",
       "                ...   \n",
       "2022-05-01    0.114827\n",
       "2022-06-01   -0.164256\n",
       "2022-07-01    0.131234\n",
       "2022-08-01   -0.034925\n",
       "2022-09-01   -0.082782\n",
       "Name: Adj Close, Length: 60, dtype: float64"
      ]
     },
     "metadata": {},
     "output_type": "display_data"
    },
    {
     "data": {
      "text/plain": [
       "Date\n",
       "2017-10-01         NaN\n",
       "2017-11-01    0.017293\n",
       "2017-12-01    0.056111\n",
       "2018-01-01    0.052915\n",
       "2018-02-01   -0.099231\n",
       "                ...   \n",
       "2022-05-01    0.108366\n",
       "2022-06-01   -0.109399\n",
       "2022-07-01    0.020845\n",
       "2022-08-01   -0.007494\n",
       "2022-09-01   -0.051855\n",
       "Name: Adj Close, Length: 60, dtype: float64"
      ]
     },
     "metadata": {},
     "output_type": "display_data"
    }
   ],
   "source": [
    "display(xom_df.pct_change())\n",
    "display(cop_df.pct_change())\n",
    "display(cvx_df.pct_change())\n",
    "display(shel_df.pct_change())"
   ]
  },
  {
   "cell_type": "code",
   "execution_count": 14,
   "id": "026e348f-a09c-4e69-9bfa-bd800674c8dc",
   "metadata": {},
   "outputs": [
    {
     "data": {
      "text/plain": [
       "count    60.000000\n",
       "mean     26.304467\n",
       "std       5.652586\n",
       "min      14.297342\n",
       "25%      23.553242\n",
       "50%      26.737729\n",
       "75%      30.031966\n",
       "max      39.707764\n",
       "Name: Adj Close, dtype: float64"
      ]
     },
     "metadata": {},
     "output_type": "display_data"
    },
    {
     "data": {
      "text/plain": [
       "Date\n",
       "2017-10-01         NaN\n",
       "2017-11-01    0.013494\n",
       "2017-12-01    0.028943\n",
       "2018-01-01    0.051635\n",
       "2018-02-01   -0.091873\n",
       "                ...   \n",
       "2022-05-01    0.139515\n",
       "2022-06-01   -0.162008\n",
       "2022-07-01    0.089414\n",
       "2022-08-01    0.017931\n",
       "2022-09-01   -0.096748\n",
       "Name: Adj Close, Length: 60, dtype: float64"
      ]
     },
     "metadata": {},
     "output_type": "display_data"
    }
   ],
   "source": [
    "display(ixc_df.describe())\n",
    "display(ixc_df.pct_change())"
   ]
  },
  {
   "cell_type": "code",
   "execution_count": 15,
   "id": "57241c9f-1f3e-42ca-957c-643b24069531",
   "metadata": {},
   "outputs": [
    {
     "data": {
      "text/plain": [
       "26"
      ]
     },
     "execution_count": 15,
     "metadata": {},
     "output_type": "execute_result"
    }
   ],
   "source": [
    "shel_count = np.count_nonzero(shel_df.pct_change()> ixc_df.pct_change())\n",
    "shel_count"
   ]
  },
  {
   "cell_type": "code",
   "execution_count": 16,
   "id": "fb51c13f-2faf-475e-a5bf-b59b10d4292a",
   "metadata": {},
   "outputs": [
    {
     "data": {
      "text/plain": [
       "35"
      ]
     },
     "execution_count": 16,
     "metadata": {},
     "output_type": "execute_result"
    }
   ],
   "source": [
    "cop_count = np.count_nonzero(cop_df.pct_change()> ixc_df.pct_change())\n",
    "cop_count"
   ]
  },
  {
   "cell_type": "code",
   "execution_count": 17,
   "id": "8a39c8e7-ff8c-465d-a677-d58265f5b052",
   "metadata": {},
   "outputs": [
    {
     "data": {
      "text/plain": [
       "32"
      ]
     },
     "execution_count": 17,
     "metadata": {},
     "output_type": "execute_result"
    }
   ],
   "source": [
    "cvx_count = np.count_nonzero(cvx_df.pct_change()> ixc_df.pct_change())\n",
    "cvx_count"
   ]
  },
  {
   "cell_type": "code",
   "execution_count": 18,
   "id": "d28cb369-ab4d-4bd7-a470-21b088bab882",
   "metadata": {},
   "outputs": [
    {
     "data": {
      "text/plain": [
       "29"
      ]
     },
     "execution_count": 18,
     "metadata": {},
     "output_type": "execute_result"
    }
   ],
   "source": [
    "xom_count = np.count_nonzero(xom_df.pct_change()> ixc_df.pct_change())\n",
    "xom_count"
   ]
  },
  {
   "cell_type": "code",
   "execution_count": 19,
   "id": "7c9d4e1a-d656-4e8f-9127-460d94de6740",
   "metadata": {},
   "outputs": [
    {
     "data": {
      "text/html": [
       "<div>\n",
       "<style scoped>\n",
       "    .dataframe tbody tr th:only-of-type {\n",
       "        vertical-align: middle;\n",
       "    }\n",
       "\n",
       "    .dataframe tbody tr th {\n",
       "        vertical-align: top;\n",
       "    }\n",
       "\n",
       "    .dataframe thead th {\n",
       "        text-align: right;\n",
       "    }\n",
       "</style>\n",
       "<table border=\"1\" class=\"dataframe\">\n",
       "  <thead>\n",
       "    <tr style=\"text-align: right;\">\n",
       "      <th></th>\n",
       "      <th>Number of Times Stock Outperformed IXC</th>\n",
       "    </tr>\n",
       "  </thead>\n",
       "  <tbody>\n",
       "    <tr>\n",
       "      <th>XOM</th>\n",
       "      <td>29</td>\n",
       "    </tr>\n",
       "    <tr>\n",
       "      <th>CVX</th>\n",
       "      <td>32</td>\n",
       "    </tr>\n",
       "    <tr>\n",
       "      <th>SHEL</th>\n",
       "      <td>26</td>\n",
       "    </tr>\n",
       "    <tr>\n",
       "      <th>COP</th>\n",
       "      <td>35</td>\n",
       "    </tr>\n",
       "  </tbody>\n",
       "</table>\n",
       "</div>"
      ],
      "text/plain": [
       "      Number of Times Stock Outperformed IXC \n",
       "XOM                                        29\n",
       "CVX                                        32\n",
       "SHEL                                       26\n",
       "COP                                        35"
      ]
     },
     "execution_count": 19,
     "metadata": {},
     "output_type": "execute_result"
    }
   ],
   "source": [
    "outperformance = [ xom_count, cvx_count, shel_count, cop_count]\n",
    "pct_outperformance_df = pd.DataFrame (outperformance, columns = ['Number of Times Stock Outperformed IXC '], index = ['XOM','CVX','SHEL','COP'])\n",
    "pct_outperformance_df"
   ]
  },
  {
   "cell_type": "code",
   "execution_count": 20,
   "id": "9c894b6e-bc20-4361-a55f-7d9a05118852",
   "metadata": {},
   "outputs": [
    {
     "data": {
      "text/plain": [
       "<AxesSubplot:title={'center':'Energy Stock Outperformance vs Energy ETF (IXC)'}>"
      ]
     },
     "execution_count": 20,
     "metadata": {},
     "output_type": "execute_result"
    },
    {
     "data": {
      "image/png": "[encoded data removed]",
      "text/plain": [
       "<Figure size 720x360 with 1 Axes>"
      ]
     },
     "metadata": {
      "needs_background": "light"
     },
     "output_type": "display_data"
    }
   ],
   "source": [
    "pct_outperformance_df.plot(kind='bar',figsize=(10,5), title=\"Energy Stock Outperformance vs Energy ETF (IXC)\", color='green')"
   ]
  },
  {
   "cell_type": "code",
   "execution_count": 21,
   "id": "d8712422-147b-40b2-ae25-870b2c0bd452",
   "metadata": {},
   "outputs": [],
   "source": [
    "#Analysis: From gathering data and cleaning it up to calculate percent \n",
    "#changes between the stocks we picked and the IXC ETF, we found the number of times(monthly) within\n",
    "# a 5 year period where the stocks returns outperformed the ETF. XOM outperformed IXC 26 times, CVX beat IXC\n",
    "#32 times, SHEL beat IXC 26 times and COP beat IXC 35 times. This makes COP the safest stock within the IXC \n",
    "# to invest in, in terms of monthly returns calculated from percentage change.\n"
   ]
  },
  {
   "cell_type": "code",
   "execution_count": 22,
   "id": "7eb1d2fe-e6d0-48de-80bb-b09f2d388bb3",
   "metadata": {},
   "outputs": [
    {
     "data": {
      "text/plain": [
       "SHEL    0.003848\n",
       "COP     1.307353\n",
       "CVX     0.546137\n",
       "XOM     0.363988\n",
       "IXC     0.219176\n",
       "dtype: float64"
      ]
     },
     "execution_count": 22,
     "metadata": {},
     "output_type": "execute_result"
    }
   ],
   "source": [
    "cumulative_return = (energy_stocks_df.iloc[-1] - energy_stocks_df.iloc[0]) / energy_stocks_df.iloc[0]\n",
    "cumulative_return"
   ]
  },
  {
   "cell_type": "code",
   "execution_count": 23,
   "id": "f495ef85-3242-424a-9e06-d0915456a802",
   "metadata": {},
   "outputs": [],
   "source": [
    "cumulative_return= cumulative_return*100"
   ]
  },
  {
   "cell_type": "code",
   "execution_count": 24,
   "id": "3f71d9a3-414f-4354-ba3d-93927532d711",
   "metadata": {},
   "outputs": [
    {
     "data": {
      "text/html": [
       "<div>\n",
       "<style scoped>\n",
       "    .dataframe tbody tr th:only-of-type {\n",
       "        vertical-align: middle;\n",
       "    }\n",
       "\n",
       "    .dataframe tbody tr th {\n",
       "        vertical-align: top;\n",
       "    }\n",
       "\n",
       "    .dataframe thead th {\n",
       "        text-align: right;\n",
       "    }\n",
       "</style>\n",
       "<table border=\"1\" class=\"dataframe\">\n",
       "  <thead>\n",
       "    <tr style=\"text-align: right;\">\n",
       "      <th></th>\n",
       "      <th>Cumulative Return</th>\n",
       "    </tr>\n",
       "  </thead>\n",
       "  <tbody>\n",
       "    <tr>\n",
       "      <th>SHEL</th>\n",
       "      <td>0.384815</td>\n",
       "    </tr>\n",
       "    <tr>\n",
       "      <th>COP</th>\n",
       "      <td>130.735318</td>\n",
       "    </tr>\n",
       "    <tr>\n",
       "      <th>CVX</th>\n",
       "      <td>54.613728</td>\n",
       "    </tr>\n",
       "    <tr>\n",
       "      <th>XOM</th>\n",
       "      <td>36.398767</td>\n",
       "    </tr>\n",
       "    <tr>\n",
       "      <th>IXC</th>\n",
       "      <td>21.917556</td>\n",
       "    </tr>\n",
       "  </tbody>\n",
       "</table>\n",
       "</div>"
      ],
      "text/plain": [
       "      Cumulative Return\n",
       "SHEL           0.384815\n",
       "COP          130.735318\n",
       "CVX           54.613728\n",
       "XOM           36.398767\n",
       "IXC           21.917556"
      ]
     },
     "execution_count": 24,
     "metadata": {},
     "output_type": "execute_result"
    }
   ],
   "source": [
    "cumulative_return_df=pd.DataFrame(cumulative_return,columns=['Cumulative Return'])\n",
    "cumulative_return_df"
   ]
  },
  {
   "cell_type": "code",
   "execution_count": 25,
   "id": "5276a13b-eb1a-47fd-b61c-f67ccac5f5c0",
   "metadata": {},
   "outputs": [
    {
     "data": {
      "text/plain": [
       "<AxesSubplot:title={'center':'Cumulative Returns'}>"
      ]
     },
     "execution_count": 25,
     "metadata": {},
     "output_type": "execute_result"
    },
    {
     "data": {
      "image/png": "[encoded data removed]",
      "text/plain": [
       "<Figure size 432x288 with 1 Axes>"
      ]
     },
     "metadata": {
      "needs_background": "light"
     },
     "output_type": "display_data"
    }
   ],
   "source": [
    "cumulative_return_df.plot.bar(title=\"Cumulative Returns\")"
   ]
  },
  {
   "cell_type": "code",
   "execution_count": 26,
   "id": "6330a972-2aa4-406a-9989-46c53282ccc3",
   "metadata": {},
   "outputs": [
    {
     "data": {
      "text/html": [
       "<div>\n",
       "<style scoped>\n",
       "    .dataframe tbody tr th:only-of-type {\n",
       "        vertical-align: middle;\n",
       "    }\n",
       "\n",
       "    .dataframe tbody tr th {\n",
       "        vertical-align: top;\n",
       "    }\n",
       "\n",
       "    .dataframe thead th {\n",
       "        text-align: right;\n",
       "    }\n",
       "</style>\n",
       "<table border=\"1\" class=\"dataframe\">\n",
       "  <thead>\n",
       "    <tr style=\"text-align: right;\">\n",
       "      <th></th>\n",
       "      <th>SHEL</th>\n",
       "      <th>COP</th>\n",
       "      <th>CVX</th>\n",
       "      <th>XOM</th>\n",
       "      <th>IXC</th>\n",
       "    </tr>\n",
       "    <tr>\n",
       "      <th>Date</th>\n",
       "      <th></th>\n",
       "      <th></th>\n",
       "      <th></th>\n",
       "      <th></th>\n",
       "      <th></th>\n",
       "    </tr>\n",
       "  </thead>\n",
       "  <tbody>\n",
       "    <tr>\n",
       "      <th>2017-10-01</th>\n",
       "      <td>NaN</td>\n",
       "      <td>NaN</td>\n",
       "      <td>NaN</td>\n",
       "      <td>NaN</td>\n",
       "      <td>NaN</td>\n",
       "    </tr>\n",
       "    <tr>\n",
       "      <th>2017-11-01</th>\n",
       "      <td>0.017293</td>\n",
       "      <td>0.000042</td>\n",
       "      <td>0.026749</td>\n",
       "      <td>-0.000720</td>\n",
       "      <td>0.013494</td>\n",
       "    </tr>\n",
       "    <tr>\n",
       "      <th>2017-12-01</th>\n",
       "      <td>0.056111</td>\n",
       "      <td>0.078813</td>\n",
       "      <td>0.061954</td>\n",
       "      <td>0.013496</td>\n",
       "      <td>0.028943</td>\n",
       "    </tr>\n",
       "    <tr>\n",
       "      <th>2018-01-01</th>\n",
       "      <td>0.052915</td>\n",
       "      <td>0.071416</td>\n",
       "      <td>0.001278</td>\n",
       "      <td>0.043759</td>\n",
       "      <td>0.051635</td>\n",
       "    </tr>\n",
       "    <tr>\n",
       "      <th>2018-02-01</th>\n",
       "      <td>-0.099231</td>\n",
       "      <td>-0.076518</td>\n",
       "      <td>-0.107140</td>\n",
       "      <td>-0.132417</td>\n",
       "      <td>-0.091873</td>\n",
       "    </tr>\n",
       "  </tbody>\n",
       "</table>\n",
       "</div>"
      ],
      "text/plain": [
       "                SHEL       COP       CVX       XOM       IXC\n",
       "Date                                                        \n",
       "2017-10-01       NaN       NaN       NaN       NaN       NaN\n",
       "2017-11-01  0.017293  0.000042  0.026749 -0.000720  0.013494\n",
       "2017-12-01  0.056111  0.078813  0.061954  0.013496  0.028943\n",
       "2018-01-01  0.052915  0.071416  0.001278  0.043759  0.051635\n",
       "2018-02-01 -0.099231 -0.076518 -0.107140 -0.132417 -0.091873"
      ]
     },
     "execution_count": 26,
     "metadata": {},
     "output_type": "execute_result"
    }
   ],
   "source": [
    "df_monthly_returns = energy_stocks_df.pct_change()\n",
    "df_monthly_returns.head()"
   ]
  },
  {
   "cell_type": "code",
   "execution_count": 27,
   "id": "0d2de434-1df5-4284-92f4-c6f0b17e905d",
   "metadata": {},
   "outputs": [
    {
     "data": {
      "text/html": [
       "<div>\n",
       "<style scoped>\n",
       "    .dataframe tbody tr th:only-of-type {\n",
       "        vertical-align: middle;\n",
       "    }\n",
       "\n",
       "    .dataframe tbody tr th {\n",
       "        vertical-align: top;\n",
       "    }\n",
       "\n",
       "    .dataframe thead th {\n",
       "        text-align: right;\n",
       "    }\n",
       "</style>\n",
       "<table border=\"1\" class=\"dataframe\">\n",
       "  <thead>\n",
       "    <tr style=\"text-align: right;\">\n",
       "      <th></th>\n",
       "      <th>SHEL</th>\n",
       "      <th>COP</th>\n",
       "      <th>CVX</th>\n",
       "      <th>XOM</th>\n",
       "      <th>IXC</th>\n",
       "    </tr>\n",
       "    <tr>\n",
       "      <th>Date</th>\n",
       "      <th></th>\n",
       "      <th></th>\n",
       "      <th></th>\n",
       "      <th></th>\n",
       "      <th></th>\n",
       "    </tr>\n",
       "  </thead>\n",
       "  <tbody>\n",
       "    <tr>\n",
       "      <th>2017-10-01</th>\n",
       "      <td>NaN</td>\n",
       "      <td>NaN</td>\n",
       "      <td>NaN</td>\n",
       "      <td>NaN</td>\n",
       "      <td>NaN</td>\n",
       "    </tr>\n",
       "    <tr>\n",
       "      <th>2017-11-01</th>\n",
       "      <td>0.017293</td>\n",
       "      <td>0.000042</td>\n",
       "      <td>0.026749</td>\n",
       "      <td>-0.000720</td>\n",
       "      <td>0.013494</td>\n",
       "    </tr>\n",
       "    <tr>\n",
       "      <th>2017-12-01</th>\n",
       "      <td>0.073404</td>\n",
       "      <td>0.078855</td>\n",
       "      <td>0.088704</td>\n",
       "      <td>0.012776</td>\n",
       "      <td>0.042437</td>\n",
       "    </tr>\n",
       "    <tr>\n",
       "      <th>2018-01-01</th>\n",
       "      <td>0.126320</td>\n",
       "      <td>0.150270</td>\n",
       "      <td>0.089982</td>\n",
       "      <td>0.056535</td>\n",
       "      <td>0.094072</td>\n",
       "    </tr>\n",
       "    <tr>\n",
       "      <th>2018-02-01</th>\n",
       "      <td>0.027089</td>\n",
       "      <td>0.073752</td>\n",
       "      <td>-0.017158</td>\n",
       "      <td>-0.075882</td>\n",
       "      <td>0.002199</td>\n",
       "    </tr>\n",
       "  </tbody>\n",
       "</table>\n",
       "</div>"
      ],
      "text/plain": [
       "                SHEL       COP       CVX       XOM       IXC\n",
       "Date                                                        \n",
       "2017-10-01       NaN       NaN       NaN       NaN       NaN\n",
       "2017-11-01  0.017293  0.000042  0.026749 -0.000720  0.013494\n",
       "2017-12-01  0.073404  0.078855  0.088704  0.012776  0.042437\n",
       "2018-01-01  0.126320  0.150270  0.089982  0.056535  0.094072\n",
       "2018-02-01  0.027089  0.073752 -0.017158 -0.075882  0.002199"
      ]
     },
     "execution_count": 27,
     "metadata": {},
     "output_type": "execute_result"
    }
   ],
   "source": [
    "df_cumul_monthly_returns = df_monthly_returns.cumsum() \n",
    "\n",
    "df_cumul_monthly_returns.head()"
   ]
  },
  {
   "cell_type": "code",
   "execution_count": 28,
   "id": "f0e07d80-0545-4d32-bece-7608adad251f",
   "metadata": {},
   "outputs": [
    {
     "data": {
      "text/plain": [
       "<AxesSubplot:title={'center':'cumul returns'}, xlabel='Date'>"
      ]
     },
     "execution_count": 28,
     "metadata": {},
     "output_type": "execute_result"
    },
    {
     "data": {
      "image/png": "[encoded data removed]",
      "text/plain": [
       "<Figure size 720x720 with 1 Axes>"
      ]
     },
     "metadata": {
      "needs_background": "light"
     },
     "output_type": "display_data"
    }
   ],
   "source": [
    "df_cumul_monthly_returns.plot.line(title='cumul returns', figsize=(10,10))"
   ]
  },
  {
   "cell_type": "code",
   "execution_count": 29,
   "id": "5b354aaa-dd84-46a0-b879-650dd26f30a7",
   "metadata": {},
   "outputs": [
    {
     "data": {
      "text/html": [
       "<div>\n",
       "<style scoped>\n",
       "    .dataframe tbody tr th:only-of-type {\n",
       "        vertical-align: middle;\n",
       "    }\n",
       "\n",
       "    .dataframe tbody tr th {\n",
       "        vertical-align: top;\n",
       "    }\n",
       "\n",
       "    .dataframe thead th {\n",
       "        text-align: right;\n",
       "    }\n",
       "</style>\n",
       "<table border=\"1\" class=\"dataframe\">\n",
       "  <thead>\n",
       "    <tr style=\"text-align: right;\">\n",
       "      <th></th>\n",
       "      <th>SHEL</th>\n",
       "      <th>COP</th>\n",
       "      <th>CVX</th>\n",
       "      <th>XOM</th>\n",
       "      <th>IXC</th>\n",
       "    </tr>\n",
       "    <tr>\n",
       "      <th>Date</th>\n",
       "      <th></th>\n",
       "      <th></th>\n",
       "      <th></th>\n",
       "      <th></th>\n",
       "      <th></th>\n",
       "    </tr>\n",
       "  </thead>\n",
       "  <tbody>\n",
       "    <tr>\n",
       "      <th>2022-09-01</th>\n",
       "      <td>19.893261</td>\n",
       "      <td>130.167171</td>\n",
       "      <td>66.951164</td>\n",
       "      <td>57.54117</td>\n",
       "      <td>44.546831</td>\n",
       "    </tr>\n",
       "  </tbody>\n",
       "</table>\n",
       "</div>"
      ],
      "text/plain": [
       "                 SHEL         COP        CVX       XOM        IXC\n",
       "Date                                                             \n",
       "2022-09-01  19.893261  130.167171  66.951164  57.54117  44.546831"
      ]
     },
     "execution_count": 29,
     "metadata": {},
     "output_type": "execute_result"
    }
   ],
   "source": [
    "cumul_return_entire_period = df_cumul_monthly_returns.tail(1)\n",
    "cumul_return_entire_period * 100"
   ]
  },
  {
   "cell_type": "code",
   "execution_count": 30,
   "id": "0f09eee4-e314-4ced-b6c4-2414a3b78c3b",
   "metadata": {},
   "outputs": [
    {
     "data": {
      "text/plain": [
       "Date\n",
       "2022-09-01   -0.246536\n",
       "dtype: float64"
      ]
     },
     "execution_count": 30,
     "metadata": {},
     "output_type": "execute_result"
    }
   ],
   "source": [
    "shel_alpha_cumul = (cumul_return_entire_period['SHEL']-cumul_return_entire_period['IXC'])\n",
    "shel_alpha_cumul"
   ]
  },
  {
   "cell_type": "code",
   "execution_count": null,
   "id": "39076d04-b134-41e2-8960-66d6f45eb2b3",
   "metadata": {},
   "outputs": [],
   "source": []
  },
  {
   "cell_type": "code",
   "execution_count": 31,
   "id": "c9d3b98f-1bcc-4f5b-8c0c-65642ca824b5",
   "metadata": {},
   "outputs": [
    {
     "data": {
      "text/html": [
       "<div>\n",
       "<style scoped>\n",
       "    .dataframe tbody tr th:only-of-type {\n",
       "        vertical-align: middle;\n",
       "    }\n",
       "\n",
       "    .dataframe tbody tr th {\n",
       "        vertical-align: top;\n",
       "    }\n",
       "\n",
       "    .dataframe thead th {\n",
       "        text-align: right;\n",
       "    }\n",
       "</style>\n",
       "<table border=\"1\" class=\"dataframe\">\n",
       "  <thead>\n",
       "    <tr style=\"text-align: right;\">\n",
       "      <th></th>\n",
       "      <th>Date</th>\n",
       "      <th>ticker</th>\n",
       "      <th>cumul_return</th>\n",
       "      <th>cumul_monthly_return_pct</th>\n",
       "    </tr>\n",
       "  </thead>\n",
       "  <tbody>\n",
       "    <tr>\n",
       "      <th>0</th>\n",
       "      <td>2017-10-01</td>\n",
       "      <td>SHEL</td>\n",
       "      <td>NaN</td>\n",
       "      <td>NaN</td>\n",
       "    </tr>\n",
       "    <tr>\n",
       "      <th>1</th>\n",
       "      <td>2017-11-01</td>\n",
       "      <td>SHEL</td>\n",
       "      <td>0.017293</td>\n",
       "      <td>1.729346</td>\n",
       "    </tr>\n",
       "    <tr>\n",
       "      <th>2</th>\n",
       "      <td>2017-12-01</td>\n",
       "      <td>SHEL</td>\n",
       "      <td>0.073404</td>\n",
       "      <td>7.340437</td>\n",
       "    </tr>\n",
       "    <tr>\n",
       "      <th>3</th>\n",
       "      <td>2018-01-01</td>\n",
       "      <td>SHEL</td>\n",
       "      <td>0.126320</td>\n",
       "      <td>12.631981</td>\n",
       "    </tr>\n",
       "    <tr>\n",
       "      <th>4</th>\n",
       "      <td>2018-02-01</td>\n",
       "      <td>SHEL</td>\n",
       "      <td>0.027089</td>\n",
       "      <td>2.708872</td>\n",
       "    </tr>\n",
       "    <tr>\n",
       "      <th>...</th>\n",
       "      <td>...</td>\n",
       "      <td>...</td>\n",
       "      <td>...</td>\n",
       "      <td>...</td>\n",
       "    </tr>\n",
       "    <tr>\n",
       "      <th>295</th>\n",
       "      <td>2022-05-01</td>\n",
       "      <td>IXC</td>\n",
       "      <td>0.596880</td>\n",
       "      <td>59.687968</td>\n",
       "    </tr>\n",
       "    <tr>\n",
       "      <th>296</th>\n",
       "      <td>2022-06-01</td>\n",
       "      <td>IXC</td>\n",
       "      <td>0.434871</td>\n",
       "      <td>43.487129</td>\n",
       "    </tr>\n",
       "    <tr>\n",
       "      <th>297</th>\n",
       "      <td>2022-07-01</td>\n",
       "      <td>IXC</td>\n",
       "      <td>0.524285</td>\n",
       "      <td>52.428518</td>\n",
       "    </tr>\n",
       "    <tr>\n",
       "      <th>298</th>\n",
       "      <td>2022-08-01</td>\n",
       "      <td>IXC</td>\n",
       "      <td>0.542216</td>\n",
       "      <td>54.221627</td>\n",
       "    </tr>\n",
       "    <tr>\n",
       "      <th>299</th>\n",
       "      <td>2022-09-01</td>\n",
       "      <td>IXC</td>\n",
       "      <td>0.445468</td>\n",
       "      <td>44.546831</td>\n",
       "    </tr>\n",
       "  </tbody>\n",
       "</table>\n",
       "<p>300 rows × 4 columns</p>\n",
       "</div>"
      ],
      "text/plain": [
       "          Date ticker  cumul_return  cumul_monthly_return_pct\n",
       "0   2017-10-01   SHEL           NaN                       NaN\n",
       "1   2017-11-01   SHEL      0.017293                  1.729346\n",
       "2   2017-12-01   SHEL      0.073404                  7.340437\n",
       "3   2018-01-01   SHEL      0.126320                 12.631981\n",
       "4   2018-02-01   SHEL      0.027089                  2.708872\n",
       "..         ...    ...           ...                       ...\n",
       "295 2022-05-01    IXC      0.596880                 59.687968\n",
       "296 2022-06-01    IXC      0.434871                 43.487129\n",
       "297 2022-07-01    IXC      0.524285                 52.428518\n",
       "298 2022-08-01    IXC      0.542216                 54.221627\n",
       "299 2022-09-01    IXC      0.445468                 44.546831\n",
       "\n",
       "[300 rows x 4 columns]"
      ]
     },
     "execution_count": 31,
     "metadata": {},
     "output_type": "execute_result"
    }
   ],
   "source": [
    "df_cumul_monthly_returns = df_cumul_monthly_returns.reset_index()\n",
    "df1 = df_cumul_monthly_returns.melt(id_vars=['Date'], var_name='ticker', value_name='cumul_return')\n",
    "df1['cumul_monthly_return_pct'] = df1['cumul_return'] * 100\n",
    "df1"
   ]
  },
  {
   "cell_type": "code",
   "execution_count": 32,
   "id": "78f4776b-9012-4140-86c0-efedf4e0cdd0",
   "metadata": {},
   "outputs": [
    {
     "data": {
      "application/vnd.plotly.v1+json": {
       "config": {
        "plotlyServerURL": "https://plot.ly"
       },
       "data": [
        {
         "hovertemplate": "ticker=SHEL<br>Date=%{x}<br>monthly cumulative returns (%)=%{y}<extra></extra>",
         "legendgroup": "SHEL",
         "line": {
          "color": "#636efa",
          "dash": "solid"
         },
         "marker": {
          "symbol": "circle"
         },
         "mode": "lines",
         "name": "SHEL",
         "orientation": "v",
         "showlegend": true,
         "type": "scatter",
         "x": [
          "2017-10-01T00:00:00",
          "2017-11-01T00:00:00",
          "2017-12-01T00:00:00",
          "2018-01-01T00:00:00",
          "2018-02-01T00:00:00",
          "2018-03-01T00:00:00",
          "2018-04-01T00:00:00",
          "2018-05-01T00:00:00",
          "2018-06-01T00:00:00",
          "2018-07-01T00:00:00",
          "2018-08-01T00:00:00",
          "2018-09-01T00:00:00",
          "2018-10-01T00:00:00",
          "2018-11-01T00:00:00",
          "2018-12-01T00:00:00",
          "2019-01-01T00:00:00",
          "2019-02-01T00:00:00",
          "2019-03-01T00:00:00",
          "2019-04-01T00:00:00",
          "2019-05-01T00:00:00",
          "2019-06-01T00:00:00",
          "2019-07-01T00:00:00",
          "2019-08-01T00:00:00",
          "2019-09-01T00:00:00",
          "2019-10-01T00:00:00",
          "2019-11-01T00:00:00",
          "2019-12-01T00:00:00",
          "2020-01-01T00:00:00",
          "2020-02-01T00:00:00",
          "2020-03-01T00:00:00",
          "2020-04-01T00:00:00",
          "2020-05-01T00:00:00",
          "2020-06-01T00:00:00",
          "2020-07-01T00:00:00",
          "2020-08-01T00:00:00",
          "2020-09-01T00:00:00",
          "2020-10-01T00:00:00",
          "2020-11-01T00:00:00",
          "2020-12-01T00:00:00",
          "2021-01-01T00:00:00",
          "2021-02-01T00:00:00",
          "2021-03-01T00:00:00",
          "2021-04-01T00:00:00",
          "2021-05-01T00:00:00",
          "2021-06-01T00:00:00",
          "2021-07-01T00:00:00",
          "2021-08-01T00:00:00",
          "2021-09-01T00:00:00",
          "2021-10-01T00:00:00",
          "2021-11-01T00:00:00",
          "2021-12-01T00:00:00",
          "2022-01-01T00:00:00",
          "2022-02-01T00:00:00",
          "2022-03-01T00:00:00",
          "2022-04-01T00:00:00",
          "2022-05-01T00:00:00",
          "2022-06-01T00:00:00",
          "2022-07-01T00:00:00",
          "2022-08-01T00:00:00",
          "2022-09-01T00:00:00"
         ],
         "xaxis": "x",
         "y": [
          null,
          1.7293463883091276,
          7.340436928214444,
          12.631981175845608,
          2.708872236015747,
          5.02967090044717,
          14.573634922085432,
          14.115819021342046,
          14.934390203770942,
          13.692141858578443,
          9.09950345713061,
          15.041884543027539,
          7.7774315614323575,
          3.3621776204605602,
          1.3370768690754709,
          7.274979140461468,
          8.05255642822489,
          10.186074670668944,
          11.687917250784196,
          8.980529728450781,
          15.802916743640939,
          12.452663569079148,
          0.8609961462069604,
          8.500962549481962,
          7.005632451531952,
          6.177619996833172,
          10.394260301325042,
          -1.185937252798186,
          -16.75641326095201,
          -36.0745071064106,
          -41.118940822744975,
          -44.68067830447301,
          -41.298760309591046,
          -50.10880154532763,
          -50.54486583474005,
          -64.90657996990478,
          -63.396850257686985,
          -30.950665989912483,
          -25.99564915632667,
          -21.01555852738001,
          -9.79301663586426,
          -13.437707957921496,
          -16.523644828151784,
          -14.918388817194717,
          -9.357295936285892,
          -8.812749367012751,
          -10.92992372431163,
          2.4679695138780433,
          5.496903685257215,
          -2.952564163082849,
          1.3700899127633503,
          19.803268944323314,
          21.729331216241455,
          26.57758891918092,
          23.84683975569549,
          34.6834510497431,
          23.743564823645137,
          25.82809298481087,
          25.078740484262006,
          19.893260619781994
         ],
         "yaxis": "y"
        },
        {
         "hovertemplate": "ticker=COP<br>Date=%{x}<br>monthly cumulative returns (%)=%{y}<extra></extra>",
         "legendgroup": "COP",
         "line": {
          "color": "#EF553B",
          "dash": "solid"
         },
         "marker": {
          "symbol": "circle"
         },
         "mode": "lines",
         "name": "COP",
         "orientation": "v",
         "showlegend": true,
         "type": "scatter",
         "x": [
          "2017-10-01T00:00:00",
          "2017-11-01T00:00:00",
          "2017-12-01T00:00:00",
          "2018-01-01T00:00:00",
          "2018-02-01T00:00:00",
          "2018-03-01T00:00:00",
          "2018-04-01T00:00:00",
          "2018-05-01T00:00:00",
          "2018-06-01T00:00:00",
          "2018-07-01T00:00:00",
          "2018-08-01T00:00:00",
          "2018-09-01T00:00:00",
          "2018-10-01T00:00:00",
          "2018-11-01T00:00:00",
          "2018-12-01T00:00:00",
          "2019-01-01T00:00:00",
          "2019-02-01T00:00:00",
          "2019-03-01T00:00:00",
          "2019-04-01T00:00:00",
          "2019-05-01T00:00:00",
          "2019-06-01T00:00:00",
          "2019-07-01T00:00:00",
          "2019-08-01T00:00:00",
          "2019-09-01T00:00:00",
          "2019-10-01T00:00:00",
          "2019-11-01T00:00:00",
          "2019-12-01T00:00:00",
          "2020-01-01T00:00:00",
          "2020-02-01T00:00:00",
          "2020-03-01T00:00:00",
          "2020-04-01T00:00:00",
          "2020-05-01T00:00:00",
          "2020-06-01T00:00:00",
          "2020-07-01T00:00:00",
          "2020-08-01T00:00:00",
          "2020-09-01T00:00:00",
          "2020-10-01T00:00:00",
          "2020-11-01T00:00:00",
          "2020-12-01T00:00:00",
          "2021-01-01T00:00:00",
          "2021-02-01T00:00:00",
          "2021-03-01T00:00:00",
          "2021-04-01T00:00:00",
          "2021-05-01T00:00:00",
          "2021-06-01T00:00:00",
          "2021-07-01T00:00:00",
          "2021-08-01T00:00:00",
          "2021-09-01T00:00:00",
          "2021-10-01T00:00:00",
          "2021-11-01T00:00:00",
          "2021-12-01T00:00:00",
          "2022-01-01T00:00:00",
          "2022-02-01T00:00:00",
          "2022-03-01T00:00:00",
          "2022-04-01T00:00:00",
          "2022-05-01T00:00:00",
          "2022-06-01T00:00:00",
          "2022-07-01T00:00:00",
          "2022-08-01T00:00:00",
          "2022-09-01T00:00:00"
         ],
         "xaxis": "x",
         "y": [
          null,
          0.004169230221040543,
          7.885453622506522,
          15.027007663698244,
          7.375244115709978,
          17.13236479320246,
          27.60630924894807,
          30.49182357272866,
          34.227292129800155,
          37.890015318251024,
          40.05370365870387,
          45.46019314877115,
          35.77030645121268,
          30.84676532604891,
          25.059527823169404,
          33.62408353273418,
          33.86044649362068,
          32.67110299038447,
          27.24706583390033,
          20.656450426844586,
          24.63172497842212,
          21.48419030826384,
          10.253970441653982,
          19.45288675649489,
          16.32899231956667,
          25.73724363179751,
          34.22907678476125,
          25.617662950058616,
          7.091655322262957,
          -28.848034505449604,
          7.840276000820012,
          8.030286213618421,
          8.647169415105537,
          -2.37138196311949,
          -0.00032417746637092293,
          -13.328376595514069,
          -26.1785813252981,
          13.746104523557301,
          14.833088423919316,
          14.933083604388708,
          44.86064750249245,
          47.64180804233479,
          44.18701930647953,
          53.18193464035694,
          63.289387765336635,
          55.34192886501612,
          55.15386774649118,
          77.19599585551384,
          87.11190113683811,
          81.82435281174769,
          84.74750244408656,
          107.86455865909623,
          114.90584719716837,
          120.85462073024375,
          116.66007042697429,
          134.28989965493275,
          114.5793627251963,
          123.90574087209765,
          136.24279980621935,
          130.16717126858083
         ],
         "yaxis": "y"
        },
        {
         "hovertemplate": "ticker=CVX<br>Date=%{x}<br>monthly cumulative returns (%)=%{y}<extra></extra>",
         "legendgroup": "CVX",
         "line": {
          "color": "#00cc96",
          "dash": "solid"
         },
         "marker": {
          "symbol": "circle"
         },
         "mode": "lines",
         "name": "CVX",
         "orientation": "v",
         "showlegend": true,
         "type": "scatter",
         "x": [
          "2017-10-01T00:00:00",
          "2017-11-01T00:00:00",
          "2017-12-01T00:00:00",
          "2018-01-01T00:00:00",
          "2018-02-01T00:00:00",
          "2018-03-01T00:00:00",
          "2018-04-01T00:00:00",
          "2018-05-01T00:00:00",
          "2018-06-01T00:00:00",
          "2018-07-01T00:00:00",
          "2018-08-01T00:00:00",
          "2018-09-01T00:00:00",
          "2018-10-01T00:00:00",
          "2018-11-01T00:00:00",
          "2018-12-01T00:00:00",
          "2019-01-01T00:00:00",
          "2019-02-01T00:00:00",
          "2019-03-01T00:00:00",
          "2019-04-01T00:00:00",
          "2019-05-01T00:00:00",
          "2019-06-01T00:00:00",
          "2019-07-01T00:00:00",
          "2019-08-01T00:00:00",
          "2019-09-01T00:00:00",
          "2019-10-01T00:00:00",
          "2019-11-01T00:00:00",
          "2019-12-01T00:00:00",
          "2020-01-01T00:00:00",
          "2020-02-01T00:00:00",
          "2020-03-01T00:00:00",
          "2020-04-01T00:00:00",
          "2020-05-01T00:00:00",
          "2020-06-01T00:00:00",
          "2020-07-01T00:00:00",
          "2020-08-01T00:00:00",
          "2020-09-01T00:00:00",
          "2020-10-01T00:00:00",
          "2020-11-01T00:00:00",
          "2020-12-01T00:00:00",
          "2021-01-01T00:00:00",
          "2021-02-01T00:00:00",
          "2021-03-01T00:00:00",
          "2021-04-01T00:00:00",
          "2021-05-01T00:00:00",
          "2021-06-01T00:00:00",
          "2021-07-01T00:00:00",
          "2021-08-01T00:00:00",
          "2021-09-01T00:00:00",
          "2021-10-01T00:00:00",
          "2021-11-01T00:00:00",
          "2021-12-01T00:00:00",
          "2022-01-01T00:00:00",
          "2022-02-01T00:00:00",
          "2022-03-01T00:00:00",
          "2022-04-01T00:00:00",
          "2022-05-01T00:00:00",
          "2022-06-01T00:00:00",
          "2022-07-01T00:00:00",
          "2022-08-01T00:00:00",
          "2022-09-01T00:00:00"
         ],
         "xaxis": "x",
         "y": [
          null,
          2.6749391343632745,
          8.870351834334201,
          8.998152927723147,
          -1.7158327028078069,
          1.1926847665971185,
          10.899806147411006,
          10.252399767100872,
          12.852931405371304,
          12.726372600825787,
          6.541218962838391,
          10.755578224054375,
          2.062422364825478,
          8.591770182479985,
          0.9519535262663581,
          6.338492213861224,
          10.638528053546414,
          14.684558665605119,
          12.15168761152099,
          6.979272566710826,
          17.356371670451942,
          16.28759074043138,
          11.909395486375551,
          13.692587639047172,
          11.618396022730126,
          12.470811307393436,
          16.370277327807127,
          5.2757542903435155,
          -7.604588408633739,
          -29.06708424970863,
          -2.100463154233978,
          -2.426566761136062,
          -3.691593331848908,
          -9.62007589031847,
          -9.631999694885419,
          -22.609479156081203,
          -26.08169509898598,
          -0.642846219944293,
          -2.3489593409149356,
          -1.4608675380838654,
          15.910023282339425,
          22.18129376521346,
          20.53991287294199,
          21.23846412637882,
          23.3890549913474,
          20.591650129930915,
          15.64125577492418,
          21.89089090904669,
          34.74451295626254,
          33.32955228739021,
          38.50035565129315,
          50.41343497380715,
          60.06089574364432,
          74.32448155340484,
          70.5413886132706,
          82.024132128874,
          65.598527951753,
          78.72188946724864,
          75.22940420866932,
          66.95116442249908
         ],
         "yaxis": "y"
        },
        {
         "hovertemplate": "ticker=XOM<br>Date=%{x}<br>monthly cumulative returns (%)=%{y}<extra></extra>",
         "legendgroup": "XOM",
         "line": {
          "color": "#ab63fa",
          "dash": "solid"
         },
         "marker": {
          "symbol": "circle"
         },
         "mode": "lines",
         "name": "XOM",
         "orientation": "v",
         "showlegend": true,
         "type": "scatter",
         "x": [
          "2017-10-01T00:00:00",
          "2017-11-01T00:00:00",
          "2017-12-01T00:00:00",
          "2018-01-01T00:00:00",
          "2018-02-01T00:00:00",
          "2018-03-01T00:00:00",
          "2018-04-01T00:00:00",
          "2018-05-01T00:00:00",
          "2018-06-01T00:00:00",
          "2018-07-01T00:00:00",
          "2018-08-01T00:00:00",
          "2018-09-01T00:00:00",
          "2018-10-01T00:00:00",
          "2018-11-01T00:00:00",
          "2018-12-01T00:00:00",
          "2019-01-01T00:00:00",
          "2019-02-01T00:00:00",
          "2019-03-01T00:00:00",
          "2019-04-01T00:00:00",
          "2019-05-01T00:00:00",
          "2019-06-01T00:00:00",
          "2019-07-01T00:00:00",
          "2019-08-01T00:00:00",
          "2019-09-01T00:00:00",
          "2019-10-01T00:00:00",
          "2019-11-01T00:00:00",
          "2019-12-01T00:00:00",
          "2020-01-01T00:00:00",
          "2020-02-01T00:00:00",
          "2020-03-01T00:00:00",
          "2020-04-01T00:00:00",
          "2020-05-01T00:00:00",
          "2020-06-01T00:00:00",
          "2020-07-01T00:00:00",
          "2020-08-01T00:00:00",
          "2020-09-01T00:00:00",
          "2020-10-01T00:00:00",
          "2020-11-01T00:00:00",
          "2020-12-01T00:00:00",
          "2021-01-01T00:00:00",
          "2021-02-01T00:00:00",
          "2021-03-01T00:00:00",
          "2021-04-01T00:00:00",
          "2021-05-01T00:00:00",
          "2021-06-01T00:00:00",
          "2021-07-01T00:00:00",
          "2021-08-01T00:00:00",
          "2021-09-01T00:00:00",
          "2021-10-01T00:00:00",
          "2021-11-01T00:00:00",
          "2021-12-01T00:00:00",
          "2022-01-01T00:00:00",
          "2022-02-01T00:00:00",
          "2022-03-01T00:00:00",
          "2022-04-01T00:00:00",
          "2022-05-01T00:00:00",
          "2022-06-01T00:00:00",
          "2022-07-01T00:00:00",
          "2022-08-01T00:00:00",
          "2022-09-01T00:00:00"
         ],
         "xaxis": "x",
         "y": [
          null,
          -0.07196593464534606,
          1.277629995302021,
          5.653514190229336,
          -7.588198740123964,
          -8.072787264034343,
          -3.8642610613632944,
          0.6244907855990189,
          3.4907438230696974,
          2.0161078797783283,
          0.372109354571204,
          7.515583455568519,
          1.2346959419872072,
          1.008806161939424,
          -12.348088447901873,
          -4.883663006705441,
          2.962964955611569,
          6.33769721258981,
          5.694143329721724,
          -6.151922682035204,
          3.369580175922049,
          0.4073120082972226,
          -7.500165684646487,
          -3.1077065979661533,
          -7.41305601916663,
          -6.584279788784253,
          -2.9272456695621396,
          -13.904610544935691,
          -31.09714311612658,
          -56.22328260026492,
          -33.83717688532884,
          -35.98911069084145,
          -35.73158068331024,
          -41.63497203158298,
          -46.72054233886228,
          -59.07091282278218,
          -64.05198256174951,
          -47.16049776393356,
          -36.44848986230751,
          -27.666343765840338,
          -6.412997419415722,
          -1.9838570863559557,
          0.5416622490588496,
          2.515795832623957,
          12.159370044449979,
          3.4244219865369185,
          -1.8734685303619658,
          7.646492501214519,
          17.252066193565163,
          10.070434349381763,
          13.700691188342217,
          37.83862634943359,
          41.07715503904866,
          47.56223789690671,
          50.78296275906599,
          63.39293275281749,
          53.51505486072957,
          66.69814633495889,
          65.31569971556598,
          57.54116954102037
         ],
         "yaxis": "y"
        },
        {
         "hovertemplate": "ticker=IXC<br>Date=%{x}<br>monthly cumulative returns (%)=%{y}<extra></extra>",
         "legendgroup": "IXC",
         "line": {
          "color": "#FFA15A",
          "dash": "solid"
         },
         "marker": {
          "symbol": "circle"
         },
         "mode": "lines",
         "name": "IXC",
         "orientation": "v",
         "showlegend": true,
         "type": "scatter",
         "x": [
          "2017-10-01T00:00:00",
          "2017-11-01T00:00:00",
          "2017-12-01T00:00:00",
          "2018-01-01T00:00:00",
          "2018-02-01T00:00:00",
          "2018-03-01T00:00:00",
          "2018-04-01T00:00:00",
          "2018-05-01T00:00:00",
          "2018-06-01T00:00:00",
          "2018-07-01T00:00:00",
          "2018-08-01T00:00:00",
          "2018-09-01T00:00:00",
          "2018-10-01T00:00:00",
          "2018-11-01T00:00:00",
          "2018-12-01T00:00:00",
          "2019-01-01T00:00:00",
          "2019-02-01T00:00:00",
          "2019-03-01T00:00:00",
          "2019-04-01T00:00:00",
          "2019-05-01T00:00:00",
          "2019-06-01T00:00:00",
          "2019-07-01T00:00:00",
          "2019-08-01T00:00:00",
          "2019-09-01T00:00:00",
          "2019-10-01T00:00:00",
          "2019-11-01T00:00:00",
          "2019-12-01T00:00:00",
          "2020-01-01T00:00:00",
          "2020-02-01T00:00:00",
          "2020-03-01T00:00:00",
          "2020-04-01T00:00:00",
          "2020-05-01T00:00:00",
          "2020-06-01T00:00:00",
          "2020-07-01T00:00:00",
          "2020-08-01T00:00:00",
          "2020-09-01T00:00:00",
          "2020-10-01T00:00:00",
          "2020-11-01T00:00:00",
          "2020-12-01T00:00:00",
          "2021-01-01T00:00:00",
          "2021-02-01T00:00:00",
          "2021-03-01T00:00:00",
          "2021-04-01T00:00:00",
          "2021-05-01T00:00:00",
          "2021-06-01T00:00:00",
          "2021-07-01T00:00:00",
          "2021-08-01T00:00:00",
          "2021-09-01T00:00:00",
          "2021-10-01T00:00:00",
          "2021-11-01T00:00:00",
          "2021-12-01T00:00:00",
          "2022-01-01T00:00:00",
          "2022-02-01T00:00:00",
          "2022-03-01T00:00:00",
          "2022-04-01T00:00:00",
          "2022-05-01T00:00:00",
          "2022-06-01T00:00:00",
          "2022-07-01T00:00:00",
          "2022-08-01T00:00:00",
          "2022-09-01T00:00:00"
         ],
         "xaxis": "x",
         "y": [
          null,
          1.3493781656314097,
          4.243714454061753,
          9.407193130849123,
          0.21993797523123249,
          1.9259975532196494,
          10.931294959054117,
          12.119212029939575,
          11.85239442582513,
          14.625595074689368,
          11.14367544174285,
          14.231960966435143,
          4.847013843970571,
          2.0090853681163923,
          -9.61390779312149,
          2.941709200376963,
          5.683546399477047,
          6.73303373444517,
          6.851732373116281,
          -1.2395568312405514,
          3.468592993921904,
          2.407431080936273,
          -4.780864473210622,
          -0.0516152342195042,
          -1.0987295484410575,
          0.35630566240214545,
          0.8452115871811827,
          -4.085048696142413,
          -17.22974992687397,
          -47.58027355261854,
          -31.298439820358613,
          -29.007200848263526,
          -31.744871804657514,
          -33.57805746692479,
          -32.56848695147496,
          -46.29810023868652,
          -51.4200518142801,
          -22.49974620782543,
          -21.253485389040982,
          -15.548350485770179,
          -0.18213082352368515,
          2.100018091980249,
          2.3839915918538623,
          8.168780211684512,
          9.851388100228398,
          4.697601204633573,
          3.8921192276423766,
          12.905521796774321,
          21.099188047830676,
          14.730857669597686,
          15.870557630292536,
          35.13163385209294,
          40.00053696215121,
          47.589838112150105,
          45.7364388700374,
          59.68796780054768,
          43.48712858935464,
          52.42851791152972,
          54.22162687704697,
          44.54683065345869
         ],
         "yaxis": "y"
        }
       ],
       "layout": {
        "autosize": true,
        "legend": {
         "title": {
          "text": "ticker"
         },
         "tracegroupgap": 0
        },
        "template": {
         "data": {
          "bar": [
           {
            "error_x": {
             "color": "#2a3f5f"
            },
            "error_y": {
             "color": "#2a3f5f"
            },
            "marker": {
             "line": {
              "color": "#E5ECF6",
              "width": 0.5
             },
             "pattern": {
              "fillmode": "overlay",
              "size": 10,
              "solidity": 0.2
             }
            },
            "type": "bar"
           }
          ],
          "barpolar": [
           {
            "marker": {
             "line": {
              "color": "#E5ECF6",
              "width": 0.5
             },
             "pattern": {
              "fillmode": "overlay",
              "size": 10,
              "solidity": 0.2
             }
            },
            "type": "barpolar"
           }
          ],
          "carpet": [
           {
            "aaxis": {
             "endlinecolor": "#2a3f5f",
             "gridcolor": "white",
             "linecolor": "white",
             "minorgridcolor": "white",
             "startlinecolor": "#2a3f5f"
            },
            "baxis": {
             "endlinecolor": "#2a3f5f",
             "gridcolor": "white",
             "linecolor": "white",
             "minorgridcolor": "white",
             "startlinecolor": "#2a3f5f"
            },
            "type": "carpet"
           }
          ],
          "choropleth": [
           {
            "colorbar": {
             "outlinewidth": 0,
             "ticks": ""
            },
            "type": "choropleth"
           }
          ],
          "contour": [
           {
            "colorbar": {
             "outlinewidth": 0,
             "ticks": ""
            },
            "colorscale": [
             [
              0,
              "#0d0887"
             ],
             [
              0.1111111111111111,
              "#46039f"
             ],
             [
              0.2222222222222222,
              "#7201a8"
             ],
             [
              0.3333333333333333,
              "#9c179e"
             ],
             [
              0.4444444444444444,
              "#bd3786"
             ],
             [
              0.5555555555555556,
              "#d8576b"
             ],
             [
              0.6666666666666666,
              "#ed7953"
             ],
             [
              0.7777777777777778,
              "#fb9f3a"
             ],
             [
              0.8888888888888888,
              "#fdca26"
             ],
             [
              1,
              "#f0f921"
             ]
            ],
            "type": "contour"
           }
          ],
          "contourcarpet": [
           {
            "colorbar": {
             "outlinewidth": 0,
             "ticks": ""
            },
            "type": "contourcarpet"
           }
          ],
          "heatmap": [
           {
            "colorbar": {
             "outlinewidth": 0,
             "ticks": ""
            },
            "colorscale": [
             [
              0,
              "#0d0887"
             ],
             [
              0.1111111111111111,
              "#46039f"
             ],
             [
              0.2222222222222222,
              "#7201a8"
             ],
             [
              0.3333333333333333,
              "#9c179e"
             ],
             [
              0.4444444444444444,
              "#bd3786"
             ],
             [
              0.5555555555555556,
              "#d8576b"
             ],
             [
              0.6666666666666666,
              "#ed7953"
             ],
             [
              0.7777777777777778,
              "#fb9f3a"
             ],
             [
              0.8888888888888888,
              "#fdca26"
             ],
             [
              1,
              "#f0f921"
             ]
            ],
            "type": "heatmap"
           }
          ],
          "heatmapgl": [
           {
            "colorbar": {
             "outlinewidth": 0,
             "ticks": ""
            },
            "colorscale": [
             [
              0,
              "#0d0887"
             ],
             [
              0.1111111111111111,
              "#46039f"
             ],
             [
              0.2222222222222222,
              "#7201a8"
             ],
             [
              0.3333333333333333,
              "#9c179e"
             ],
             [
              0.4444444444444444,
              "#bd3786"
             ],
             [
              0.5555555555555556,
              "#d8576b"
             ],
             [
              0.6666666666666666,
              "#ed7953"
             ],
             [
              0.7777777777777778,
              "#fb9f3a"
             ],
             [
              0.8888888888888888,
              "#fdca26"
             ],
             [
              1,
              "#f0f921"
             ]
            ],
            "type": "heatmapgl"
           }
          ],
          "histogram": [
           {
            "marker": {
             "pattern": {
              "fillmode": "overlay",
              "size": 10,
              "solidity": 0.2
             }
            },
            "type": "histogram"
           }
          ],
          "histogram2d": [
           {
            "colorbar": {
             "outlinewidth": 0,
             "ticks": ""
            },
            "colorscale": [
             [
              0,
              "#0d0887"
             ],
             [
              0.1111111111111111,
              "#46039f"
             ],
             [
              0.2222222222222222,
              "#7201a8"
             ],
             [
              0.3333333333333333,
              "#9c179e"
             ],
             [
              0.4444444444444444,
              "#bd3786"
             ],
             [
              0.5555555555555556,
              "#d8576b"
             ],
             [
              0.6666666666666666,
              "#ed7953"
             ],
             [
              0.7777777777777778,
              "#fb9f3a"
             ],
             [
              0.8888888888888888,
              "#fdca26"
             ],
             [
              1,
              "#f0f921"
             ]
            ],
            "type": "histogram2d"
           }
          ],
          "histogram2dcontour": [
           {
            "colorbar": {
             "outlinewidth": 0,
             "ticks": ""
            },
            "colorscale": [
             [
              0,
              "#0d0887"
             ],
             [
              0.1111111111111111,
              "#46039f"
             ],
             [
              0.2222222222222222,
              "#7201a8"
             ],
             [
              0.3333333333333333,
              "#9c179e"
             ],
             [
              0.4444444444444444,
              "#bd3786"
             ],
             [
              0.5555555555555556,
              "#d8576b"
             ],
             [
              0.6666666666666666,
              "#ed7953"
             ],
             [
              0.7777777777777778,
              "#fb9f3a"
             ],
             [
              0.8888888888888888,
              "#fdca26"
             ],
             [
              1,
              "#f0f921"
             ]
            ],
            "type": "histogram2dcontour"
           }
          ],
          "mesh3d": [
           {
            "colorbar": {
             "outlinewidth": 0,
             "ticks": ""
            },
            "type": "mesh3d"
           }
          ],
          "parcoords": [
           {
            "line": {
             "colorbar": {
              "outlinewidth": 0,
              "ticks": ""
             }
            },
            "type": "parcoords"
           }
          ],
          "pie": [
           {
            "automargin": true,
            "type": "pie"
           }
          ],
          "scatter": [
           {
            "marker": {
             "colorbar": {
              "outlinewidth": 0,
              "ticks": ""
             }
            },
            "type": "scatter"
           }
          ],
          "scatter3d": [
           {
            "line": {
             "colorbar": {
              "outlinewidth": 0,
              "ticks": ""
             }
            },
            "marker": {
             "colorbar": {
              "outlinewidth": 0,
              "ticks": ""
             }
            },
            "type": "scatter3d"
           }
          ],
          "scattercarpet": [
           {
            "marker": {
             "colorbar": {
              "outlinewidth": 0,
              "ticks": ""
             }
            },
            "type": "scattercarpet"
           }
          ],
          "scattergeo": [
           {
            "marker": {
             "colorbar": {
              "outlinewidth": 0,
              "ticks": ""
             }
            },
            "type": "scattergeo"
           }
          ],
          "scattergl": [
           {
            "marker": {
             "colorbar": {
              "outlinewidth": 0,
              "ticks": ""
             }
            },
            "type": "scattergl"
           }
          ],
          "scattermapbox": [
           {
            "marker": {
             "colorbar": {
              "outlinewidth": 0,
              "ticks": ""
             }
            },
            "type": "scattermapbox"
           }
          ],
          "scatterpolar": [
           {
            "marker": {
             "colorbar": {
              "outlinewidth": 0,
              "ticks": ""
             }
            },
            "type": "scatterpolar"
           }
          ],
          "scatterpolargl": [
           {
            "marker": {
             "colorbar": {
              "outlinewidth": 0,
              "ticks": ""
             }
            },
            "type": "scatterpolargl"
           }
          ],
          "scatterternary": [
           {
            "marker": {
             "colorbar": {
              "outlinewidth": 0,
              "ticks": ""
             }
            },
            "type": "scatterternary"
           }
          ],
          "surface": [
           {
            "colorbar": {
             "outlinewidth": 0,
             "ticks": ""
            },
            "colorscale": [
             [
              0,
              "#0d0887"
             ],
             [
              0.1111111111111111,
              "#46039f"
             ],
             [
              0.2222222222222222,
              "#7201a8"
             ],
             [
              0.3333333333333333,
              "#9c179e"
             ],
             [
              0.4444444444444444,
              "#bd3786"
             ],
             [
              0.5555555555555556,
              "#d8576b"
             ],
             [
              0.6666666666666666,
              "#ed7953"
             ],
             [
              0.7777777777777778,
              "#fb9f3a"
             ],
             [
              0.8888888888888888,
              "#fdca26"
             ],
             [
              1,
              "#f0f921"
             ]
            ],
            "type": "surface"
           }
          ],
          "table": [
           {
            "cells": {
             "fill": {
              "color": "#EBF0F8"
             },
             "line": {
              "color": "white"
             }
            },
            "header": {
             "fill": {
              "color": "#C8D4E3"
             },
             "line": {
              "color": "white"
             }
            },
            "type": "table"
           }
          ]
         },
         "layout": {
          "annotationdefaults": {
           "arrowcolor": "#2a3f5f",
           "arrowhead": 0,
           "arrowwidth": 1
          },
          "autotypenumbers": "strict",
          "coloraxis": {
           "colorbar": {
            "outlinewidth": 0,
            "ticks": ""
           }
          },
          "colorscale": {
           "diverging": [
            [
             0,
             "#8e0152"
            ],
            [
             0.1,
             "#c51b7d"
            ],
            [
             0.2,
             "#de77ae"
            ],
            [
             0.3,
             "#f1b6da"
            ],
            [
             0.4,
             "#fde0ef"
            ],
            [
             0.5,
             "#f7f7f7"
            ],
            [
             0.6,
             "#e6f5d0"
            ],
            [
             0.7,
             "#b8e186"
            ],
            [
             0.8,
             "#7fbc41"
            ],
            [
             0.9,
             "#4d9221"
            ],
            [
             1,
             "#276419"
            ]
           ],
           "sequential": [
            [
             0,
             "#0d0887"
            ],
            [
             0.1111111111111111,
             "#46039f"
            ],
            [
             0.2222222222222222,
             "#7201a8"
            ],
            [
             0.3333333333333333,
             "#9c179e"
            ],
            [
             0.4444444444444444,
             "#bd3786"
            ],
            [
             0.5555555555555556,
             "#d8576b"
            ],
            [
             0.6666666666666666,
             "#ed7953"
            ],
            [
             0.7777777777777778,
             "#fb9f3a"
            ],
            [
             0.8888888888888888,
             "#fdca26"
            ],
            [
             1,
             "#f0f921"
            ]
           ],
           "sequentialminus": [
            [
             0,
             "#0d0887"
            ],
            [
             0.1111111111111111,
             "#46039f"
            ],
            [
             0.2222222222222222,
             "#7201a8"
            ],
            [
             0.3333333333333333,
             "#9c179e"
            ],
            [
             0.4444444444444444,
             "#bd3786"
            ],
            [
             0.5555555555555556,
             "#d8576b"
            ],
            [
             0.6666666666666666,
             "#ed7953"
            ],
            [
             0.7777777777777778,
             "#fb9f3a"
            ],
            [
             0.8888888888888888,
             "#fdca26"
            ],
            [
             1,
             "#f0f921"
            ]
           ]
          },
          "colorway": [
           "#636efa",
           "#EF553B",
           "#00cc96",
           "#ab63fa",
           "#FFA15A",
           "#19d3f3",
           "#FF6692",
           "#B6E880",
           "#FF97FF",
           "#FECB52"
          ],
          "font": {
           "color": "#2a3f5f"
          },
          "geo": {
           "bgcolor": "white",
           "lakecolor": "white",
           "landcolor": "#E5ECF6",
           "showlakes": true,
           "showland": true,
           "subunitcolor": "white"
          },
          "hoverlabel": {
           "align": "left"
          },
          "hovermode": "closest",
          "mapbox": {
           "style": "light"
          },
          "paper_bgcolor": "white",
          "plot_bgcolor": "#E5ECF6",
          "polar": {
           "angularaxis": {
            "gridcolor": "white",
            "linecolor": "white",
            "ticks": ""
           },
           "bgcolor": "#E5ECF6",
           "radialaxis": {
            "gridcolor": "white",
            "linecolor": "white",
            "ticks": ""
           }
          },
          "scene": {
           "xaxis": {
            "backgroundcolor": "#E5ECF6",
            "gridcolor": "white",
            "gridwidth": 2,
            "linecolor": "white",
            "showbackground": true,
            "ticks": "",
            "zerolinecolor": "white"
           },
           "yaxis": {
            "backgroundcolor": "#E5ECF6",
            "gridcolor": "white",
            "gridwidth": 2,
            "linecolor": "white",
            "showbackground": true,
            "ticks": "",
            "zerolinecolor": "white"
           },
           "zaxis": {
            "backgroundcolor": "#E5ECF6",
            "gridcolor": "white",
            "gridwidth": 2,
            "linecolor": "white",
            "showbackground": true,
            "ticks": "",
            "zerolinecolor": "white"
           }
          },
          "shapedefaults": {
           "line": {
            "color": "#2a3f5f"
           }
          },
          "ternary": {
           "aaxis": {
            "gridcolor": "white",
            "linecolor": "white",
            "ticks": ""
           },
           "baxis": {
            "gridcolor": "white",
            "linecolor": "white",
            "ticks": ""
           },
           "bgcolor": "#E5ECF6",
           "caxis": {
            "gridcolor": "white",
            "linecolor": "white",
            "ticks": ""
           }
          },
          "title": {
           "x": 0.05
          },
          "xaxis": {
           "automargin": true,
           "gridcolor": "white",
           "linecolor": "white",
           "ticks": "",
           "title": {
            "standoff": 15
           },
           "zerolinecolor": "white",
           "zerolinewidth": 2
          },
          "yaxis": {
           "automargin": true,
           "gridcolor": "white",
           "linecolor": "white",
           "ticks": "",
           "title": {
            "standoff": 15
           },
           "zerolinecolor": "white",
           "zerolinewidth": 2
          }
         }
        },
        "title": {
         "text": "Performance - Monthly Cumulative Returns"
        },
        "xaxis": {
         "anchor": "y",
         "autorange": true,
         "domain": [
          0,
          1
         ],
         "range": [
          "2017-10-01",
          "2022-09-01"
         ],
         "title": {
          "text": "Date"
         },
         "type": "date"
        },
        "yaxis": {
         "anchor": "x",
         "autorange": true,
         "domain": [
          0,
          1
         ],
         "range": [
          -76.08154551302279,
          147.41776534933734
         ],
         "title": {
          "text": "monthly cumulative returns (%)"
         },
         "type": "linear"
        }
       }
      },
      "image/png": "[encoded data removed]",
      "text/html": [
       "<div>                            <div id=\"1b10c6c0-be37-4d60-b41e-895b15a6179a\" class=\"plotly-graph-div\" style=\"height:525px; width:100%;\"></div>            <script type=\"text/javascript\">                require([\"plotly\"], function(Plotly) {                    window.PLOTLYENV=window.PLOTLYENV || {};                                    if (document.getElementById(\"1b10c6c0-be37-4d60-b41e-895b15a6179a\")) {                    Plotly.newPlot(                        \"1b10c6c0-be37-4d60-b41e-895b15a6179a\",                        [{\"hovertemplate\":\"ticker=SHEL<br>Date=%{x}<br>monthly cumulative returns (%)=%{y}<extra></extra>\",\"legendgroup\":\"SHEL\",\"line\":{\"color\":\"#636efa\",\"dash\":\"solid\"},\"marker\":{\"symbol\":\"circle\"},\"mode\":\"lines\",\"name\":\"SHEL\",\"orientation\":\"v\",\"showlegend\":true,\"x\":[\"2017-10-01T00:00:00\",\"2017-11-01T00:00:00\",\"2017-12-01T00:00:00\",\"2018-01-01T00:00:00\",\"2018-02-01T00:00:00\",\"2018-03-01T00:00:00\",\"2018-04-01T00:00:00\",\"2018-05-01T00:00:00\",\"2018-06-01T00:00:00\",\"2018-07-01T00:00:00\",\"2018-08-01T00:00:00\",\"2018-09-01T00:00:00\",\"2018-10-01T00:00:00\",\"2018-11-01T00:00:00\",\"2018-12-01T00:00:00\",\"2019-01-01T00:00:00\",\"2019-02-01T00:00:00\",\"2019-03-01T00:00:00\",\"2019-04-01T00:00:00\",\"2019-05-01T00:00:00\",\"2019-06-01T00:00:00\",\"2019-07-01T00:00:00\",\"2019-08-01T00:00:00\",\"2019-09-01T00:00:00\",\"2019-10-01T00:00:00\",\"2019-11-01T00:00:00\",\"2019-12-01T00:00:00\",\"2020-01-01T00:00:00\",\"2020-02-01T00:00:00\",\"2020-03-01T00:00:00\",\"2020-04-01T00:00:00\",\"2020-05-01T00:00:00\",\"2020-06-01T00:00:00\",\"2020-07-01T00:00:00\",\"2020-08-01T00:00:00\",\"2020-09-01T00:00:00\",\"2020-10-01T00:00:00\",\"2020-11-01T00:00:00\",\"2020-12-01T00:00:00\",\"2021-01-01T00:00:00\",\"2021-02-01T00:00:00\",\"2021-03-01T00:00:00\",\"2021-04-01T00:00:00\",\"2021-05-01T00:00:00\",\"2021-06-01T00:00:00\",\"2021-07-01T00:00:00\",\"2021-08-01T00:00:00\",\"2021-09-01T00:00:00\",\"2021-10-01T00:00:00\",\"2021-11-01T00:00:00\",\"2021-12-01T00:00:00\",\"2022-01-01T00:00:00\",\"2022-02-01T00:00:00\",\"2022-03-01T00:00:00\",\"2022-04-01T00:00:00\",\"2022-05-01T00:00:00\",\"2022-06-01T00:00:00\",\"2022-07-01T00:00:00\",\"2022-08-01T00:00:00\",\"2022-09-01T00:00:00\"],\"xaxis\":\"x\",\"y\":[null,1.7293463883091276,7.340436928214444,12.631981175845608,2.708872236015747,5.02967090044717,14.573634922085432,14.115819021342046,14.934390203770942,13.692141858578443,9.09950345713061,15.041884543027539,7.7774315614323575,3.3621776204605602,1.3370768690754709,7.274979140461468,8.05255642822489,10.186074670668944,11.687917250784196,8.980529728450781,15.802916743640939,12.452663569079148,0.8609961462069604,8.500962549481962,7.005632451531952,6.177619996833172,10.394260301325042,-1.185937252798186,-16.75641326095201,-36.0745071064106,-41.118940822744975,-44.68067830447301,-41.298760309591046,-50.10880154532763,-50.54486583474005,-64.90657996990478,-63.396850257686985,-30.950665989912483,-25.99564915632667,-21.01555852738001,-9.79301663586426,-13.437707957921496,-16.523644828151784,-14.918388817194717,-9.357295936285892,-8.812749367012751,-10.92992372431163,2.4679695138780433,5.496903685257215,-2.952564163082849,1.3700899127633503,19.803268944323314,21.729331216241455,26.57758891918092,23.84683975569549,34.6834510497431,23.743564823645137,25.82809298481087,25.078740484262006,19.893260619781994],\"yaxis\":\"y\",\"type\":\"scatter\"},{\"hovertemplate\":\"ticker=COP<br>Date=%{x}<br>monthly cumulative returns (%)=%{y}<extra></extra>\",\"legendgroup\":\"COP\",\"line\":{\"color\":\"#EF553B\",\"dash\":\"solid\"},\"marker\":{\"symbol\":\"circle\"},\"mode\":\"lines\",\"name\":\"COP\",\"orientation\":\"v\",\"showlegend\":true,\"x\":[\"2017-10-01T00:00:00\",\"2017-11-01T00:00:00\",\"2017-12-01T00:00:00\",\"2018-01-01T00:00:00\",\"2018-02-01T00:00:00\",\"2018-03-01T00:00:00\",\"2018-04-01T00:00:00\",\"2018-05-01T00:00:00\",\"2018-06-01T00:00:00\",\"2018-07-01T00:00:00\",\"2018-08-01T00:00:00\",\"2018-09-01T00:00:00\",\"2018-10-01T00:00:00\",\"2018-11-01T00:00:00\",\"2018-12-01T00:00:00\",\"2019-01-01T00:00:00\",\"2019-02-01T00:00:00\",\"2019-03-01T00:00:00\",\"2019-04-01T00:00:00\",\"2019-05-01T00:00:00\",\"2019-06-01T00:00:00\",\"2019-07-01T00:00:00\",\"2019-08-01T00:00:00\",\"2019-09-01T00:00:00\",\"2019-10-01T00:00:00\",\"2019-11-01T00:00:00\",\"2019-12-01T00:00:00\",\"2020-01-01T00:00:00\",\"2020-02-01T00:00:00\",\"2020-03-01T00:00:00\",\"2020-04-01T00:00:00\",\"2020-05-01T00:00:00\",\"2020-06-01T00:00:00\",\"2020-07-01T00:00:00\",\"2020-08-01T00:00:00\",\"2020-09-01T00:00:00\",\"2020-10-01T00:00:00\",\"2020-11-01T00:00:00\",\"2020-12-01T00:00:00\",\"2021-01-01T00:00:00\",\"2021-02-01T00:00:00\",\"2021-03-01T00:00:00\",\"2021-04-01T00:00:00\",\"2021-05-01T00:00:00\",\"2021-06-01T00:00:00\",\"2021-07-01T00:00:00\",\"2021-08-01T00:00:00\",\"2021-09-01T00:00:00\",\"2021-10-01T00:00:00\",\"2021-11-01T00:00:00\",\"2021-12-01T00:00:00\",\"2022-01-01T00:00:00\",\"2022-02-01T00:00:00\",\"2022-03-01T00:00:00\",\"2022-04-01T00:00:00\",\"2022-05-01T00:00:00\",\"2022-06-01T00:00:00\",\"2022-07-01T00:00:00\",\"2022-08-01T00:00:00\",\"2022-09-01T00:00:00\"],\"xaxis\":\"x\",\"y\":[null,0.004169230221040543,7.885453622506522,15.027007663698244,7.375244115709978,17.13236479320246,27.60630924894807,30.49182357272866,34.227292129800155,37.890015318251024,40.05370365870387,45.46019314877115,35.77030645121268,30.84676532604891,25.059527823169404,33.62408353273418,33.86044649362068,32.67110299038447,27.24706583390033,20.656450426844586,24.63172497842212,21.48419030826384,10.253970441653982,19.45288675649489,16.32899231956667,25.73724363179751,34.22907678476125,25.617662950058616,7.091655322262957,-28.848034505449604,7.840276000820012,8.030286213618421,8.647169415105537,-2.37138196311949,-0.00032417746637092293,-13.328376595514069,-26.1785813252981,13.746104523557301,14.833088423919316,14.933083604388708,44.86064750249245,47.64180804233479,44.18701930647953,53.18193464035694,63.289387765336635,55.34192886501612,55.15386774649118,77.19599585551384,87.11190113683811,81.82435281174769,84.74750244408656,107.86455865909623,114.90584719716837,120.85462073024375,116.66007042697429,134.28989965493275,114.5793627251963,123.90574087209765,136.24279980621935,130.16717126858083],\"yaxis\":\"y\",\"type\":\"scatter\"},{\"hovertemplate\":\"ticker=CVX<br>Date=%{x}<br>monthly cumulative returns (%)=%{y}<extra></extra>\",\"legendgroup\":\"CVX\",\"line\":{\"color\":\"#00cc96\",\"dash\":\"solid\"},\"marker\":{\"symbol\":\"circle\"},\"mode\":\"lines\",\"name\":\"CVX\",\"orientation\":\"v\",\"showlegend\":true,\"x\":[\"2017-10-01T00:00:00\",\"2017-11-01T00:00:00\",\"2017-12-01T00:00:00\",\"2018-01-01T00:00:00\",\"2018-02-01T00:00:00\",\"2018-03-01T00:00:00\",\"2018-04-01T00:00:00\",\"2018-05-01T00:00:00\",\"2018-06-01T00:00:00\",\"2018-07-01T00:00:00\",\"2018-08-01T00:00:00\",\"2018-09-01T00:00:00\",\"2018-10-01T00:00:00\",\"2018-11-01T00:00:00\",\"2018-12-01T00:00:00\",\"2019-01-01T00:00:00\",\"2019-02-01T00:00:00\",\"2019-03-01T00:00:00\",\"2019-04-01T00:00:00\",\"2019-05-01T00:00:00\",\"2019-06-01T00:00:00\",\"2019-07-01T00:00:00\",\"2019-08-01T00:00:00\",\"2019-09-01T00:00:00\",\"2019-10-01T00:00:00\",\"2019-11-01T00:00:00\",\"2019-12-01T00:00:00\",\"2020-01-01T00:00:00\",\"2020-02-01T00:00:00\",\"2020-03-01T00:00:00\",\"2020-04-01T00:00:00\",\"2020-05-01T00:00:00\",\"2020-06-01T00:00:00\",\"2020-07-01T00:00:00\",\"2020-08-01T00:00:00\",\"2020-09-01T00:00:00\",\"2020-10-01T00:00:00\",\"2020-11-01T00:00:00\",\"2020-12-01T00:00:00\",\"2021-01-01T00:00:00\",\"2021-02-01T00:00:00\",\"2021-03-01T00:00:00\",\"2021-04-01T00:00:00\",\"2021-05-01T00:00:00\",\"2021-06-01T00:00:00\",\"2021-07-01T00:00:00\",\"2021-08-01T00:00:00\",\"2021-09-01T00:00:00\",\"2021-10-01T00:00:00\",\"2021-11-01T00:00:00\",\"2021-12-01T00:00:00\",\"2022-01-01T00:00:00\",\"2022-02-01T00:00:00\",\"2022-03-01T00:00:00\",\"2022-04-01T00:00:00\",\"2022-05-01T00:00:00\",\"2022-06-01T00:00:00\",\"2022-07-01T00:00:00\",\"2022-08-01T00:00:00\",\"2022-09-01T00:00:00\"],\"xaxis\":\"x\",\"y\":[null,2.6749391343632745,8.870351834334201,8.998152927723147,-1.7158327028078069,1.1926847665971185,10.899806147411006,10.252399767100872,12.852931405371304,12.726372600825787,6.541218962838391,10.755578224054375,2.062422364825478,8.591770182479985,0.9519535262663581,6.338492213861224,10.638528053546414,14.684558665605119,12.15168761152099,6.979272566710826,17.356371670451942,16.28759074043138,11.909395486375551,13.692587639047172,11.618396022730126,12.470811307393436,16.370277327807127,5.2757542903435155,-7.604588408633739,-29.06708424970863,-2.100463154233978,-2.426566761136062,-3.691593331848908,-9.62007589031847,-9.631999694885419,-22.609479156081203,-26.08169509898598,-0.642846219944293,-2.3489593409149356,-1.4608675380838654,15.910023282339425,22.18129376521346,20.53991287294199,21.23846412637882,23.3890549913474,20.591650129930915,15.64125577492418,21.89089090904669,34.74451295626254,33.32955228739021,38.50035565129315,50.41343497380715,60.06089574364432,74.32448155340484,70.5413886132706,82.024132128874,65.598527951753,78.72188946724864,75.22940420866932,66.95116442249908],\"yaxis\":\"y\",\"type\":\"scatter\"},{\"hovertemplate\":\"ticker=XOM<br>Date=%{x}<br>monthly cumulative returns (%)=%{y}<extra></extra>\",\"legendgroup\":\"XOM\",\"line\":{\"color\":\"#ab63fa\",\"dash\":\"solid\"},\"marker\":{\"symbol\":\"circle\"},\"mode\":\"lines\",\"name\":\"XOM\",\"orientation\":\"v\",\"showlegend\":true,\"x\":[\"2017-10-01T00:00:00\",\"2017-11-01T00:00:00\",\"2017-12-01T00:00:00\",\"2018-01-01T00:00:00\",\"2018-02-01T00:00:00\",\"2018-03-01T00:00:00\",\"2018-04-01T00:00:00\",\"2018-05-01T00:00:00\",\"2018-06-01T00:00:00\",\"2018-07-01T00:00:00\",\"2018-08-01T00:00:00\",\"2018-09-01T00:00:00\",\"2018-10-01T00:00:00\",\"2018-11-01T00:00:00\",\"2018-12-01T00:00:00\",\"2019-01-01T00:00:00\",\"2019-02-01T00:00:00\",\"2019-03-01T00:00:00\",\"2019-04-01T00:00:00\",\"2019-05-01T00:00:00\",\"2019-06-01T00:00:00\",\"2019-07-01T00:00:00\",\"2019-08-01T00:00:00\",\"2019-09-01T00:00:00\",\"2019-10-01T00:00:00\",\"2019-11-01T00:00:00\",\"2019-12-01T00:00:00\",\"2020-01-01T00:00:00\",\"2020-02-01T00:00:00\",\"2020-03-01T00:00:00\",\"2020-04-01T00:00:00\",\"2020-05-01T00:00:00\",\"2020-06-01T00:00:00\",\"2020-07-01T00:00:00\",\"2020-08-01T00:00:00\",\"2020-09-01T00:00:00\",\"2020-10-01T00:00:00\",\"2020-11-01T00:00:00\",\"2020-12-01T00:00:00\",\"2021-01-01T00:00:00\",\"2021-02-01T00:00:00\",\"2021-03-01T00:00:00\",\"2021-04-01T00:00:00\",\"2021-05-01T00:00:00\",\"2021-06-01T00:00:00\",\"2021-07-01T00:00:00\",\"2021-08-01T00:00:00\",\"2021-09-01T00:00:00\",\"2021-10-01T00:00:00\",\"2021-11-01T00:00:00\",\"2021-12-01T00:00:00\",\"2022-01-01T00:00:00\",\"2022-02-01T00:00:00\",\"2022-03-01T00:00:00\",\"2022-04-01T00:00:00\",\"2022-05-01T00:00:00\",\"2022-06-01T00:00:00\",\"2022-07-01T00:00:00\",\"2022-08-01T00:00:00\",\"2022-09-01T00:00:00\"],\"xaxis\":\"x\",\"y\":[null,-0.07196593464534606,1.277629995302021,5.653514190229336,-7.588198740123964,-8.072787264034343,-3.8642610613632944,0.6244907855990189,3.4907438230696974,2.0161078797783283,0.372109354571204,7.515583455568519,1.2346959419872072,1.008806161939424,-12.348088447901873,-4.883663006705441,2.962964955611569,6.33769721258981,5.694143329721724,-6.151922682035204,3.369580175922049,0.4073120082972226,-7.500165684646487,-3.1077065979661533,-7.41305601916663,-6.584279788784253,-2.9272456695621396,-13.904610544935691,-31.09714311612658,-56.22328260026492,-33.83717688532884,-35.98911069084145,-35.73158068331024,-41.63497203158298,-46.72054233886228,-59.07091282278218,-64.05198256174951,-47.16049776393356,-36.44848986230751,-27.666343765840338,-6.412997419415722,-1.9838570863559557,0.5416622490588496,2.515795832623957,12.159370044449979,3.4244219865369185,-1.8734685303619658,7.646492501214519,17.252066193565163,10.070434349381763,13.700691188342217,37.83862634943359,41.07715503904866,47.56223789690671,50.78296275906599,63.39293275281749,53.51505486072957,66.69814633495889,65.31569971556598,57.54116954102037],\"yaxis\":\"y\",\"type\":\"scatter\"},{\"hovertemplate\":\"ticker=IXC<br>Date=%{x}<br>monthly cumulative returns (%)=%{y}<extra></extra>\",\"legendgroup\":\"IXC\",\"line\":{\"color\":\"#FFA15A\",\"dash\":\"solid\"},\"marker\":{\"symbol\":\"circle\"},\"mode\":\"lines\",\"name\":\"IXC\",\"orientation\":\"v\",\"showlegend\":true,\"x\":[\"2017-10-01T00:00:00\",\"2017-11-01T00:00:00\",\"2017-12-01T00:00:00\",\"2018-01-01T00:00:00\",\"2018-02-01T00:00:00\",\"2018-03-01T00:00:00\",\"2018-04-01T00:00:00\",\"2018-05-01T00:00:00\",\"2018-06-01T00:00:00\",\"2018-07-01T00:00:00\",\"2018-08-01T00:00:00\",\"2018-09-01T00:00:00\",\"2018-10-01T00:00:00\",\"2018-11-01T00:00:00\",\"2018-12-01T00:00:00\",\"2019-01-01T00:00:00\",\"2019-02-01T00:00:00\",\"2019-03-01T00:00:00\",\"2019-04-01T00:00:00\",\"2019-05-01T00:00:00\",\"2019-06-01T00:00:00\",\"2019-07-01T00:00:00\",\"2019-08-01T00:00:00\",\"2019-09-01T00:00:00\",\"2019-10-01T00:00:00\",\"2019-11-01T00:00:00\",\"2019-12-01T00:00:00\",\"2020-01-01T00:00:00\",\"2020-02-01T00:00:00\",\"2020-03-01T00:00:00\",\"2020-04-01T00:00:00\",\"2020-05-01T00:00:00\",\"2020-06-01T00:00:00\",\"2020-07-01T00:00:00\",\"2020-08-01T00:00:00\",\"2020-09-01T00:00:00\",\"2020-10-01T00:00:00\",\"2020-11-01T00:00:00\",\"2020-12-01T00:00:00\",\"2021-01-01T00:00:00\",\"2021-02-01T00:00:00\",\"2021-03-01T00:00:00\",\"2021-04-01T00:00:00\",\"2021-05-01T00:00:00\",\"2021-06-01T00:00:00\",\"2021-07-01T00:00:00\",\"2021-08-01T00:00:00\",\"2021-09-01T00:00:00\",\"2021-10-01T00:00:00\",\"2021-11-01T00:00:00\",\"2021-12-01T00:00:00\",\"2022-01-01T00:00:00\",\"2022-02-01T00:00:00\",\"2022-03-01T00:00:00\",\"2022-04-01T00:00:00\",\"2022-05-01T00:00:00\",\"2022-06-01T00:00:00\",\"2022-07-01T00:00:00\",\"2022-08-01T00:00:00\",\"2022-09-01T00:00:00\"],\"xaxis\":\"x\",\"y\":[null,1.3493781656314097,4.243714454061753,9.407193130849123,0.21993797523123249,1.9259975532196494,10.931294959054117,12.119212029939575,11.85239442582513,14.625595074689368,11.14367544174285,14.231960966435143,4.847013843970571,2.0090853681163923,-9.61390779312149,2.941709200376963,5.683546399477047,6.73303373444517,6.851732373116281,-1.2395568312405514,3.468592993921904,2.407431080936273,-4.780864473210622,-0.0516152342195042,-1.0987295484410575,0.35630566240214545,0.8452115871811827,-4.085048696142413,-17.22974992687397,-47.58027355261854,-31.298439820358613,-29.007200848263526,-31.744871804657514,-33.57805746692479,-32.56848695147496,-46.29810023868652,-51.4200518142801,-22.49974620782543,-21.253485389040982,-15.548350485770179,-0.18213082352368515,2.100018091980249,2.3839915918538623,8.168780211684512,9.851388100228398,4.697601204633573,3.8921192276423766,12.905521796774321,21.099188047830676,14.730857669597686,15.870557630292536,35.13163385209294,40.00053696215121,47.589838112150105,45.7364388700374,59.68796780054768,43.48712858935464,52.42851791152972,54.22162687704697,44.54683065345869],\"yaxis\":\"y\",\"type\":\"scatter\"}],                        {\"template\":{\"data\":{\"bar\":[{\"error_x\":{\"color\":\"#2a3f5f\"},\"error_y\":{\"color\":\"#2a3f5f\"},\"marker\":{\"line\":{\"color\":\"#E5ECF6\",\"width\":0.5},\"pattern\":{\"fillmode\":\"overlay\",\"size\":10,\"solidity\":0.2}},\"type\":\"bar\"}],\"barpolar\":[{\"marker\":{\"line\":{\"color\":\"#E5ECF6\",\"width\":0.5},\"pattern\":{\"fillmode\":\"overlay\",\"size\":10,\"solidity\":0.2}},\"type\":\"barpolar\"}],\"carpet\":[{\"aaxis\":{\"endlinecolor\":\"#2a3f5f\",\"gridcolor\":\"white\",\"linecolor\":\"white\",\"minorgridcolor\":\"white\",\"startlinecolor\":\"#2a3f5f\"},\"baxis\":{\"endlinecolor\":\"#2a3f5f\",\"gridcolor\":\"white\",\"linecolor\":\"white\",\"minorgridcolor\":\"white\",\"startlinecolor\":\"#2a3f5f\"},\"type\":\"carpet\"}],\"choropleth\":[{\"colorbar\":{\"outlinewidth\":0,\"ticks\":\"\"},\"type\":\"choropleth\"}],\"contour\":[{\"colorbar\":{\"outlinewidth\":0,\"ticks\":\"\"},\"colorscale\":[[0.0,\"#0d0887\"],[0.1111111111111111,\"#46039f\"],[0.2222222222222222,\"#7201a8\"],[0.3333333333333333,\"#9c179e\"],[0.4444444444444444,\"#bd3786\"],[0.5555555555555556,\"#d8576b\"],[0.6666666666666666,\"#ed7953\"],[0.7777777777777778,\"#fb9f3a\"],[0.8888888888888888,\"#fdca26\"],[1.0,\"#f0f921\"]],\"type\":\"contour\"}],\"contourcarpet\":[{\"colorbar\":{\"outlinewidth\":0,\"ticks\":\"\"},\"type\":\"contourcarpet\"}],\"heatmap\":[{\"colorbar\":{\"outlinewidth\":0,\"ticks\":\"\"},\"colorscale\":[[0.0,\"#0d0887\"],[0.1111111111111111,\"#46039f\"],[0.2222222222222222,\"#7201a8\"],[0.3333333333333333,\"#9c179e\"],[0.4444444444444444,\"#bd3786\"],[0.5555555555555556,\"#d8576b\"],[0.6666666666666666,\"#ed7953\"],[0.7777777777777778,\"#fb9f3a\"],[0.8888888888888888,\"#fdca26\"],[1.0,\"#f0f921\"]],\"type\":\"heatmap\"}],\"heatmapgl\":[{\"colorbar\":{\"outlinewidth\":0,\"ticks\":\"\"},\"colorscale\":[[0.0,\"#0d0887\"],[0.1111111111111111,\"#46039f\"],[0.2222222222222222,\"#7201a8\"],[0.3333333333333333,\"#9c179e\"],[0.4444444444444444,\"#bd3786\"],[0.5555555555555556,\"#d8576b\"],[0.6666666666666666,\"#ed7953\"],[0.7777777777777778,\"#fb9f3a\"],[0.8888888888888888,\"#fdca26\"],[1.0,\"#f0f921\"]],\"type\":\"heatmapgl\"}],\"histogram\":[{\"marker\":{\"pattern\":{\"fillmode\":\"overlay\",\"size\":10,\"solidity\":0.2}},\"type\":\"histogram\"}],\"histogram2d\":[{\"colorbar\":{\"outlinewidth\":0,\"ticks\":\"\"},\"colorscale\":[[0.0,\"#0d0887\"],[0.1111111111111111,\"#46039f\"],[0.2222222222222222,\"#7201a8\"],[0.3333333333333333,\"#9c179e\"],[0.4444444444444444,\"#bd3786\"],[0.5555555555555556,\"#d8576b\"],[0.6666666666666666,\"#ed7953\"],[0.7777777777777778,\"#fb9f3a\"],[0.8888888888888888,\"#fdca26\"],[1.0,\"#f0f921\"]],\"type\":\"histogram2d\"}],\"histogram2dcontour\":[{\"colorbar\":{\"outlinewidth\":0,\"ticks\":\"\"},\"colorscale\":[[0.0,\"#0d0887\"],[0.1111111111111111,\"#46039f\"],[0.2222222222222222,\"#7201a8\"],[0.3333333333333333,\"#9c179e\"],[0.4444444444444444,\"#bd3786\"],[0.5555555555555556,\"#d8576b\"],[0.6666666666666666,\"#ed7953\"],[0.7777777777777778,\"#fb9f3a\"],[0.8888888888888888,\"#fdca26\"],[1.0,\"#f0f921\"]],\"type\":\"histogram2dcontour\"}],\"mesh3d\":[{\"colorbar\":{\"outlinewidth\":0,\"ticks\":\"\"},\"type\":\"mesh3d\"}],\"parcoords\":[{\"line\":{\"colorbar\":{\"outlinewidth\":0,\"ticks\":\"\"}},\"type\":\"parcoords\"}],\"pie\":[{\"automargin\":true,\"type\":\"pie\"}],\"scatter\":[{\"marker\":{\"colorbar\":{\"outlinewidth\":0,\"ticks\":\"\"}},\"type\":\"scatter\"}],\"scatter3d\":[{\"line\":{\"colorbar\":{\"outlinewidth\":0,\"ticks\":\"\"}},\"marker\":{\"colorbar\":{\"outlinewidth\":0,\"ticks\":\"\"}},\"type\":\"scatter3d\"}],\"scattercarpet\":[{\"marker\":{\"colorbar\":{\"outlinewidth\":0,\"ticks\":\"\"}},\"type\":\"scattercarpet\"}],\"scattergeo\":[{\"marker\":{\"colorbar\":{\"outlinewidth\":0,\"ticks\":\"\"}},\"type\":\"scattergeo\"}],\"scattergl\":[{\"marker\":{\"colorbar\":{\"outlinewidth\":0,\"ticks\":\"\"}},\"type\":\"scattergl\"}],\"scattermapbox\":[{\"marker\":{\"colorbar\":{\"outlinewidth\":0,\"ticks\":\"\"}},\"type\":\"scattermapbox\"}],\"scatterpolar\":[{\"marker\":{\"colorbar\":{\"outlinewidth\":0,\"ticks\":\"\"}},\"type\":\"scatterpolar\"}],\"scatterpolargl\":[{\"marker\":{\"colorbar\":{\"outlinewidth\":0,\"ticks\":\"\"}},\"type\":\"scatterpolargl\"}],\"scatterternary\":[{\"marker\":{\"colorbar\":{\"outlinewidth\":0,\"ticks\":\"\"}},\"type\":\"scatterternary\"}],\"surface\":[{\"colorbar\":{\"outlinewidth\":0,\"ticks\":\"\"},\"colorscale\":[[0.0,\"#0d0887\"],[0.1111111111111111,\"#46039f\"],[0.2222222222222222,\"#7201a8\"],[0.3333333333333333,\"#9c179e\"],[0.4444444444444444,\"#bd3786\"],[0.5555555555555556,\"#d8576b\"],[0.6666666666666666,\"#ed7953\"],[0.7777777777777778,\"#fb9f3a\"],[0.8888888888888888,\"#fdca26\"],[1.0,\"#f0f921\"]],\"type\":\"surface\"}],\"table\":[{\"cells\":{\"fill\":{\"color\":\"#EBF0F8\"},\"line\":{\"color\":\"white\"}},\"header\":{\"fill\":{\"color\":\"#C8D4E3\"},\"line\":{\"color\":\"white\"}},\"type\":\"table\"}]},\"layout\":{\"annotationdefaults\":{\"arrowcolor\":\"#2a3f5f\",\"arrowhead\":0,\"arrowwidth\":1},\"autotypenumbers\":\"strict\",\"coloraxis\":{\"colorbar\":{\"outlinewidth\":0,\"ticks\":\"\"}},\"colorscale\":{\"diverging\":[[0,\"#8e0152\"],[0.1,\"#c51b7d\"],[0.2,\"#de77ae\"],[0.3,\"#f1b6da\"],[0.4,\"#fde0ef\"],[0.5,\"#f7f7f7\"],[0.6,\"#e6f5d0\"],[0.7,\"#b8e186\"],[0.8,\"#7fbc41\"],[0.9,\"#4d9221\"],[1,\"#276419\"]],\"sequential\":[[0.0,\"#0d0887\"],[0.1111111111111111,\"#46039f\"],[0.2222222222222222,\"#7201a8\"],[0.3333333333333333,\"#9c179e\"],[0.4444444444444444,\"#bd3786\"],[0.5555555555555556,\"#d8576b\"],[0.6666666666666666,\"#ed7953\"],[0.7777777777777778,\"#fb9f3a\"],[0.8888888888888888,\"#fdca26\"],[1.0,\"#f0f921\"]],\"sequentialminus\":[[0.0,\"#0d0887\"],[0.1111111111111111,\"#46039f\"],[0.2222222222222222,\"#7201a8\"],[0.3333333333333333,\"#9c179e\"],[0.4444444444444444,\"#bd3786\"],[0.5555555555555556,\"#d8576b\"],[0.6666666666666666,\"#ed7953\"],[0.7777777777777778,\"#fb9f3a\"],[0.8888888888888888,\"#fdca26\"],[1.0,\"#f0f921\"]]},\"colorway\":[\"#636efa\",\"#EF553B\",\"#00cc96\",\"#ab63fa\",\"#FFA15A\",\"#19d3f3\",\"#FF6692\",\"#B6E880\",\"#FF97FF\",\"#FECB52\"],\"font\":{\"color\":\"#2a3f5f\"},\"geo\":{\"bgcolor\":\"white\",\"lakecolor\":\"white\",\"landcolor\":\"#E5ECF6\",\"showlakes\":true,\"showland\":true,\"subunitcolor\":\"white\"},\"hoverlabel\":{\"align\":\"left\"},\"hovermode\":\"closest\",\"mapbox\":{\"style\":\"light\"},\"paper_bgcolor\":\"white\",\"plot_bgcolor\":\"#E5ECF6\",\"polar\":{\"angularaxis\":{\"gridcolor\":\"white\",\"linecolor\":\"white\",\"ticks\":\"\"},\"bgcolor\":\"#E5ECF6\",\"radialaxis\":{\"gridcolor\":\"white\",\"linecolor\":\"white\",\"ticks\":\"\"}},\"scene\":{\"xaxis\":{\"backgroundcolor\":\"#E5ECF6\",\"gridcolor\":\"white\",\"gridwidth\":2,\"linecolor\":\"white\",\"showbackground\":true,\"ticks\":\"\",\"zerolinecolor\":\"white\"},\"yaxis\":{\"backgroundcolor\":\"#E5ECF6\",\"gridcolor\":\"white\",\"gridwidth\":2,\"linecolor\":\"white\",\"showbackground\":true,\"ticks\":\"\",\"zerolinecolor\":\"white\"},\"zaxis\":{\"backgroundcolor\":\"#E5ECF6\",\"gridcolor\":\"white\",\"gridwidth\":2,\"linecolor\":\"white\",\"showbackground\":true,\"ticks\":\"\",\"zerolinecolor\":\"white\"}},\"shapedefaults\":{\"line\":{\"color\":\"#2a3f5f\"}},\"ternary\":{\"aaxis\":{\"gridcolor\":\"white\",\"linecolor\":\"white\",\"ticks\":\"\"},\"baxis\":{\"gridcolor\":\"white\",\"linecolor\":\"white\",\"ticks\":\"\"},\"bgcolor\":\"#E5ECF6\",\"caxis\":{\"gridcolor\":\"white\",\"linecolor\":\"white\",\"ticks\":\"\"}},\"title\":{\"x\":0.05},\"xaxis\":{\"automargin\":true,\"gridcolor\":\"white\",\"linecolor\":\"white\",\"ticks\":\"\",\"title\":{\"standoff\":15},\"zerolinecolor\":\"white\",\"zerolinewidth\":2},\"yaxis\":{\"automargin\":true,\"gridcolor\":\"white\",\"linecolor\":\"white\",\"ticks\":\"\",\"title\":{\"standoff\":15},\"zerolinecolor\":\"white\",\"zerolinewidth\":2}}},\"xaxis\":{\"anchor\":\"y\",\"domain\":[0.0,1.0],\"title\":{\"text\":\"Date\"}},\"yaxis\":{\"anchor\":\"x\",\"domain\":[0.0,1.0],\"title\":{\"text\":\"monthly cumulative returns (%)\"}},\"legend\":{\"title\":{\"text\":\"ticker\"},\"tracegroupgap\":0},\"title\":{\"text\":\"Performance - Monthly Cumulative Returns\"}},                        {\"responsive\": true}                    ).then(function(){\n",
       "                            \n",
       "var gd = document.getElementById('1b10c6c0-be37-4d60-b41e-895b15a6179a');\n",
       "var x = new MutationObserver(function (mutations, observer) {{\n",
       "        var display = window.getComputedStyle(gd).display;\n",
       "        if (!display || display === 'none') {{\n",
       "            console.log([gd, 'removed!']);\n",
       "            Plotly.purge(gd);\n",
       "            observer.disconnect();\n",
       "        }}\n",
       "}});\n",
       "\n",
       "// Listen for the removal of the full notebook cells\n",
       "var notebookContainer = gd.closest('#notebook-container');\n",
       "if (notebookContainer) {{\n",
       "    x.observe(notebookContainer, {childList: true});\n",
       "}}\n",
       "\n",
       "// Listen for the clearing of the current output cell\n",
       "var outputEl = gd.closest('.output');\n",
       "if (outputEl) {{\n",
       "    x.observe(outputEl, {childList: true});\n",
       "}}\n",
       "\n",
       "                        })                };                });            </script>        </div>"
      ]
     },
     "metadata": {},
     "output_type": "display_data"
    }
   ],
   "source": [
    "fig = px.line(df1, x='Date',\n",
    "              y='cumul_monthly_return_pct', color='ticker',\n",
    "              title='Performance - Monthly Cumulative Returns',\n",
    "              labels={'cumul_monthly_return_pct':'monthly cumulative returns (%)'})\n",
    "fig.show()"
   ]
  },
  {
   "cell_type": "code",
   "execution_count": 33,
   "id": "996c2b45-2a54-4d3f-b5a9-4ada1002ceca",
   "metadata": {},
   "outputs": [
    {
     "data": {
      "text/html": [
       "<div>\n",
       "<style scoped>\n",
       "    .dataframe tbody tr th:only-of-type {\n",
       "        vertical-align: middle;\n",
       "    }\n",
       "\n",
       "    .dataframe tbody tr th {\n",
       "        vertical-align: top;\n",
       "    }\n",
       "\n",
       "    .dataframe thead th {\n",
       "        text-align: right;\n",
       "    }\n",
       "</style>\n",
       "<table border=\"1\" class=\"dataframe\">\n",
       "  <thead>\n",
       "    <tr style=\"text-align: right;\">\n",
       "      <th></th>\n",
       "      <th>Date</th>\n",
       "      <th>ticker</th>\n",
       "      <th>monthly_return</th>\n",
       "      <th>monthly_return_pct</th>\n",
       "    </tr>\n",
       "  </thead>\n",
       "  <tbody>\n",
       "    <tr>\n",
       "      <th>0</th>\n",
       "      <td>2017-10-01</td>\n",
       "      <td>SHEL</td>\n",
       "      <td>NaN</td>\n",
       "      <td>NaN</td>\n",
       "    </tr>\n",
       "    <tr>\n",
       "      <th>1</th>\n",
       "      <td>2017-11-01</td>\n",
       "      <td>SHEL</td>\n",
       "      <td>0.017293</td>\n",
       "      <td>1.729346</td>\n",
       "    </tr>\n",
       "    <tr>\n",
       "      <th>2</th>\n",
       "      <td>2017-12-01</td>\n",
       "      <td>SHEL</td>\n",
       "      <td>0.056111</td>\n",
       "      <td>5.611091</td>\n",
       "    </tr>\n",
       "    <tr>\n",
       "      <th>3</th>\n",
       "      <td>2018-01-01</td>\n",
       "      <td>SHEL</td>\n",
       "      <td>0.052915</td>\n",
       "      <td>5.291544</td>\n",
       "    </tr>\n",
       "    <tr>\n",
       "      <th>4</th>\n",
       "      <td>2018-02-01</td>\n",
       "      <td>SHEL</td>\n",
       "      <td>-0.099231</td>\n",
       "      <td>-9.923109</td>\n",
       "    </tr>\n",
       "    <tr>\n",
       "      <th>...</th>\n",
       "      <td>...</td>\n",
       "      <td>...</td>\n",
       "      <td>...</td>\n",
       "      <td>...</td>\n",
       "    </tr>\n",
       "    <tr>\n",
       "      <th>295</th>\n",
       "      <td>2022-05-01</td>\n",
       "      <td>IXC</td>\n",
       "      <td>0.139515</td>\n",
       "      <td>13.951529</td>\n",
       "    </tr>\n",
       "    <tr>\n",
       "      <th>296</th>\n",
       "      <td>2022-06-01</td>\n",
       "      <td>IXC</td>\n",
       "      <td>-0.162008</td>\n",
       "      <td>-16.200839</td>\n",
       "    </tr>\n",
       "    <tr>\n",
       "      <th>297</th>\n",
       "      <td>2022-07-01</td>\n",
       "      <td>IXC</td>\n",
       "      <td>0.089414</td>\n",
       "      <td>8.941389</td>\n",
       "    </tr>\n",
       "    <tr>\n",
       "      <th>298</th>\n",
       "      <td>2022-08-01</td>\n",
       "      <td>IXC</td>\n",
       "      <td>0.017931</td>\n",
       "      <td>1.793109</td>\n",
       "    </tr>\n",
       "    <tr>\n",
       "      <th>299</th>\n",
       "      <td>2022-09-01</td>\n",
       "      <td>IXC</td>\n",
       "      <td>-0.096748</td>\n",
       "      <td>-9.674796</td>\n",
       "    </tr>\n",
       "  </tbody>\n",
       "</table>\n",
       "<p>300 rows × 4 columns</p>\n",
       "</div>"
      ],
      "text/plain": [
       "          Date ticker  monthly_return  monthly_return_pct\n",
       "0   2017-10-01   SHEL             NaN                 NaN\n",
       "1   2017-11-01   SHEL        0.017293            1.729346\n",
       "2   2017-12-01   SHEL        0.056111            5.611091\n",
       "3   2018-01-01   SHEL        0.052915            5.291544\n",
       "4   2018-02-01   SHEL       -0.099231           -9.923109\n",
       "..         ...    ...             ...                 ...\n",
       "295 2022-05-01    IXC        0.139515           13.951529\n",
       "296 2022-06-01    IXC       -0.162008          -16.200839\n",
       "297 2022-07-01    IXC        0.089414            8.941389\n",
       "298 2022-08-01    IXC        0.017931            1.793109\n",
       "299 2022-09-01    IXC       -0.096748           -9.674796\n",
       "\n",
       "[300 rows x 4 columns]"
      ]
     },
     "execution_count": 33,
     "metadata": {},
     "output_type": "execute_result"
    }
   ],
   "source": [
    "df_monthly_returns = df_monthly_returns.reset_index()\n",
    "df2 = df_monthly_returns.melt(id_vars=['Date'], var_name='ticker', value_name='monthly_return')\n",
    "# add one more column, showing the daily_return as percent\n",
    "df2['monthly_return_pct'] = df2['monthly_return'] * 100\n",
    "df2"
   ]
  },
  {
   "cell_type": "code",
   "execution_count": 34,
   "id": "60e6528d-22f9-4f66-be60-37ce60d5f245",
   "metadata": {},
   "outputs": [
    {
     "data": {
      "application/vnd.plotly.v1+json": {
       "config": {
        "plotlyServerURL": "https://plot.ly"
       },
       "data": [
        {
         "hovertemplate": "ticker=SHEL<br>Date=%{x}<br>monthly returns (%)=%{y}<extra></extra>",
         "legendgroup": "SHEL",
         "line": {
          "color": "#636efa",
          "dash": "solid"
         },
         "marker": {
          "symbol": "circle"
         },
         "mode": "lines",
         "name": "SHEL",
         "orientation": "v",
         "showlegend": true,
         "type": "scatter",
         "x": [
          "2017-10-01T00:00:00",
          "2017-11-01T00:00:00",
          "2017-12-01T00:00:00",
          "2018-01-01T00:00:00",
          "2018-02-01T00:00:00",
          "2018-03-01T00:00:00",
          "2018-04-01T00:00:00",
          "2018-05-01T00:00:00",
          "2018-06-01T00:00:00",
          "2018-07-01T00:00:00",
          "2018-08-01T00:00:00",
          "2018-09-01T00:00:00",
          "2018-10-01T00:00:00",
          "2018-11-01T00:00:00",
          "2018-12-01T00:00:00",
          "2019-01-01T00:00:00",
          "2019-02-01T00:00:00",
          "2019-03-01T00:00:00",
          "2019-04-01T00:00:00",
          "2019-05-01T00:00:00",
          "2019-06-01T00:00:00",
          "2019-07-01T00:00:00",
          "2019-08-01T00:00:00",
          "2019-09-01T00:00:00",
          "2019-10-01T00:00:00",
          "2019-11-01T00:00:00",
          "2019-12-01T00:00:00",
          "2020-01-01T00:00:00",
          "2020-02-01T00:00:00",
          "2020-03-01T00:00:00",
          "2020-04-01T00:00:00",
          "2020-05-01T00:00:00",
          "2020-06-01T00:00:00",
          "2020-07-01T00:00:00",
          "2020-08-01T00:00:00",
          "2020-09-01T00:00:00",
          "2020-10-01T00:00:00",
          "2020-11-01T00:00:00",
          "2020-12-01T00:00:00",
          "2021-01-01T00:00:00",
          "2021-02-01T00:00:00",
          "2021-03-01T00:00:00",
          "2021-04-01T00:00:00",
          "2021-05-01T00:00:00",
          "2021-06-01T00:00:00",
          "2021-07-01T00:00:00",
          "2021-08-01T00:00:00",
          "2021-09-01T00:00:00",
          "2021-10-01T00:00:00",
          "2021-11-01T00:00:00",
          "2021-12-01T00:00:00",
          "2022-01-01T00:00:00",
          "2022-02-01T00:00:00",
          "2022-03-01T00:00:00",
          "2022-04-01T00:00:00",
          "2022-05-01T00:00:00",
          "2022-06-01T00:00:00",
          "2022-07-01T00:00:00",
          "2022-08-01T00:00:00",
          "2022-09-01T00:00:00"
         ],
         "xaxis": "x",
         "y": [
          null,
          1.7293463883091276,
          5.611090539905317,
          5.291544247631164,
          -9.923108939829861,
          2.3207986644314227,
          9.543964021638264,
          -0.45781590074338574,
          0.8185711824288955,
          -1.2422483451924982,
          -4.592638401447835,
          5.942381085896931,
          -7.264452981595182,
          -4.415253940971797,
          -2.0251007513850894,
          5.9379022713859975,
          0.7775772877634202,
          2.1335182424440546,
          1.5018425801152535,
          -2.7073875223334154,
          6.822387015190157,
          -3.3502531745617903,
          -11.591667422872188,
          7.639966403275,
          -1.4953300979500095,
          -0.8280124546987788,
          4.21664030449187,
          -11.580197554123227,
          -15.570476008153822,
          -19.318093845458595,
          -5.044433716334373,
          -3.5617374817280334,
          3.3819179948819666,
          -8.810041235736588,
          -0.4360642894124189,
          -14.361714135164727,
          1.5097297122177888,
          32.446184267774505,
          4.9550168335858125,
          4.980090628946665,
          11.222541891515746,
          -3.6446913220572363,
          -3.085936870230288,
          1.605256010957068,
          5.5610928809088245,
          0.544546569273141,
          -2.117174357298879,
          13.397893238189674,
          3.0289341713791718,
          -8.449467848340063,
          4.3226540758461995,
          18.433179031559966,
          1.9260622719181386,
          4.8482577029394625,
          -2.730749163485424,
          10.836611294047604,
          -10.939886226097961,
          2.084528161165733,
          -0.749352500548861,
          -5.185479864480014
         ],
         "yaxis": "y"
        },
        {
         "hovertemplate": "ticker=COP<br>Date=%{x}<br>monthly returns (%)=%{y}<extra></extra>",
         "legendgroup": "COP",
         "line": {
          "color": "#EF553B",
          "dash": "solid"
         },
         "marker": {
          "symbol": "circle"
         },
         "mode": "lines",
         "name": "COP",
         "orientation": "v",
         "showlegend": true,
         "type": "scatter",
         "x": [
          "2017-10-01T00:00:00",
          "2017-11-01T00:00:00",
          "2017-12-01T00:00:00",
          "2018-01-01T00:00:00",
          "2018-02-01T00:00:00",
          "2018-03-01T00:00:00",
          "2018-04-01T00:00:00",
          "2018-05-01T00:00:00",
          "2018-06-01T00:00:00",
          "2018-07-01T00:00:00",
          "2018-08-01T00:00:00",
          "2018-09-01T00:00:00",
          "2018-10-01T00:00:00",
          "2018-11-01T00:00:00",
          "2018-12-01T00:00:00",
          "2019-01-01T00:00:00",
          "2019-02-01T00:00:00",
          "2019-03-01T00:00:00",
          "2019-04-01T00:00:00",
          "2019-05-01T00:00:00",
          "2019-06-01T00:00:00",
          "2019-07-01T00:00:00",
          "2019-08-01T00:00:00",
          "2019-09-01T00:00:00",
          "2019-10-01T00:00:00",
          "2019-11-01T00:00:00",
          "2019-12-01T00:00:00",
          "2020-01-01T00:00:00",
          "2020-02-01T00:00:00",
          "2020-03-01T00:00:00",
          "2020-04-01T00:00:00",
          "2020-05-01T00:00:00",
          "2020-06-01T00:00:00",
          "2020-07-01T00:00:00",
          "2020-08-01T00:00:00",
          "2020-09-01T00:00:00",
          "2020-10-01T00:00:00",
          "2020-11-01T00:00:00",
          "2020-12-01T00:00:00",
          "2021-01-01T00:00:00",
          "2021-02-01T00:00:00",
          "2021-03-01T00:00:00",
          "2021-04-01T00:00:00",
          "2021-05-01T00:00:00",
          "2021-06-01T00:00:00",
          "2021-07-01T00:00:00",
          "2021-08-01T00:00:00",
          "2021-09-01T00:00:00",
          "2021-10-01T00:00:00",
          "2021-11-01T00:00:00",
          "2021-12-01T00:00:00",
          "2022-01-01T00:00:00",
          "2022-02-01T00:00:00",
          "2022-03-01T00:00:00",
          "2022-04-01T00:00:00",
          "2022-05-01T00:00:00",
          "2022-06-01T00:00:00",
          "2022-07-01T00:00:00",
          "2022-08-01T00:00:00",
          "2022-09-01T00:00:00"
         ],
         "xaxis": "x",
         "y": [
          null,
          0.004169230221040543,
          7.881284392285481,
          7.141554041191722,
          -7.651763547988266,
          9.75712067749248,
          10.47394445574561,
          2.8855143237805914,
          3.7354685570714974,
          3.662723188450867,
          2.1636883404528406,
          5.406489490067279,
          -9.689886697558459,
          -4.923541125163777,
          -5.787237502879505,
          8.56455570956478,
          0.23636296088649367,
          -1.1893435032362065,
          -5.4240371564841405,
          -6.590615407055744,
          3.9752745515775345,
          -3.1475346701582807,
          -11.230219866609858,
          9.198916314840911,
          -3.1238944369282207,
          9.408251312230842,
          8.491833152963736,
          -8.611413834702631,
          -18.52600762779566,
          -35.93968982771256,
          36.688310506269616,
          0.19001021279840824,
          0.6168832014871173,
          -11.018551378225027,
          2.371057785653119,
          -13.328052418047697,
          -12.850204729784032,
          39.924685848855404,
          1.0869839003620152,
          0.09999518046939215,
          29.927563898103738,
          2.7811605398423422,
          -3.454788735855263,
          8.994915333877419,
          10.107453124979692,
          -7.947458900320514,
          -0.18806111852494034,
          22.042128109022663,
          9.915905281324267,
          -5.28754832509043,
          2.923149632338884,
          23.11705621500968,
          7.041288538072132,
          5.948773533075391,
          -4.194550303269462,
          17.62982922795846,
          -19.71053692973642,
          9.326378146901337,
          12.337058934121693,
          -6.075628537638522
         ],
         "yaxis": "y"
        },
        {
         "hovertemplate": "ticker=CVX<br>Date=%{x}<br>monthly returns (%)=%{y}<extra></extra>",
         "legendgroup": "CVX",
         "line": {
          "color": "#00cc96",
          "dash": "solid"
         },
         "marker": {
          "symbol": "circle"
         },
         "mode": "lines",
         "name": "CVX",
         "orientation": "v",
         "showlegend": true,
         "type": "scatter",
         "x": [
          "2017-10-01T00:00:00",
          "2017-11-01T00:00:00",
          "2017-12-01T00:00:00",
          "2018-01-01T00:00:00",
          "2018-02-01T00:00:00",
          "2018-03-01T00:00:00",
          "2018-04-01T00:00:00",
          "2018-05-01T00:00:00",
          "2018-06-01T00:00:00",
          "2018-07-01T00:00:00",
          "2018-08-01T00:00:00",
          "2018-09-01T00:00:00",
          "2018-10-01T00:00:00",
          "2018-11-01T00:00:00",
          "2018-12-01T00:00:00",
          "2019-01-01T00:00:00",
          "2019-02-01T00:00:00",
          "2019-03-01T00:00:00",
          "2019-04-01T00:00:00",
          "2019-05-01T00:00:00",
          "2019-06-01T00:00:00",
          "2019-07-01T00:00:00",
          "2019-08-01T00:00:00",
          "2019-09-01T00:00:00",
          "2019-10-01T00:00:00",
          "2019-11-01T00:00:00",
          "2019-12-01T00:00:00",
          "2020-01-01T00:00:00",
          "2020-02-01T00:00:00",
          "2020-03-01T00:00:00",
          "2020-04-01T00:00:00",
          "2020-05-01T00:00:00",
          "2020-06-01T00:00:00",
          "2020-07-01T00:00:00",
          "2020-08-01T00:00:00",
          "2020-09-01T00:00:00",
          "2020-10-01T00:00:00",
          "2020-11-01T00:00:00",
          "2020-12-01T00:00:00",
          "2021-01-01T00:00:00",
          "2021-02-01T00:00:00",
          "2021-03-01T00:00:00",
          "2021-04-01T00:00:00",
          "2021-05-01T00:00:00",
          "2021-06-01T00:00:00",
          "2021-07-01T00:00:00",
          "2021-08-01T00:00:00",
          "2021-09-01T00:00:00",
          "2021-10-01T00:00:00",
          "2021-11-01T00:00:00",
          "2021-12-01T00:00:00",
          "2022-01-01T00:00:00",
          "2022-02-01T00:00:00",
          "2022-03-01T00:00:00",
          "2022-04-01T00:00:00",
          "2022-05-01T00:00:00",
          "2022-06-01T00:00:00",
          "2022-07-01T00:00:00",
          "2022-08-01T00:00:00",
          "2022-09-01T00:00:00"
         ],
         "xaxis": "x",
         "y": [
          null,
          2.6749391343632745,
          6.195412699970926,
          0.12780109338894619,
          -10.713985630530953,
          2.9085174694049254,
          9.707121380813888,
          -0.6474063803101338,
          2.6005316382704313,
          -0.12655880454551793,
          -6.185153637987395,
          4.214359261215983,
          -8.693155859228895,
          6.529347817654507,
          -7.639816656213627,
          5.386538687594866,
          4.30003583968519,
          4.046030612058704,
          -2.5328710540841293,
          -5.172415044810164,
          10.377099103741116,
          -1.068780930020563,
          -4.378195254055828,
          1.78319215267162,
          -2.074191616317045,
          0.8524152846633104,
          3.899466020413689,
          -11.09452303746361,
          -12.880342698977254,
          -21.46249584107489,
          26.96662109547465,
          -0.32610360690208395,
          -1.265026570712846,
          -5.928482558469561,
          -0.01192380456694897,
          -12.977479461195784,
          -3.472215942904777,
          25.438848879041686,
          -1.7061131209706426,
          0.8880918028310703,
          17.37089082042329,
          6.271270482874036,
          -1.6413808922714712,
          0.6985512534368299,
          2.1505908649685823,
          -2.797404861416486,
          -4.950394355006738,
          6.249635134122511,
          12.85362204721585,
          -1.4149606688723337,
          5.170803363902943,
          11.913079322513997,
          9.64746076983718,
          14.263585809760503,
          -3.783092940134236,
          11.48274351560341,
          -16.425604177121013,
          13.123361515495645,
          -3.4924852585793142,
          -8.27823978617025
         ],
         "yaxis": "y"
        },
        {
         "hovertemplate": "ticker=XOM<br>Date=%{x}<br>monthly returns (%)=%{y}<extra></extra>",
         "legendgroup": "XOM",
         "line": {
          "color": "#ab63fa",
          "dash": "solid"
         },
         "marker": {
          "symbol": "circle"
         },
         "mode": "lines",
         "name": "XOM",
         "orientation": "v",
         "showlegend": true,
         "type": "scatter",
         "x": [
          "2017-10-01T00:00:00",
          "2017-11-01T00:00:00",
          "2017-12-01T00:00:00",
          "2018-01-01T00:00:00",
          "2018-02-01T00:00:00",
          "2018-03-01T00:00:00",
          "2018-04-01T00:00:00",
          "2018-05-01T00:00:00",
          "2018-06-01T00:00:00",
          "2018-07-01T00:00:00",
          "2018-08-01T00:00:00",
          "2018-09-01T00:00:00",
          "2018-10-01T00:00:00",
          "2018-11-01T00:00:00",
          "2018-12-01T00:00:00",
          "2019-01-01T00:00:00",
          "2019-02-01T00:00:00",
          "2019-03-01T00:00:00",
          "2019-04-01T00:00:00",
          "2019-05-01T00:00:00",
          "2019-06-01T00:00:00",
          "2019-07-01T00:00:00",
          "2019-08-01T00:00:00",
          "2019-09-01T00:00:00",
          "2019-10-01T00:00:00",
          "2019-11-01T00:00:00",
          "2019-12-01T00:00:00",
          "2020-01-01T00:00:00",
          "2020-02-01T00:00:00",
          "2020-03-01T00:00:00",
          "2020-04-01T00:00:00",
          "2020-05-01T00:00:00",
          "2020-06-01T00:00:00",
          "2020-07-01T00:00:00",
          "2020-08-01T00:00:00",
          "2020-09-01T00:00:00",
          "2020-10-01T00:00:00",
          "2020-11-01T00:00:00",
          "2020-12-01T00:00:00",
          "2021-01-01T00:00:00",
          "2021-02-01T00:00:00",
          "2021-03-01T00:00:00",
          "2021-04-01T00:00:00",
          "2021-05-01T00:00:00",
          "2021-06-01T00:00:00",
          "2021-07-01T00:00:00",
          "2021-08-01T00:00:00",
          "2021-09-01T00:00:00",
          "2021-10-01T00:00:00",
          "2021-11-01T00:00:00",
          "2021-12-01T00:00:00",
          "2022-01-01T00:00:00",
          "2022-02-01T00:00:00",
          "2022-03-01T00:00:00",
          "2022-04-01T00:00:00",
          "2022-05-01T00:00:00",
          "2022-06-01T00:00:00",
          "2022-07-01T00:00:00",
          "2022-08-01T00:00:00",
          "2022-09-01T00:00:00"
         ],
         "xaxis": "x",
         "y": [
          null,
          -0.07196593464534606,
          1.349595929947367,
          4.375884194927315,
          -13.2417129303533,
          -0.48458852391037865,
          4.208526202671048,
          4.488751846962313,
          2.8662530374706785,
          -1.4746359432913692,
          -1.6439985252071243,
          7.143474100997316,
          -6.2808875135813125,
          -0.22588978004778326,
          -13.356894609841296,
          7.464425441196432,
          7.84662796231701,
          3.374732256978241,
          -0.6435538828680865,
          -11.846066011756928,
          9.521502857957254,
          -2.9622681676248264,
          -7.90747769294371,
          4.392459086680334,
          -4.305349421200477,
          0.8287762303823776,
          3.6570341192221134,
          -10.977364875373553,
          -17.19253257119089,
          -25.126139484138342,
          22.38610571493609,
          -2.151933805512618,
          0.2575300075312148,
          -5.903391348272747,
          -5.085570307279297,
          -12.350370483919892,
          -4.981069738967337,
          16.89148479781595,
          10.712007901626052,
          8.78214609646717,
          21.253346346424618,
          4.429140333059767,
          2.5255193354148053,
          1.9741335835651075,
          9.643574211826023,
          -8.734948057913062,
          -5.297890516898884,
          9.519961031576486,
          9.605573692350644,
          -7.1816318441834,
          3.630256838960455,
          24.137935161091374,
          3.2385286896150722,
          6.485082857858049,
          3.2207248621592743,
          12.609969993751502,
          -9.877877892087916,
          13.183091474229315,
          -1.3824466193928964,
          -7.774530174545613
         ],
         "yaxis": "y"
        },
        {
         "hovertemplate": "ticker=IXC<br>Date=%{x}<br>monthly returns (%)=%{y}<extra></extra>",
         "legendgroup": "IXC",
         "line": {
          "color": "#FFA15A",
          "dash": "solid"
         },
         "marker": {
          "symbol": "circle"
         },
         "mode": "lines",
         "name": "IXC",
         "orientation": "v",
         "showlegend": true,
         "type": "scatter",
         "x": [
          "2017-10-01T00:00:00",
          "2017-11-01T00:00:00",
          "2017-12-01T00:00:00",
          "2018-01-01T00:00:00",
          "2018-02-01T00:00:00",
          "2018-03-01T00:00:00",
          "2018-04-01T00:00:00",
          "2018-05-01T00:00:00",
          "2018-06-01T00:00:00",
          "2018-07-01T00:00:00",
          "2018-08-01T00:00:00",
          "2018-09-01T00:00:00",
          "2018-10-01T00:00:00",
          "2018-11-01T00:00:00",
          "2018-12-01T00:00:00",
          "2019-01-01T00:00:00",
          "2019-02-01T00:00:00",
          "2019-03-01T00:00:00",
          "2019-04-01T00:00:00",
          "2019-05-01T00:00:00",
          "2019-06-01T00:00:00",
          "2019-07-01T00:00:00",
          "2019-08-01T00:00:00",
          "2019-09-01T00:00:00",
          "2019-10-01T00:00:00",
          "2019-11-01T00:00:00",
          "2019-12-01T00:00:00",
          "2020-01-01T00:00:00",
          "2020-02-01T00:00:00",
          "2020-03-01T00:00:00",
          "2020-04-01T00:00:00",
          "2020-05-01T00:00:00",
          "2020-06-01T00:00:00",
          "2020-07-01T00:00:00",
          "2020-08-01T00:00:00",
          "2020-09-01T00:00:00",
          "2020-10-01T00:00:00",
          "2020-11-01T00:00:00",
          "2020-12-01T00:00:00",
          "2021-01-01T00:00:00",
          "2021-02-01T00:00:00",
          "2021-03-01T00:00:00",
          "2021-04-01T00:00:00",
          "2021-05-01T00:00:00",
          "2021-06-01T00:00:00",
          "2021-07-01T00:00:00",
          "2021-08-01T00:00:00",
          "2021-09-01T00:00:00",
          "2021-10-01T00:00:00",
          "2021-11-01T00:00:00",
          "2021-12-01T00:00:00",
          "2022-01-01T00:00:00",
          "2022-02-01T00:00:00",
          "2022-03-01T00:00:00",
          "2022-04-01T00:00:00",
          "2022-05-01T00:00:00",
          "2022-06-01T00:00:00",
          "2022-07-01T00:00:00",
          "2022-08-01T00:00:00",
          "2022-09-01T00:00:00"
         ],
         "xaxis": "x",
         "y": [
          null,
          1.3493781656314097,
          2.8943362884303436,
          5.16347867678737,
          -9.18725515561789,
          1.706059577988417,
          9.005297405834467,
          1.187917070885458,
          -0.26681760411444433,
          2.773200648864238,
          -3.4819196329465174,
          3.0882855246922913,
          -9.38494712246457,
          -2.837928475854179,
          -11.622993161237883,
          12.555616993498454,
          2.7418371991000834,
          1.0494873349681244,
          0.11869863867111086,
          -8.091289204356833,
          4.708149825162455,
          -1.061161912985631,
          -7.188295554146896,
          4.729249238991118,
          -1.0471143142215533,
          1.455035210843203,
          0.48890592477903727,
          -4.930260283323595,
          -13.14470123073156,
          -30.350523625744575,
          16.281833732259933,
          2.2912389720950888,
          -2.7376709563939894,
          -1.8331856622672782,
          1.0095705154498313,
          -13.729613287211562,
          -5.121951575593576,
          28.920305606454665,
          1.2462608187844504,
          5.705134903270803,
          15.366219662246493,
          2.2821489155039343,
          0.2839734998736132,
          5.78478861983065,
          1.6826078885438855,
          -5.153786895594825,
          -0.8054819769911958,
          9.013402569131944,
          8.193666251056353,
          -6.368330378232989,
          1.139699960694851,
          19.2610762218004,
          4.868903110058276,
          7.589301149998895,
          -1.8533992421127077,
          13.951528930510282,
          -16.200839211193042,
          8.941389322175075,
          1.7931089655172538,
          -9.674796223588277
         ],
         "yaxis": "y"
        }
       ],
       "layout": {
        "autosize": true,
        "legend": {
         "title": {
          "text": "ticker"
         },
         "tracegroupgap": 0
        },
        "template": {
         "data": {
          "bar": [
           {
            "error_x": {
             "color": "#2a3f5f"
            },
            "error_y": {
             "color": "#2a3f5f"
            },
            "marker": {
             "line": {
              "color": "#E5ECF6",
              "width": 0.5
             },
             "pattern": {
              "fillmode": "overlay",
              "size": 10,
              "solidity": 0.2
             }
            },
            "type": "bar"
           }
          ],
          "barpolar": [
           {
            "marker": {
             "line": {
              "color": "#E5ECF6",
              "width": 0.5
             },
             "pattern": {
              "fillmode": "overlay",
              "size": 10,
              "solidity": 0.2
             }
            },
            "type": "barpolar"
           }
          ],
          "carpet": [
           {
            "aaxis": {
             "endlinecolor": "#2a3f5f",
             "gridcolor": "white",
             "linecolor": "white",
             "minorgridcolor": "white",
             "startlinecolor": "#2a3f5f"
            },
            "baxis": {
             "endlinecolor": "#2a3f5f",
             "gridcolor": "white",
             "linecolor": "white",
             "minorgridcolor": "white",
             "startlinecolor": "#2a3f5f"
            },
            "type": "carpet"
           }
          ],
          "choropleth": [
           {
            "colorbar": {
             "outlinewidth": 0,
             "ticks": ""
            },
            "type": "choropleth"
           }
          ],
          "contour": [
           {
            "colorbar": {
             "outlinewidth": 0,
             "ticks": ""
            },
            "colorscale": [
             [
              0,
              "#0d0887"
             ],
             [
              0.1111111111111111,
              "#46039f"
             ],
             [
              0.2222222222222222,
              "#7201a8"
             ],
             [
              0.3333333333333333,
              "#9c179e"
             ],
             [
              0.4444444444444444,
              "#bd3786"
             ],
             [
              0.5555555555555556,
              "#d8576b"
             ],
             [
              0.6666666666666666,
              "#ed7953"
             ],
             [
              0.7777777777777778,
              "#fb9f3a"
             ],
             [
              0.8888888888888888,
              "#fdca26"
             ],
             [
              1,
              "#f0f921"
             ]
            ],
            "type": "contour"
           }
          ],
          "contourcarpet": [
           {
            "colorbar": {
             "outlinewidth": 0,
             "ticks": ""
            },
            "type": "contourcarpet"
           }
          ],
          "heatmap": [
           {
            "colorbar": {
             "outlinewidth": 0,
             "ticks": ""
            },
            "colorscale": [
             [
              0,
              "#0d0887"
             ],
             [
              0.1111111111111111,
              "#46039f"
             ],
             [
              0.2222222222222222,
              "#7201a8"
             ],
             [
              0.3333333333333333,
              "#9c179e"
             ],
             [
              0.4444444444444444,
              "#bd3786"
             ],
             [
              0.5555555555555556,
              "#d8576b"
             ],
             [
              0.6666666666666666,
              "#ed7953"
             ],
             [
              0.7777777777777778,
              "#fb9f3a"
             ],
             [
              0.8888888888888888,
              "#fdca26"
             ],
             [
              1,
              "#f0f921"
             ]
            ],
            "type": "heatmap"
           }
          ],
          "heatmapgl": [
           {
            "colorbar": {
             "outlinewidth": 0,
             "ticks": ""
            },
            "colorscale": [
             [
              0,
              "#0d0887"
             ],
             [
              0.1111111111111111,
              "#46039f"
             ],
             [
              0.2222222222222222,
              "#7201a8"
             ],
             [
              0.3333333333333333,
              "#9c179e"
             ],
             [
              0.4444444444444444,
              "#bd3786"
             ],
             [
              0.5555555555555556,
              "#d8576b"
             ],
             [
              0.6666666666666666,
              "#ed7953"
             ],
             [
              0.7777777777777778,
              "#fb9f3a"
             ],
             [
              0.8888888888888888,
              "#fdca26"
             ],
             [
              1,
              "#f0f921"
             ]
            ],
            "type": "heatmapgl"
           }
          ],
          "histogram": [
           {
            "marker": {
             "pattern": {
              "fillmode": "overlay",
              "size": 10,
              "solidity": 0.2
             }
            },
            "type": "histogram"
           }
          ],
          "histogram2d": [
           {
            "colorbar": {
             "outlinewidth": 0,
             "ticks": ""
            },
            "colorscale": [
             [
              0,
              "#0d0887"
             ],
             [
              0.1111111111111111,
              "#46039f"
             ],
             [
              0.2222222222222222,
              "#7201a8"
             ],
             [
              0.3333333333333333,
              "#9c179e"
             ],
             [
              0.4444444444444444,
              "#bd3786"
             ],
             [
              0.5555555555555556,
              "#d8576b"
             ],
             [
              0.6666666666666666,
              "#ed7953"
             ],
             [
              0.7777777777777778,
              "#fb9f3a"
             ],
             [
              0.8888888888888888,
              "#fdca26"
             ],
             [
              1,
              "#f0f921"
             ]
            ],
            "type": "histogram2d"
           }
          ],
          "histogram2dcontour": [
           {
            "colorbar": {
             "outlinewidth": 0,
             "ticks": ""
            },
            "colorscale": [
             [
              0,
              "#0d0887"
             ],
             [
              0.1111111111111111,
              "#46039f"
             ],
             [
              0.2222222222222222,
              "#7201a8"
             ],
             [
              0.3333333333333333,
              "#9c179e"
             ],
             [
              0.4444444444444444,
              "#bd3786"
             ],
             [
              0.5555555555555556,
              "#d8576b"
             ],
             [
              0.6666666666666666,
              "#ed7953"
             ],
             [
              0.7777777777777778,
              "#fb9f3a"
             ],
             [
              0.8888888888888888,
              "#fdca26"
             ],
             [
              1,
              "#f0f921"
             ]
            ],
            "type": "histogram2dcontour"
           }
          ],
          "mesh3d": [
           {
            "colorbar": {
             "outlinewidth": 0,
             "ticks": ""
            },
            "type": "mesh3d"
           }
          ],
          "parcoords": [
           {
            "line": {
             "colorbar": {
              "outlinewidth": 0,
              "ticks": ""
             }
            },
            "type": "parcoords"
           }
          ],
          "pie": [
           {
            "automargin": true,
            "type": "pie"
           }
          ],
          "scatter": [
           {
            "marker": {
             "colorbar": {
              "outlinewidth": 0,
              "ticks": ""
             }
            },
            "type": "scatter"
           }
          ],
          "scatter3d": [
           {
            "line": {
             "colorbar": {
              "outlinewidth": 0,
              "ticks": ""
             }
            },
            "marker": {
             "colorbar": {
              "outlinewidth": 0,
              "ticks": ""
             }
            },
            "type": "scatter3d"
           }
          ],
          "scattercarpet": [
           {
            "marker": {
             "colorbar": {
              "outlinewidth": 0,
              "ticks": ""
             }
            },
            "type": "scattercarpet"
           }
          ],
          "scattergeo": [
           {
            "marker": {
             "colorbar": {
              "outlinewidth": 0,
              "ticks": ""
             }
            },
            "type": "scattergeo"
           }
          ],
          "scattergl": [
           {
            "marker": {
             "colorbar": {
              "outlinewidth": 0,
              "ticks": ""
             }
            },
            "type": "scattergl"
           }
          ],
          "scattermapbox": [
           {
            "marker": {
             "colorbar": {
              "outlinewidth": 0,
              "ticks": ""
             }
            },
            "type": "scattermapbox"
           }
          ],
          "scatterpolar": [
           {
            "marker": {
             "colorbar": {
              "outlinewidth": 0,
              "ticks": ""
             }
            },
            "type": "scatterpolar"
           }
          ],
          "scatterpolargl": [
           {
            "marker": {
             "colorbar": {
              "outlinewidth": 0,
              "ticks": ""
             }
            },
            "type": "scatterpolargl"
           }
          ],
          "scatterternary": [
           {
            "marker": {
             "colorbar": {
              "outlinewidth": 0,
              "ticks": ""
             }
            },
            "type": "scatterternary"
           }
          ],
          "surface": [
           {
            "colorbar": {
             "outlinewidth": 0,
             "ticks": ""
            },
            "colorscale": [
             [
              0,
              "#0d0887"
             ],
             [
              0.1111111111111111,
              "#46039f"
             ],
             [
              0.2222222222222222,
              "#7201a8"
             ],
             [
              0.3333333333333333,
              "#9c179e"
             ],
             [
              0.4444444444444444,
              "#bd3786"
             ],
             [
              0.5555555555555556,
              "#d8576b"
             ],
             [
              0.6666666666666666,
              "#ed7953"
             ],
             [
              0.7777777777777778,
              "#fb9f3a"
             ],
             [
              0.8888888888888888,
              "#fdca26"
             ],
             [
              1,
              "#f0f921"
             ]
            ],
            "type": "surface"
           }
          ],
          "table": [
           {
            "cells": {
             "fill": {
              "color": "#EBF0F8"
             },
             "line": {
              "color": "white"
             }
            },
            "header": {
             "fill": {
              "color": "#C8D4E3"
             },
             "line": {
              "color": "white"
             }
            },
            "type": "table"
           }
          ]
         },
         "layout": {
          "annotationdefaults": {
           "arrowcolor": "#2a3f5f",
           "arrowhead": 0,
           "arrowwidth": 1
          },
          "autotypenumbers": "strict",
          "coloraxis": {
           "colorbar": {
            "outlinewidth": 0,
            "ticks": ""
           }
          },
          "colorscale": {
           "diverging": [
            [
             0,
             "#8e0152"
            ],
            [
             0.1,
             "#c51b7d"
            ],
            [
             0.2,
             "#de77ae"
            ],
            [
             0.3,
             "#f1b6da"
            ],
            [
             0.4,
             "#fde0ef"
            ],
            [
             0.5,
             "#f7f7f7"
            ],
            [
             0.6,
             "#e6f5d0"
            ],
            [
             0.7,
             "#b8e186"
            ],
            [
             0.8,
             "#7fbc41"
            ],
            [
             0.9,
             "#4d9221"
            ],
            [
             1,
             "#276419"
            ]
           ],
           "sequential": [
            [
             0,
             "#0d0887"
            ],
            [
             0.1111111111111111,
             "#46039f"
            ],
            [
             0.2222222222222222,
             "#7201a8"
            ],
            [
             0.3333333333333333,
             "#9c179e"
            ],
            [
             0.4444444444444444,
             "#bd3786"
            ],
            [
             0.5555555555555556,
             "#d8576b"
            ],
            [
             0.6666666666666666,
             "#ed7953"
            ],
            [
             0.7777777777777778,
             "#fb9f3a"
            ],
            [
             0.8888888888888888,
             "#fdca26"
            ],
            [
             1,
             "#f0f921"
            ]
           ],
           "sequentialminus": [
            [
             0,
             "#0d0887"
            ],
            [
             0.1111111111111111,
             "#46039f"
            ],
            [
             0.2222222222222222,
             "#7201a8"
            ],
            [
             0.3333333333333333,
             "#9c179e"
            ],
            [
             0.4444444444444444,
             "#bd3786"
            ],
            [
             0.5555555555555556,
             "#d8576b"
            ],
            [
             0.6666666666666666,
             "#ed7953"
            ],
            [
             0.7777777777777778,
             "#fb9f3a"
            ],
            [
             0.8888888888888888,
             "#fdca26"
            ],
            [
             1,
             "#f0f921"
            ]
           ]
          },
          "colorway": [
           "#636efa",
           "#EF553B",
           "#00cc96",
           "#ab63fa",
           "#FFA15A",
           "#19d3f3",
           "#FF6692",
           "#B6E880",
           "#FF97FF",
           "#FECB52"
          ],
          "font": {
           "color": "#2a3f5f"
          },
          "geo": {
           "bgcolor": "white",
           "lakecolor": "white",
           "landcolor": "#E5ECF6",
           "showlakes": true,
           "showland": true,
           "subunitcolor": "white"
          },
          "hoverlabel": {
           "align": "left"
          },
          "hovermode": "closest",
          "mapbox": {
           "style": "light"
          },
          "paper_bgcolor": "white",
          "plot_bgcolor": "#E5ECF6",
          "polar": {
           "angularaxis": {
            "gridcolor": "white",
            "linecolor": "white",
            "ticks": ""
           },
           "bgcolor": "#E5ECF6",
           "radialaxis": {
            "gridcolor": "white",
            "linecolor": "white",
            "ticks": ""
           }
          },
          "scene": {
           "xaxis": {
            "backgroundcolor": "#E5ECF6",
            "gridcolor": "white",
            "gridwidth": 2,
            "linecolor": "white",
            "showbackground": true,
            "ticks": "",
            "zerolinecolor": "white"
           },
           "yaxis": {
            "backgroundcolor": "#E5ECF6",
            "gridcolor": "white",
            "gridwidth": 2,
            "linecolor": "white",
            "showbackground": true,
            "ticks": "",
            "zerolinecolor": "white"
           },
           "zaxis": {
            "backgroundcolor": "#E5ECF6",
            "gridcolor": "white",
            "gridwidth": 2,
            "linecolor": "white",
            "showbackground": true,
            "ticks": "",
            "zerolinecolor": "white"
           }
          },
          "shapedefaults": {
           "line": {
            "color": "#2a3f5f"
           }
          },
          "ternary": {
           "aaxis": {
            "gridcolor": "white",
            "linecolor": "white",
            "ticks": ""
           },
           "baxis": {
            "gridcolor": "white",
            "linecolor": "white",
            "ticks": ""
           },
           "bgcolor": "#E5ECF6",
           "caxis": {
            "gridcolor": "white",
            "linecolor": "white",
            "ticks": ""
           }
          },
          "title": {
           "x": 0.05
          },
          "xaxis": {
           "automargin": true,
           "gridcolor": "white",
           "linecolor": "white",
           "ticks": "",
           "title": {
            "standoff": 15
           },
           "zerolinecolor": "white",
           "zerolinewidth": 2
          },
          "yaxis": {
           "automargin": true,
           "gridcolor": "white",
           "linecolor": "white",
           "ticks": "",
           "title": {
            "standoff": 15
           },
           "zerolinecolor": "white",
           "zerolinewidth": 2
          }
         }
        },
        "title": {
         "text": "Performance - Monthly Simple Returns"
        },
        "xaxis": {
         "anchor": "y",
         "autorange": true,
         "domain": [
          0,
          1
         ],
         "range": [
          "2017-10-01",
          "2022-09-01"
         ],
         "title": {
          "text": "Date"
         },
         "type": "date"
        },
        "yaxis": {
         "anchor": "x",
         "autorange": true,
         "domain": [
          0,
          1
         ],
         "range": [
          -40.15437736529967,
          44.139373386442514
         ],
         "title": {
          "text": "monthly returns (%)"
         },
         "type": "linear"
        }
       }
      },
      "image/png": "[encoded data removed]",
      "text/html": [
       "<div>                            <div id=\"140944c2-e9c5-4390-9031-7bb968209cc2\" class=\"plotly-graph-div\" style=\"height:525px; width:100%;\"></div>            <script type=\"text/javascript\">                require([\"plotly\"], function(Plotly) {                    window.PLOTLYENV=window.PLOTLYENV || {};                                    if (document.getElementById(\"140944c2-e9c5-4390-9031-7bb968209cc2\")) {                    Plotly.newPlot(                        \"140944c2-e9c5-4390-9031-7bb968209cc2\",                        [{\"hovertemplate\":\"ticker=SHEL<br>Date=%{x}<br>monthly returns (%)=%{y}<extra></extra>\",\"legendgroup\":\"SHEL\",\"line\":{\"color\":\"#636efa\",\"dash\":\"solid\"},\"marker\":{\"symbol\":\"circle\"},\"mode\":\"lines\",\"name\":\"SHEL\",\"orientation\":\"v\",\"showlegend\":true,\"x\":[\"2017-10-01T00:00:00\",\"2017-11-01T00:00:00\",\"2017-12-01T00:00:00\",\"2018-01-01T00:00:00\",\"2018-02-01T00:00:00\",\"2018-03-01T00:00:00\",\"2018-04-01T00:00:00\",\"2018-05-01T00:00:00\",\"2018-06-01T00:00:00\",\"2018-07-01T00:00:00\",\"2018-08-01T00:00:00\",\"2018-09-01T00:00:00\",\"2018-10-01T00:00:00\",\"2018-11-01T00:00:00\",\"2018-12-01T00:00:00\",\"2019-01-01T00:00:00\",\"2019-02-01T00:00:00\",\"2019-03-01T00:00:00\",\"2019-04-01T00:00:00\",\"2019-05-01T00:00:00\",\"2019-06-01T00:00:00\",\"2019-07-01T00:00:00\",\"2019-08-01T00:00:00\",\"2019-09-01T00:00:00\",\"2019-10-01T00:00:00\",\"2019-11-01T00:00:00\",\"2019-12-01T00:00:00\",\"2020-01-01T00:00:00\",\"2020-02-01T00:00:00\",\"2020-03-01T00:00:00\",\"2020-04-01T00:00:00\",\"2020-05-01T00:00:00\",\"2020-06-01T00:00:00\",\"2020-07-01T00:00:00\",\"2020-08-01T00:00:00\",\"2020-09-01T00:00:00\",\"2020-10-01T00:00:00\",\"2020-11-01T00:00:00\",\"2020-12-01T00:00:00\",\"2021-01-01T00:00:00\",\"2021-02-01T00:00:00\",\"2021-03-01T00:00:00\",\"2021-04-01T00:00:00\",\"2021-05-01T00:00:00\",\"2021-06-01T00:00:00\",\"2021-07-01T00:00:00\",\"2021-08-01T00:00:00\",\"2021-09-01T00:00:00\",\"2021-10-01T00:00:00\",\"2021-11-01T00:00:00\",\"2021-12-01T00:00:00\",\"2022-01-01T00:00:00\",\"2022-02-01T00:00:00\",\"2022-03-01T00:00:00\",\"2022-04-01T00:00:00\",\"2022-05-01T00:00:00\",\"2022-06-01T00:00:00\",\"2022-07-01T00:00:00\",\"2022-08-01T00:00:00\",\"2022-09-01T00:00:00\"],\"xaxis\":\"x\",\"y\":[null,1.7293463883091276,5.611090539905317,5.291544247631164,-9.923108939829861,2.3207986644314227,9.543964021638264,-0.45781590074338574,0.8185711824288955,-1.2422483451924982,-4.592638401447835,5.942381085896931,-7.264452981595182,-4.415253940971797,-2.0251007513850894,5.9379022713859975,0.7775772877634202,2.1335182424440546,1.5018425801152535,-2.7073875223334154,6.822387015190157,-3.3502531745617903,-11.591667422872188,7.639966403275,-1.4953300979500095,-0.8280124546987788,4.21664030449187,-11.580197554123227,-15.570476008153822,-19.318093845458595,-5.044433716334373,-3.5617374817280334,3.3819179948819666,-8.810041235736588,-0.4360642894124189,-14.361714135164727,1.5097297122177888,32.446184267774505,4.9550168335858125,4.980090628946665,11.222541891515746,-3.6446913220572363,-3.085936870230288,1.605256010957068,5.5610928809088245,0.544546569273141,-2.117174357298879,13.397893238189674,3.0289341713791718,-8.449467848340063,4.3226540758461995,18.433179031559966,1.9260622719181386,4.8482577029394625,-2.730749163485424,10.836611294047604,-10.939886226097961,2.084528161165733,-0.749352500548861,-5.185479864480014],\"yaxis\":\"y\",\"type\":\"scatter\"},{\"hovertemplate\":\"ticker=COP<br>Date=%{x}<br>monthly returns (%)=%{y}<extra></extra>\",\"legendgroup\":\"COP\",\"line\":{\"color\":\"#EF553B\",\"dash\":\"solid\"},\"marker\":{\"symbol\":\"circle\"},\"mode\":\"lines\",\"name\":\"COP\",\"orientation\":\"v\",\"showlegend\":true,\"x\":[\"2017-10-01T00:00:00\",\"2017-11-01T00:00:00\",\"2017-12-01T00:00:00\",\"2018-01-01T00:00:00\",\"2018-02-01T00:00:00\",\"2018-03-01T00:00:00\",\"2018-04-01T00:00:00\",\"2018-05-01T00:00:00\",\"2018-06-01T00:00:00\",\"2018-07-01T00:00:00\",\"2018-08-01T00:00:00\",\"2018-09-01T00:00:00\",\"2018-10-01T00:00:00\",\"2018-11-01T00:00:00\",\"2018-12-01T00:00:00\",\"2019-01-01T00:00:00\",\"2019-02-01T00:00:00\",\"2019-03-01T00:00:00\",\"2019-04-01T00:00:00\",\"2019-05-01T00:00:00\",\"2019-06-01T00:00:00\",\"2019-07-01T00:00:00\",\"2019-08-01T00:00:00\",\"2019-09-01T00:00:00\",\"2019-10-01T00:00:00\",\"2019-11-01T00:00:00\",\"2019-12-01T00:00:00\",\"2020-01-01T00:00:00\",\"2020-02-01T00:00:00\",\"2020-03-01T00:00:00\",\"2020-04-01T00:00:00\",\"2020-05-01T00:00:00\",\"2020-06-01T00:00:00\",\"2020-07-01T00:00:00\",\"2020-08-01T00:00:00\",\"2020-09-01T00:00:00\",\"2020-10-01T00:00:00\",\"2020-11-01T00:00:00\",\"2020-12-01T00:00:00\",\"2021-01-01T00:00:00\",\"2021-02-01T00:00:00\",\"2021-03-01T00:00:00\",\"2021-04-01T00:00:00\",\"2021-05-01T00:00:00\",\"2021-06-01T00:00:00\",\"2021-07-01T00:00:00\",\"2021-08-01T00:00:00\",\"2021-09-01T00:00:00\",\"2021-10-01T00:00:00\",\"2021-11-01T00:00:00\",\"2021-12-01T00:00:00\",\"2022-01-01T00:00:00\",\"2022-02-01T00:00:00\",\"2022-03-01T00:00:00\",\"2022-04-01T00:00:00\",\"2022-05-01T00:00:00\",\"2022-06-01T00:00:00\",\"2022-07-01T00:00:00\",\"2022-08-01T00:00:00\",\"2022-09-01T00:00:00\"],\"xaxis\":\"x\",\"y\":[null,0.004169230221040543,7.881284392285481,7.141554041191722,-7.651763547988266,9.75712067749248,10.47394445574561,2.8855143237805914,3.7354685570714974,3.662723188450867,2.1636883404528406,5.406489490067279,-9.689886697558459,-4.923541125163777,-5.787237502879505,8.56455570956478,0.23636296088649367,-1.1893435032362065,-5.4240371564841405,-6.590615407055744,3.9752745515775345,-3.1475346701582807,-11.230219866609858,9.198916314840911,-3.1238944369282207,9.408251312230842,8.491833152963736,-8.611413834702631,-18.52600762779566,-35.93968982771256,36.688310506269616,0.19001021279840824,0.6168832014871173,-11.018551378225027,2.371057785653119,-13.328052418047697,-12.850204729784032,39.924685848855404,1.0869839003620152,0.09999518046939215,29.927563898103738,2.7811605398423422,-3.454788735855263,8.994915333877419,10.107453124979692,-7.947458900320514,-0.18806111852494034,22.042128109022663,9.915905281324267,-5.28754832509043,2.923149632338884,23.11705621500968,7.041288538072132,5.948773533075391,-4.194550303269462,17.62982922795846,-19.71053692973642,9.326378146901337,12.337058934121693,-6.075628537638522],\"yaxis\":\"y\",\"type\":\"scatter\"},{\"hovertemplate\":\"ticker=CVX<br>Date=%{x}<br>monthly returns (%)=%{y}<extra></extra>\",\"legendgroup\":\"CVX\",\"line\":{\"color\":\"#00cc96\",\"dash\":\"solid\"},\"marker\":{\"symbol\":\"circle\"},\"mode\":\"lines\",\"name\":\"CVX\",\"orientation\":\"v\",\"showlegend\":true,\"x\":[\"2017-10-01T00:00:00\",\"2017-11-01T00:00:00\",\"2017-12-01T00:00:00\",\"2018-01-01T00:00:00\",\"2018-02-01T00:00:00\",\"2018-03-01T00:00:00\",\"2018-04-01T00:00:00\",\"2018-05-01T00:00:00\",\"2018-06-01T00:00:00\",\"2018-07-01T00:00:00\",\"2018-08-01T00:00:00\",\"2018-09-01T00:00:00\",\"2018-10-01T00:00:00\",\"2018-11-01T00:00:00\",\"2018-12-01T00:00:00\",\"2019-01-01T00:00:00\",\"2019-02-01T00:00:00\",\"2019-03-01T00:00:00\",\"2019-04-01T00:00:00\",\"2019-05-01T00:00:00\",\"2019-06-01T00:00:00\",\"2019-07-01T00:00:00\",\"2019-08-01T00:00:00\",\"2019-09-01T00:00:00\",\"2019-10-01T00:00:00\",\"2019-11-01T00:00:00\",\"2019-12-01T00:00:00\",\"2020-01-01T00:00:00\",\"2020-02-01T00:00:00\",\"2020-03-01T00:00:00\",\"2020-04-01T00:00:00\",\"2020-05-01T00:00:00\",\"2020-06-01T00:00:00\",\"2020-07-01T00:00:00\",\"2020-08-01T00:00:00\",\"2020-09-01T00:00:00\",\"2020-10-01T00:00:00\",\"2020-11-01T00:00:00\",\"2020-12-01T00:00:00\",\"2021-01-01T00:00:00\",\"2021-02-01T00:00:00\",\"2021-03-01T00:00:00\",\"2021-04-01T00:00:00\",\"2021-05-01T00:00:00\",\"2021-06-01T00:00:00\",\"2021-07-01T00:00:00\",\"2021-08-01T00:00:00\",\"2021-09-01T00:00:00\",\"2021-10-01T00:00:00\",\"2021-11-01T00:00:00\",\"2021-12-01T00:00:00\",\"2022-01-01T00:00:00\",\"2022-02-01T00:00:00\",\"2022-03-01T00:00:00\",\"2022-04-01T00:00:00\",\"2022-05-01T00:00:00\",\"2022-06-01T00:00:00\",\"2022-07-01T00:00:00\",\"2022-08-01T00:00:00\",\"2022-09-01T00:00:00\"],\"xaxis\":\"x\",\"y\":[null,2.6749391343632745,6.195412699970926,0.12780109338894619,-10.713985630530953,2.9085174694049254,9.707121380813888,-0.6474063803101338,2.6005316382704313,-0.12655880454551793,-6.185153637987395,4.214359261215983,-8.693155859228895,6.529347817654507,-7.639816656213627,5.386538687594866,4.30003583968519,4.046030612058704,-2.5328710540841293,-5.172415044810164,10.377099103741116,-1.068780930020563,-4.378195254055828,1.78319215267162,-2.074191616317045,0.8524152846633104,3.899466020413689,-11.09452303746361,-12.880342698977254,-21.46249584107489,26.96662109547465,-0.32610360690208395,-1.265026570712846,-5.928482558469561,-0.01192380456694897,-12.977479461195784,-3.472215942904777,25.438848879041686,-1.7061131209706426,0.8880918028310703,17.37089082042329,6.271270482874036,-1.6413808922714712,0.6985512534368299,2.1505908649685823,-2.797404861416486,-4.950394355006738,6.249635134122511,12.85362204721585,-1.4149606688723337,5.170803363902943,11.913079322513997,9.64746076983718,14.263585809760503,-3.783092940134236,11.48274351560341,-16.425604177121013,13.123361515495645,-3.4924852585793142,-8.27823978617025],\"yaxis\":\"y\",\"type\":\"scatter\"},{\"hovertemplate\":\"ticker=XOM<br>Date=%{x}<br>monthly returns (%)=%{y}<extra></extra>\",\"legendgroup\":\"XOM\",\"line\":{\"color\":\"#ab63fa\",\"dash\":\"solid\"},\"marker\":{\"symbol\":\"circle\"},\"mode\":\"lines\",\"name\":\"XOM\",\"orientation\":\"v\",\"showlegend\":true,\"x\":[\"2017-10-01T00:00:00\",\"2017-11-01T00:00:00\",\"2017-12-01T00:00:00\",\"2018-01-01T00:00:00\",\"2018-02-01T00:00:00\",\"2018-03-01T00:00:00\",\"2018-04-01T00:00:00\",\"2018-05-01T00:00:00\",\"2018-06-01T00:00:00\",\"2018-07-01T00:00:00\",\"2018-08-01T00:00:00\",\"2018-09-01T00:00:00\",\"2018-10-01T00:00:00\",\"2018-11-01T00:00:00\",\"2018-12-01T00:00:00\",\"2019-01-01T00:00:00\",\"2019-02-01T00:00:00\",\"2019-03-01T00:00:00\",\"2019-04-01T00:00:00\",\"2019-05-01T00:00:00\",\"2019-06-01T00:00:00\",\"2019-07-01T00:00:00\",\"2019-08-01T00:00:00\",\"2019-09-01T00:00:00\",\"2019-10-01T00:00:00\",\"2019-11-01T00:00:00\",\"2019-12-01T00:00:00\",\"2020-01-01T00:00:00\",\"2020-02-01T00:00:00\",\"2020-03-01T00:00:00\",\"2020-04-01T00:00:00\",\"2020-05-01T00:00:00\",\"2020-06-01T00:00:00\",\"2020-07-01T00:00:00\",\"2020-08-01T00:00:00\",\"2020-09-01T00:00:00\",\"2020-10-01T00:00:00\",\"2020-11-01T00:00:00\",\"2020-12-01T00:00:00\",\"2021-01-01T00:00:00\",\"2021-02-01T00:00:00\",\"2021-03-01T00:00:00\",\"2021-04-01T00:00:00\",\"2021-05-01T00:00:00\",\"2021-06-01T00:00:00\",\"2021-07-01T00:00:00\",\"2021-08-01T00:00:00\",\"2021-09-01T00:00:00\",\"2021-10-01T00:00:00\",\"2021-11-01T00:00:00\",\"2021-12-01T00:00:00\",\"2022-01-01T00:00:00\",\"2022-02-01T00:00:00\",\"2022-03-01T00:00:00\",\"2022-04-01T00:00:00\",\"2022-05-01T00:00:00\",\"2022-06-01T00:00:00\",\"2022-07-01T00:00:00\",\"2022-08-01T00:00:00\",\"2022-09-01T00:00:00\"],\"xaxis\":\"x\",\"y\":[null,-0.07196593464534606,1.349595929947367,4.375884194927315,-13.2417129303533,-0.48458852391037865,4.208526202671048,4.488751846962313,2.8662530374706785,-1.4746359432913692,-1.6439985252071243,7.143474100997316,-6.2808875135813125,-0.22588978004778326,-13.356894609841296,7.464425441196432,7.84662796231701,3.374732256978241,-0.6435538828680865,-11.846066011756928,9.521502857957254,-2.9622681676248264,-7.90747769294371,4.392459086680334,-4.305349421200477,0.8287762303823776,3.6570341192221134,-10.977364875373553,-17.19253257119089,-25.126139484138342,22.38610571493609,-2.151933805512618,0.2575300075312148,-5.903391348272747,-5.085570307279297,-12.350370483919892,-4.981069738967337,16.89148479781595,10.712007901626052,8.78214609646717,21.253346346424618,4.429140333059767,2.5255193354148053,1.9741335835651075,9.643574211826023,-8.734948057913062,-5.297890516898884,9.519961031576486,9.605573692350644,-7.1816318441834,3.630256838960455,24.137935161091374,3.2385286896150722,6.485082857858049,3.2207248621592743,12.609969993751502,-9.877877892087916,13.183091474229315,-1.3824466193928964,-7.774530174545613],\"yaxis\":\"y\",\"type\":\"scatter\"},{\"hovertemplate\":\"ticker=IXC<br>Date=%{x}<br>monthly returns (%)=%{y}<extra></extra>\",\"legendgroup\":\"IXC\",\"line\":{\"color\":\"#FFA15A\",\"dash\":\"solid\"},\"marker\":{\"symbol\":\"circle\"},\"mode\":\"lines\",\"name\":\"IXC\",\"orientation\":\"v\",\"showlegend\":true,\"x\":[\"2017-10-01T00:00:00\",\"2017-11-01T00:00:00\",\"2017-12-01T00:00:00\",\"2018-01-01T00:00:00\",\"2018-02-01T00:00:00\",\"2018-03-01T00:00:00\",\"2018-04-01T00:00:00\",\"2018-05-01T00:00:00\",\"2018-06-01T00:00:00\",\"2018-07-01T00:00:00\",\"2018-08-01T00:00:00\",\"2018-09-01T00:00:00\",\"2018-10-01T00:00:00\",\"2018-11-01T00:00:00\",\"2018-12-01T00:00:00\",\"2019-01-01T00:00:00\",\"2019-02-01T00:00:00\",\"2019-03-01T00:00:00\",\"2019-04-01T00:00:00\",\"2019-05-01T00:00:00\",\"2019-06-01T00:00:00\",\"2019-07-01T00:00:00\",\"2019-08-01T00:00:00\",\"2019-09-01T00:00:00\",\"2019-10-01T00:00:00\",\"2019-11-01T00:00:00\",\"2019-12-01T00:00:00\",\"2020-01-01T00:00:00\",\"2020-02-01T00:00:00\",\"2020-03-01T00:00:00\",\"2020-04-01T00:00:00\",\"2020-05-01T00:00:00\",\"2020-06-01T00:00:00\",\"2020-07-01T00:00:00\",\"2020-08-01T00:00:00\",\"2020-09-01T00:00:00\",\"2020-10-01T00:00:00\",\"2020-11-01T00:00:00\",\"2020-12-01T00:00:00\",\"2021-01-01T00:00:00\",\"2021-02-01T00:00:00\",\"2021-03-01T00:00:00\",\"2021-04-01T00:00:00\",\"2021-05-01T00:00:00\",\"2021-06-01T00:00:00\",\"2021-07-01T00:00:00\",\"2021-08-01T00:00:00\",\"2021-09-01T00:00:00\",\"2021-10-01T00:00:00\",\"2021-11-01T00:00:00\",\"2021-12-01T00:00:00\",\"2022-01-01T00:00:00\",\"2022-02-01T00:00:00\",\"2022-03-01T00:00:00\",\"2022-04-01T00:00:00\",\"2022-05-01T00:00:00\",\"2022-06-01T00:00:00\",\"2022-07-01T00:00:00\",\"2022-08-01T00:00:00\",\"2022-09-01T00:00:00\"],\"xaxis\":\"x\",\"y\":[null,1.3493781656314097,2.8943362884303436,5.16347867678737,-9.18725515561789,1.706059577988417,9.005297405834467,1.187917070885458,-0.26681760411444433,2.773200648864238,-3.4819196329465174,3.0882855246922913,-9.38494712246457,-2.837928475854179,-11.622993161237883,12.555616993498454,2.7418371991000834,1.0494873349681244,0.11869863867111086,-8.091289204356833,4.708149825162455,-1.061161912985631,-7.188295554146896,4.729249238991118,-1.0471143142215533,1.455035210843203,0.48890592477903727,-4.930260283323595,-13.14470123073156,-30.350523625744575,16.281833732259933,2.2912389720950888,-2.7376709563939894,-1.8331856622672782,1.0095705154498313,-13.729613287211562,-5.121951575593576,28.920305606454665,1.2462608187844504,5.705134903270803,15.366219662246493,2.2821489155039343,0.2839734998736132,5.78478861983065,1.6826078885438855,-5.153786895594825,-0.8054819769911958,9.013402569131944,8.193666251056353,-6.368330378232989,1.139699960694851,19.2610762218004,4.868903110058276,7.589301149998895,-1.8533992421127077,13.951528930510282,-16.200839211193042,8.941389322175075,1.7931089655172538,-9.674796223588277],\"yaxis\":\"y\",\"type\":\"scatter\"}],                        {\"template\":{\"data\":{\"bar\":[{\"error_x\":{\"color\":\"#2a3f5f\"},\"error_y\":{\"color\":\"#2a3f5f\"},\"marker\":{\"line\":{\"color\":\"#E5ECF6\",\"width\":0.5},\"pattern\":{\"fillmode\":\"overlay\",\"size\":10,\"solidity\":0.2}},\"type\":\"bar\"}],\"barpolar\":[{\"marker\":{\"line\":{\"color\":\"#E5ECF6\",\"width\":0.5},\"pattern\":{\"fillmode\":\"overlay\",\"size\":10,\"solidity\":0.2}},\"type\":\"barpolar\"}],\"carpet\":[{\"aaxis\":{\"endlinecolor\":\"#2a3f5f\",\"gridcolor\":\"white\",\"linecolor\":\"white\",\"minorgridcolor\":\"white\",\"startlinecolor\":\"#2a3f5f\"},\"baxis\":{\"endlinecolor\":\"#2a3f5f\",\"gridcolor\":\"white\",\"linecolor\":\"white\",\"minorgridcolor\":\"white\",\"startlinecolor\":\"#2a3f5f\"},\"type\":\"carpet\"}],\"choropleth\":[{\"colorbar\":{\"outlinewidth\":0,\"ticks\":\"\"},\"type\":\"choropleth\"}],\"contour\":[{\"colorbar\":{\"outlinewidth\":0,\"ticks\":\"\"},\"colorscale\":[[0.0,\"#0d0887\"],[0.1111111111111111,\"#46039f\"],[0.2222222222222222,\"#7201a8\"],[0.3333333333333333,\"#9c179e\"],[0.4444444444444444,\"#bd3786\"],[0.5555555555555556,\"#d8576b\"],[0.6666666666666666,\"#ed7953\"],[0.7777777777777778,\"#fb9f3a\"],[0.8888888888888888,\"#fdca26\"],[1.0,\"#f0f921\"]],\"type\":\"contour\"}],\"contourcarpet\":[{\"colorbar\":{\"outlinewidth\":0,\"ticks\":\"\"},\"type\":\"contourcarpet\"}],\"heatmap\":[{\"colorbar\":{\"outlinewidth\":0,\"ticks\":\"\"},\"colorscale\":[[0.0,\"#0d0887\"],[0.1111111111111111,\"#46039f\"],[0.2222222222222222,\"#7201a8\"],[0.3333333333333333,\"#9c179e\"],[0.4444444444444444,\"#bd3786\"],[0.5555555555555556,\"#d8576b\"],[0.6666666666666666,\"#ed7953\"],[0.7777777777777778,\"#fb9f3a\"],[0.8888888888888888,\"#fdca26\"],[1.0,\"#f0f921\"]],\"type\":\"heatmap\"}],\"heatmapgl\":[{\"colorbar\":{\"outlinewidth\":0,\"ticks\":\"\"},\"colorscale\":[[0.0,\"#0d0887\"],[0.1111111111111111,\"#46039f\"],[0.2222222222222222,\"#7201a8\"],[0.3333333333333333,\"#9c179e\"],[0.4444444444444444,\"#bd3786\"],[0.5555555555555556,\"#d8576b\"],[0.6666666666666666,\"#ed7953\"],[0.7777777777777778,\"#fb9f3a\"],[0.8888888888888888,\"#fdca26\"],[1.0,\"#f0f921\"]],\"type\":\"heatmapgl\"}],\"histogram\":[{\"marker\":{\"pattern\":{\"fillmode\":\"overlay\",\"size\":10,\"solidity\":0.2}},\"type\":\"histogram\"}],\"histogram2d\":[{\"colorbar\":{\"outlinewidth\":0,\"ticks\":\"\"},\"colorscale\":[[0.0,\"#0d0887\"],[0.1111111111111111,\"#46039f\"],[0.2222222222222222,\"#7201a8\"],[0.3333333333333333,\"#9c179e\"],[0.4444444444444444,\"#bd3786\"],[0.5555555555555556,\"#d8576b\"],[0.6666666666666666,\"#ed7953\"],[0.7777777777777778,\"#fb9f3a\"],[0.8888888888888888,\"#fdca26\"],[1.0,\"#f0f921\"]],\"type\":\"histogram2d\"}],\"histogram2dcontour\":[{\"colorbar\":{\"outlinewidth\":0,\"ticks\":\"\"},\"colorscale\":[[0.0,\"#0d0887\"],[0.1111111111111111,\"#46039f\"],[0.2222222222222222,\"#7201a8\"],[0.3333333333333333,\"#9c179e\"],[0.4444444444444444,\"#bd3786\"],[0.5555555555555556,\"#d8576b\"],[0.6666666666666666,\"#ed7953\"],[0.7777777777777778,\"#fb9f3a\"],[0.8888888888888888,\"#fdca26\"],[1.0,\"#f0f921\"]],\"type\":\"histogram2dcontour\"}],\"mesh3d\":[{\"colorbar\":{\"outlinewidth\":0,\"ticks\":\"\"},\"type\":\"mesh3d\"}],\"parcoords\":[{\"line\":{\"colorbar\":{\"outlinewidth\":0,\"ticks\":\"\"}},\"type\":\"parcoords\"}],\"pie\":[{\"automargin\":true,\"type\":\"pie\"}],\"scatter\":[{\"marker\":{\"colorbar\":{\"outlinewidth\":0,\"ticks\":\"\"}},\"type\":\"scatter\"}],\"scatter3d\":[{\"line\":{\"colorbar\":{\"outlinewidth\":0,\"ticks\":\"\"}},\"marker\":{\"colorbar\":{\"outlinewidth\":0,\"ticks\":\"\"}},\"type\":\"scatter3d\"}],\"scattercarpet\":[{\"marker\":{\"colorbar\":{\"outlinewidth\":0,\"ticks\":\"\"}},\"type\":\"scattercarpet\"}],\"scattergeo\":[{\"marker\":{\"colorbar\":{\"outlinewidth\":0,\"ticks\":\"\"}},\"type\":\"scattergeo\"}],\"scattergl\":[{\"marker\":{\"colorbar\":{\"outlinewidth\":0,\"ticks\":\"\"}},\"type\":\"scattergl\"}],\"scattermapbox\":[{\"marker\":{\"colorbar\":{\"outlinewidth\":0,\"ticks\":\"\"}},\"type\":\"scattermapbox\"}],\"scatterpolar\":[{\"marker\":{\"colorbar\":{\"outlinewidth\":0,\"ticks\":\"\"}},\"type\":\"scatterpolar\"}],\"scatterpolargl\":[{\"marker\":{\"colorbar\":{\"outlinewidth\":0,\"ticks\":\"\"}},\"type\":\"scatterpolargl\"}],\"scatterternary\":[{\"marker\":{\"colorbar\":{\"outlinewidth\":0,\"ticks\":\"\"}},\"type\":\"scatterternary\"}],\"surface\":[{\"colorbar\":{\"outlinewidth\":0,\"ticks\":\"\"},\"colorscale\":[[0.0,\"#0d0887\"],[0.1111111111111111,\"#46039f\"],[0.2222222222222222,\"#7201a8\"],[0.3333333333333333,\"#9c179e\"],[0.4444444444444444,\"#bd3786\"],[0.5555555555555556,\"#d8576b\"],[0.6666666666666666,\"#ed7953\"],[0.7777777777777778,\"#fb9f3a\"],[0.8888888888888888,\"#fdca26\"],[1.0,\"#f0f921\"]],\"type\":\"surface\"}],\"table\":[{\"cells\":{\"fill\":{\"color\":\"#EBF0F8\"},\"line\":{\"color\":\"white\"}},\"header\":{\"fill\":{\"color\":\"#C8D4E3\"},\"line\":{\"color\":\"white\"}},\"type\":\"table\"}]},\"layout\":{\"annotationdefaults\":{\"arrowcolor\":\"#2a3f5f\",\"arrowhead\":0,\"arrowwidth\":1},\"autotypenumbers\":\"strict\",\"coloraxis\":{\"colorbar\":{\"outlinewidth\":0,\"ticks\":\"\"}},\"colorscale\":{\"diverging\":[[0,\"#8e0152\"],[0.1,\"#c51b7d\"],[0.2,\"#de77ae\"],[0.3,\"#f1b6da\"],[0.4,\"#fde0ef\"],[0.5,\"#f7f7f7\"],[0.6,\"#e6f5d0\"],[0.7,\"#b8e186\"],[0.8,\"#7fbc41\"],[0.9,\"#4d9221\"],[1,\"#276419\"]],\"sequential\":[[0.0,\"#0d0887\"],[0.1111111111111111,\"#46039f\"],[0.2222222222222222,\"#7201a8\"],[0.3333333333333333,\"#9c179e\"],[0.4444444444444444,\"#bd3786\"],[0.5555555555555556,\"#d8576b\"],[0.6666666666666666,\"#ed7953\"],[0.7777777777777778,\"#fb9f3a\"],[0.8888888888888888,\"#fdca26\"],[1.0,\"#f0f921\"]],\"sequentialminus\":[[0.0,\"#0d0887\"],[0.1111111111111111,\"#46039f\"],[0.2222222222222222,\"#7201a8\"],[0.3333333333333333,\"#9c179e\"],[0.4444444444444444,\"#bd3786\"],[0.5555555555555556,\"#d8576b\"],[0.6666666666666666,\"#ed7953\"],[0.7777777777777778,\"#fb9f3a\"],[0.8888888888888888,\"#fdca26\"],[1.0,\"#f0f921\"]]},\"colorway\":[\"#636efa\",\"#EF553B\",\"#00cc96\",\"#ab63fa\",\"#FFA15A\",\"#19d3f3\",\"#FF6692\",\"#B6E880\",\"#FF97FF\",\"#FECB52\"],\"font\":{\"color\":\"#2a3f5f\"},\"geo\":{\"bgcolor\":\"white\",\"lakecolor\":\"white\",\"landcolor\":\"#E5ECF6\",\"showlakes\":true,\"showland\":true,\"subunitcolor\":\"white\"},\"hoverlabel\":{\"align\":\"left\"},\"hovermode\":\"closest\",\"mapbox\":{\"style\":\"light\"},\"paper_bgcolor\":\"white\",\"plot_bgcolor\":\"#E5ECF6\",\"polar\":{\"angularaxis\":{\"gridcolor\":\"white\",\"linecolor\":\"white\",\"ticks\":\"\"},\"bgcolor\":\"#E5ECF6\",\"radialaxis\":{\"gridcolor\":\"white\",\"linecolor\":\"white\",\"ticks\":\"\"}},\"scene\":{\"xaxis\":{\"backgroundcolor\":\"#E5ECF6\",\"gridcolor\":\"white\",\"gridwidth\":2,\"linecolor\":\"white\",\"showbackground\":true,\"ticks\":\"\",\"zerolinecolor\":\"white\"},\"yaxis\":{\"backgroundcolor\":\"#E5ECF6\",\"gridcolor\":\"white\",\"gridwidth\":2,\"linecolor\":\"white\",\"showbackground\":true,\"ticks\":\"\",\"zerolinecolor\":\"white\"},\"zaxis\":{\"backgroundcolor\":\"#E5ECF6\",\"gridcolor\":\"white\",\"gridwidth\":2,\"linecolor\":\"white\",\"showbackground\":true,\"ticks\":\"\",\"zerolinecolor\":\"white\"}},\"shapedefaults\":{\"line\":{\"color\":\"#2a3f5f\"}},\"ternary\":{\"aaxis\":{\"gridcolor\":\"white\",\"linecolor\":\"white\",\"ticks\":\"\"},\"baxis\":{\"gridcolor\":\"white\",\"linecolor\":\"white\",\"ticks\":\"\"},\"bgcolor\":\"#E5ECF6\",\"caxis\":{\"gridcolor\":\"white\",\"linecolor\":\"white\",\"ticks\":\"\"}},\"title\":{\"x\":0.05},\"xaxis\":{\"automargin\":true,\"gridcolor\":\"white\",\"linecolor\":\"white\",\"ticks\":\"\",\"title\":{\"standoff\":15},\"zerolinecolor\":\"white\",\"zerolinewidth\":2},\"yaxis\":{\"automargin\":true,\"gridcolor\":\"white\",\"linecolor\":\"white\",\"ticks\":\"\",\"title\":{\"standoff\":15},\"zerolinecolor\":\"white\",\"zerolinewidth\":2}}},\"xaxis\":{\"anchor\":\"y\",\"domain\":[0.0,1.0],\"title\":{\"text\":\"Date\"}},\"yaxis\":{\"anchor\":\"x\",\"domain\":[0.0,1.0],\"title\":{\"text\":\"monthly returns (%)\"}},\"legend\":{\"title\":{\"text\":\"ticker\"},\"tracegroupgap\":0},\"title\":{\"text\":\"Performance - Monthly Simple Returns\"}},                        {\"responsive\": true}                    ).then(function(){\n",
       "                            \n",
       "var gd = document.getElementById('140944c2-e9c5-4390-9031-7bb968209cc2');\n",
       "var x = new MutationObserver(function (mutations, observer) {{\n",
       "        var display = window.getComputedStyle(gd).display;\n",
       "        if (!display || display === 'none') {{\n",
       "            console.log([gd, 'removed!']);\n",
       "            Plotly.purge(gd);\n",
       "            observer.disconnect();\n",
       "        }}\n",
       "}});\n",
       "\n",
       "// Listen for the removal of the full notebook cells\n",
       "var notebookContainer = gd.closest('#notebook-container');\n",
       "if (notebookContainer) {{\n",
       "    x.observe(notebookContainer, {childList: true});\n",
       "}}\n",
       "\n",
       "// Listen for the clearing of the current output cell\n",
       "var outputEl = gd.closest('.output');\n",
       "if (outputEl) {{\n",
       "    x.observe(outputEl, {childList: true});\n",
       "}}\n",
       "\n",
       "                        })                };                });            </script>        </div>"
      ]
     },
     "metadata": {},
     "output_type": "display_data"
    }
   ],
   "source": [
    "fig = px.line(df2, x='Date',\n",
    "              y='monthly_return_pct', color='ticker',\n",
    "              title='Performance - Monthly Simple Returns',\n",
    "              labels={'monthly_return_pct':'monthly returns (%)'})\n",
    "fig.show()"
   ]
  },
  {
   "cell_type": "code",
   "execution_count": 35,
   "id": "49cd851f-f756-4326-ba1d-9157d1231e8d",
   "metadata": {},
   "outputs": [
    {
     "data": {
      "text/plain": [
       "Date\n",
       "2022-09-01   -0.246536\n",
       "dtype: float64"
      ]
     },
     "execution_count": 35,
     "metadata": {},
     "output_type": "execute_result"
    }
   ],
   "source": [
    "shel_alpha_cumul = (cumul_return_entire_period['SHEL']-cumul_return_entire_period['IXC'])\n",
    "shel_alpha_cumul"
   ]
  },
  {
   "cell_type": "code",
   "execution_count": 36,
   "id": "ec1f02f6-d1f8-4ecd-be64-b5d3c7c832e8",
   "metadata": {},
   "outputs": [
    {
     "data": {
      "text/plain": [
       "Date\n",
       "2022-09-01    0.856203\n",
       "dtype: float64"
      ]
     },
     "execution_count": 36,
     "metadata": {},
     "output_type": "execute_result"
    }
   ],
   "source": [
    "cop_alpha_cumul = (cumul_return_entire_period['COP']-cumul_return_entire_period['IXC'])\n",
    "cop_alpha_cumul"
   ]
  },
  {
   "cell_type": "code",
   "execution_count": 37,
   "id": "f39c08f7-65d0-44af-bfc6-95d8451be4f2",
   "metadata": {},
   "outputs": [
    {
     "data": {
      "text/plain": [
       "Date\n",
       "2022-09-01    0.224043\n",
       "dtype: float64"
      ]
     },
     "execution_count": 37,
     "metadata": {},
     "output_type": "execute_result"
    }
   ],
   "source": [
    "cvx_alpha_cumul = (cumul_return_entire_period['CVX']-cumul_return_entire_period['IXC'])\n",
    "cvx_alpha_cumul"
   ]
  },
  {
   "cell_type": "code",
   "execution_count": 38,
   "id": "63e57322-8623-4dd5-bd81-062636ede9b4",
   "metadata": {},
   "outputs": [
    {
     "data": {
      "text/plain": [
       "Date\n",
       "2022-09-01    0.129943\n",
       "dtype: float64"
      ]
     },
     "execution_count": 38,
     "metadata": {},
     "output_type": "execute_result"
    }
   ],
   "source": [
    "xom_alpha_cumul = (cumul_return_entire_period['XOM']-cumul_return_entire_period['IXC'])\n",
    "xom_alpha_cumul"
   ]
  },
  {
   "cell_type": "code",
   "execution_count": 48,
   "id": "26e3d289-14f8-4ac0-b6bc-1886a315e906",
   "metadata": {},
   "outputs": [],
   "source": [
    "stock_alphas = (shel_alpha_cumul,cop_alpha_cumul,cvx_alpha_cumul,xom_alpha_cumul)\n",
    "alpha_df=pd.DataFrame(stock_alphas)\n"
   ]
  },
  {
   "cell_type": "code",
   "execution_count": 76,
   "id": "c79bf3b0-bbcb-483b-8fb3-5fb5fbd15362",
   "metadata": {},
   "outputs": [
    {
     "data": {
      "text/html": [
       "<div>\n",
       "<style scoped>\n",
       "    .dataframe tbody tr th:only-of-type {\n",
       "        vertical-align: middle;\n",
       "    }\n",
       "\n",
       "    .dataframe tbody tr th {\n",
       "        vertical-align: top;\n",
       "    }\n",
       "\n",
       "    .dataframe thead th {\n",
       "        text-align: right;\n",
       "    }\n",
       "</style>\n",
       "<table border=\"1\" class=\"dataframe\">\n",
       "  <thead>\n",
       "    <tr style=\"text-align: right;\">\n",
       "      <th></th>\n",
       "      <th>Alpha</th>\n",
       "    </tr>\n",
       "  </thead>\n",
       "  <tbody>\n",
       "    <tr>\n",
       "      <th>SHEL</th>\n",
       "      <td>-0.246536</td>\n",
       "    </tr>\n",
       "    <tr>\n",
       "      <th>COP</th>\n",
       "      <td>0.856203</td>\n",
       "    </tr>\n",
       "    <tr>\n",
       "      <th>CVX</th>\n",
       "      <td>0.224043</td>\n",
       "    </tr>\n",
       "    <tr>\n",
       "      <th>XOM</th>\n",
       "      <td>0.129943</td>\n",
       "    </tr>\n",
       "  </tbody>\n",
       "</table>\n",
       "</div>"
      ],
      "text/plain": [
       "         Alpha\n",
       "SHEL -0.246536\n",
       "COP   0.856203\n",
       "CVX   0.224043\n",
       "XOM   0.129943"
      ]
     },
     "execution_count": 76,
     "metadata": {},
     "output_type": "execute_result"
    }
   ],
   "source": [
    "#still have to rename index and column\n",
    "\n",
    "alpha_df.columns = ['Alpha']\n",
    "alpha_df.index=[ \"SHEL\", \"COP\",\"CVX\",\"XOM\"]\n",
    "alpha_df\n"
   ]
  },
  {
   "cell_type": "code",
   "execution_count": 52,
   "id": "302d27fb-2b43-40b0-94b5-4ca4ef3ac662",
   "metadata": {},
   "outputs": [],
   "source": [
    "shel_stocks_alpha_df = df_cumul_monthly_returns['SHEL']-df_cumul_monthly_returns['IXC']"
   ]
  },
  {
   "cell_type": "code",
   "execution_count": 53,
   "id": "9d5a4a13-57b4-4a16-9b0e-8b49042e1b50",
   "metadata": {},
   "outputs": [],
   "source": [
    "cop_stocks_alpha_df = df_cumul_monthly_returns['COP']-df_cumul_monthly_returns['IXC']"
   ]
  },
  {
   "cell_type": "code",
   "execution_count": 54,
   "id": "40d4cb65-544b-45f3-9af6-066ef6939c4c",
   "metadata": {},
   "outputs": [],
   "source": [
    "cvx_stocks_alpha_df = df_cumul_monthly_returns['CVX']-df_cumul_monthly_returns['IXC']"
   ]
  },
  {
   "cell_type": "code",
   "execution_count": 55,
   "id": "6c66d08c-4fae-4707-a33a-dec0b0fd0cb6",
   "metadata": {},
   "outputs": [],
   "source": [
    "xom_stocks_alpha_df = df_cumul_monthly_returns['XOM']-df_cumul_monthly_returns['IXC']"
   ]
  },
  {
   "cell_type": "code",
   "execution_count": 78,
   "id": "361b2d0c-38b1-419e-95fe-c756af31b86c",
   "metadata": {},
   "outputs": [],
   "source": [
    "all_stocks_alpha=(shel_stocks_alpha_df,cop_stocks_alpha_df,cvx_stocks_alpha_df,xom_stocks_alpha_df)\n",
    "all_stocks_alpha_df = pd.DataFrame(all_stocks_alpha)\n",
    "all_stocks_alpha_df=all_stocks_alpha_df.transpose()\n",
    "all_stocks_alpha_df.columns=['SHEL','COP','CVX','XOM']\n"
   ]
  },
  {
   "cell_type": "code",
   "execution_count": 79,
   "id": "d4372085-aea5-48ef-9066-96c10f5dbf86",
   "metadata": {},
   "outputs": [
    {
     "data": {
      "text/plain": [
       "<AxesSubplot:title={'center':'cumulative alphas'}>"
      ]
     },
     "execution_count": 79,
     "metadata": {},
     "output_type": "execute_result"
    },
    {
     "data": {
      "image/png": "[encoded data removed]",
      "text/plain": [
       "<Figure size 432x288 with 1 Axes>"
      ]
     },
     "metadata": {
      "needs_background": "light"
     },
     "output_type": "display_data"
    }
   ],
   "source": [
    "all_stocks_alpha_df.plot.line(title='cumulative alphas')"
   ]
  },
  {
   "cell_type": "code",
   "execution_count": null,
   "id": "eaa773aa-1ecb-42ed-9043-937faeb7d7a8",
   "metadata": {},
   "outputs": [],
   "source": []
  }
 ],
 "metadata": {
  "kernelspec": {
   "display_name": "Python 3 (ipykernel)",
   "language": "python",
   "name": "python3"
  },
  "language_info": {
   "codemirror_mode": {
    "name": "ipython",
    "version": 3
   },
   "file_extension": ".py",
   "mimetype": "text/x-python",
   "name": "python",
   "nbconvert_exporter": "python",
   "pygments_lexer": "ipython3",
   "version": "3.7.13"
  }
 },
 "nbformat": 4,
 "nbformat_minor": 5
}
