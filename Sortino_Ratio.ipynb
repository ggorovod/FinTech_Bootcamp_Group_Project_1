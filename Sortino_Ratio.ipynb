{
 "cells": [
  {
   "cell_type": "code",
   "execution_count": 1,
   "id": "efc593b5-7ee7-4f1e-af2a-15b27142e966",
   "metadata": {},
   "outputs": [],
   "source": [
    "# Understanding the Sortino Ratio:\n",
    "# What is the Sortino Ratio?\n",
    "\n",
    "# The Sortino ratio is a risk-adjustment metric used to determine the additional return for each unit of downside risk. It is computed by first finding the difference between an investment’s average return rate and the risk-free rate. The result is then divided by the standard deviation of negative returns. Ideally, a high Sortino ratio is preferred, \n",
    "# as it indicates that an investor will earn a higher return for each unit of a downside risk."
   ]
  },
  {
   "cell_type": "code",
   "execution_count": 2,
   "id": "bed7b0ce-5d0d-4a78-b8f4-c6e70de3ed4f",
   "metadata": {},
   "outputs": [],
   "source": [
    "# The Sortino ratio is an improvement of the Sharpe ratio, another metric that helps individuals gauge the performance of an investment when it has been adjusted for risk. \n",
    "# What sets the Sortino ratio apart is that it acknowledges the difference between upside and downward risks. More specifically, it provides an accurate rate of return, given the likelihood of downside risk, while the Sharpe ratio treats both upside and downside risks equally.\n",
    "\n",
    "# How to Calculate the Sortino Ratio\n",
    "\n",
    "# The formula for calculating the Sortino ratio is:\n",
    "\n",
    "# Sortino Ratio = (Average Realized Return – Expected Rate of Return) / Downside Risk Deviation"
   ]
  },
  {
   "cell_type": "code",
   "execution_count": null,
   "id": "f3fea2d8-fca7-4dd9-a4e8-748ef0ac83df",
   "metadata": {},
   "outputs": [],
   "source": [
    "import pandas as pd\n",
    "import numpy as np\n",
    "from pathlib import Path\n",
    "%matplotlib inline"
   ]
  },
  {
   "cell_type": "code",
   "execution_count": null,
   "id": "b161f7ae-159b-4d7f-93f6-6735205ecaf4",
   "metadata": {},
   "outputs": [],
   "source": []
  },
  {
   "cell_type": "code",
   "execution_count": null,
   "id": "5f177ab6-c9c8-44cc-b510-9c715cf2e90d",
   "metadata": {},
   "outputs": [],
   "source": [
    "# Import all cvs files (4 stocks, ETF, and 10yr T-Bill)"
   ]
  },
  {
   "cell_type": "code",
   "execution_count": null,
   "id": "5de9eda4-eaaa-44de-a746-45275a5a3831",
   "metadata": {},
   "outputs": [],
   "source": [
    "shel_df = pd.read_csv(Path('data/SHEL_5yr_time_series.csv'), \n",
    "                index_col = 'Date',\n",
    "                parse_dates = True,\n",
    "                infer_datetime_format = True,                      \n",
    "                     )\n",
    "shel_df = shel_df[\"Adj Close\"]"
   ]
  },
  {
   "cell_type": "code",
   "execution_count": null,
   "id": "3624a688-0dbd-4483-a007-6911d4b484cd",
   "metadata": {},
   "outputs": [],
   "source": [
    "xom_df = pd.read_csv(Path('data/XOM_5yr_time_series.csv'),\n",
    "                index_col = 'Date',\n",
    "                    parse_dates = True,\n",
    "                      infer_datetime_format = True,\n",
    "                      \n",
    "                     )\n",
    "xom_df = xom_df[\"Adj Close\"]"
   ]
  },
  {
   "cell_type": "code",
   "execution_count": null,
   "id": "ae2e9bd5-d51f-4797-91c7-370cf0d33193",
   "metadata": {},
   "outputs": [],
   "source": [
    "cvx_df = pd.read_csv(Path('data/CVX_5yr_time_series.csv'),\n",
    "                index_col = 'Date',\n",
    "                    parse_dates = True,\n",
    "                      infer_datetime_format = True,\n",
    "                      \n",
    "                     )\n",
    "cvx_df = cvx_df[\"Adj Close\"]"
   ]
  },
  {
   "cell_type": "code",
   "execution_count": null,
   "id": "b1b42fb3-1cd9-4404-bdae-597e892b1957",
   "metadata": {},
   "outputs": [],
   "source": [
    "cop_df = pd.read_csv(Path('data/COP_5yr_time_series.csv'),\n",
    "                index_col = 'Date',\n",
    "                    parse_dates = True,\n",
    "                      infer_datetime_format = True,\n",
    "                      \n",
    "                     )\n",
    "cop_df = cop_df[\"Adj Close\"]"
   ]
  },
  {
   "cell_type": "code",
   "execution_count": null,
   "id": "b6c4f0ec-f328-4816-85d5-5af83bdf2945",
   "metadata": {},
   "outputs": [],
   "source": [
    "ixc_df = pd.read_csv(Path('data/IXC_5yr_time_series.csv'),\n",
    "                index_col = 'Date',\n",
    "                    parse_dates = True,\n",
    "                      infer_datetime_format = True,\n",
    "                      \n",
    "                     )\n",
    "ixc_df = ixc_df[\"Adj Close\"]"
   ]
  },
  {
   "cell_type": "code",
   "execution_count": null,
   "id": "d12e07be-262a-4aaa-895c-24b8ac025dc5",
   "metadata": {},
   "outputs": [],
   "source": [
    "\n",
    "treasury_df = pd.read_csv(Path('data/10_yr_treasury_5yr_time_series.csv'),\n",
    "                index_col = 'Date',\n",
    "                    parse_dates = True,\n",
    "                      infer_datetime_format = True,\n",
    "                      \n",
    "                     )\n",
    "treasury_df = treasury_df[\"Adj Close\"]"
   ]
  },
  {
   "cell_type": "code",
   "execution_count": null,
   "id": "5b9f73ce-4c4b-44ba-b8a7-6cdbf72eac76",
   "metadata": {},
   "outputs": [],
   "source": [
    "energy_stocks_df = pd.concat([shel_df, cop_df,cvx_df,xom_df,ixc_df],\n",
    "                            axis=1)\n",
    "energy_stocks_df=energy_stocks_df.set_axis(['SHEL', 'COP', 'CVX','XOM', 'IXC'], axis=1)"
   ]
  },
  {
   "cell_type": "code",
   "execution_count": null,
   "id": "cee4b7fc-8540-471b-af92-edd3659e3ef9",
   "metadata": {},
   "outputs": [
    {
     "data": {
      "text/html": [
       "<div>\n",
       "<style scoped>\n",
       "    .dataframe tbody tr th:only-of-type {\n",
       "        vertical-align: middle;\n",
       "    }\n",
       "\n",
       "    .dataframe tbody tr th {\n",
       "        vertical-align: top;\n",
       "    }\n",
       "\n",
       "    .dataframe thead th {\n",
       "        text-align: right;\n",
       "    }\n",
       "</style>\n",
       "<table border=\"1\" class=\"dataframe\">\n",
       "  <thead>\n",
       "    <tr style=\"text-align: right;\">\n",
       "      <th></th>\n",
       "      <th>SHEL</th>\n",
       "      <th>COP</th>\n",
       "      <th>CVX</th>\n",
       "      <th>XOM</th>\n",
       "      <th>IXC</th>\n",
       "    </tr>\n",
       "    <tr>\n",
       "      <th>Date</th>\n",
       "      <th></th>\n",
       "      <th></th>\n",
       "      <th></th>\n",
       "      <th></th>\n",
       "      <th></th>\n",
       "    </tr>\n",
       "  </thead>\n",
       "  <tbody>\n",
       "    <tr>\n",
       "      <th>2017-10-01</th>\n",
       "      <td>49.569248</td>\n",
       "      <td>43.725098</td>\n",
       "      <td>92.921890</td>\n",
       "      <td>64.010841</td>\n",
       "      <td>27.338148</td>\n",
       "    </tr>\n",
       "    <tr>\n",
       "      <th>2017-11-01</th>\n",
       "      <td>50.426472</td>\n",
       "      <td>43.726921</td>\n",
       "      <td>95.407494</td>\n",
       "      <td>63.964775</td>\n",
       "      <td>27.707043</td>\n",
       "    </tr>\n",
       "    <tr>\n",
       "      <th>2017-12-01</th>\n",
       "      <td>53.255947</td>\n",
       "      <td>47.173164</td>\n",
       "      <td>101.318382</td>\n",
       "      <td>64.828041</td>\n",
       "      <td>28.508978</td>\n",
       "    </tr>\n",
       "    <tr>\n",
       "      <th>2018-01-01</th>\n",
       "      <td>56.074009</td>\n",
       "      <td>50.542061</td>\n",
       "      <td>101.447868</td>\n",
       "      <td>67.664841</td>\n",
       "      <td>29.981033</td>\n",
       "    </tr>\n",
       "    <tr>\n",
       "      <th>2018-02-01</th>\n",
       "      <td>50.509724</td>\n",
       "      <td>46.674702</td>\n",
       "      <td>90.578758</td>\n",
       "      <td>58.704857</td>\n",
       "      <td>27.226599</td>\n",
       "    </tr>\n",
       "  </tbody>\n",
       "</table>\n",
       "</div>"
      ],
      "text/plain": [
       "                 SHEL        COP         CVX        XOM        IXC\n",
       "Date                                                              \n",
       "2017-10-01  49.569248  43.725098   92.921890  64.010841  27.338148\n",
       "2017-11-01  50.426472  43.726921   95.407494  63.964775  27.707043\n",
       "2017-12-01  53.255947  47.173164  101.318382  64.828041  28.508978\n",
       "2018-01-01  56.074009  50.542061  101.447868  67.664841  29.981033\n",
       "2018-02-01  50.509724  46.674702   90.578758  58.704857  27.226599"
      ]
     },
     "metadata": {},
     "output_type": "display_data"
    },
    {
     "data": {
      "text/html": [
       "<div>\n",
       "<style scoped>\n",
       "    .dataframe tbody tr th:only-of-type {\n",
       "        vertical-align: middle;\n",
       "    }\n",
       "\n",
       "    .dataframe tbody tr th {\n",
       "        vertical-align: top;\n",
       "    }\n",
       "\n",
       "    .dataframe thead th {\n",
       "        text-align: right;\n",
       "    }\n",
       "</style>\n",
       "<table border=\"1\" class=\"dataframe\">\n",
       "  <thead>\n",
       "    <tr style=\"text-align: right;\">\n",
       "      <th></th>\n",
       "      <th>SHEL</th>\n",
       "      <th>COP</th>\n",
       "      <th>CVX</th>\n",
       "      <th>XOM</th>\n",
       "      <th>IXC</th>\n",
       "    </tr>\n",
       "    <tr>\n",
       "      <th>Date</th>\n",
       "      <th></th>\n",
       "      <th></th>\n",
       "      <th></th>\n",
       "      <th></th>\n",
       "      <th></th>\n",
       "    </tr>\n",
       "  </thead>\n",
       "  <tbody>\n",
       "    <tr>\n",
       "      <th>2022-05-01</th>\n",
       "      <td>58.160614</td>\n",
       "      <td>108.933136</td>\n",
       "      <td>171.674988</td>\n",
       "      <td>94.112198</td>\n",
       "      <td>39.707764</td>\n",
       "    </tr>\n",
       "    <tr>\n",
       "      <th>2022-06-01</th>\n",
       "      <td>51.797909</td>\n",
       "      <td>87.461830</td>\n",
       "      <td>143.476334</td>\n",
       "      <td>84.815910</td>\n",
       "      <td>33.274773</td>\n",
       "    </tr>\n",
       "    <tr>\n",
       "      <th>2022-07-01</th>\n",
       "      <td>52.877651</td>\n",
       "      <td>95.618851</td>\n",
       "      <td>162.305252</td>\n",
       "      <td>95.997269</td>\n",
       "      <td>36.250000</td>\n",
       "    </tr>\n",
       "    <tr>\n",
       "      <th>2022-08-01</th>\n",
       "      <td>52.481411</td>\n",
       "      <td>107.415405</td>\n",
       "      <td>156.636765</td>\n",
       "      <td>94.670158</td>\n",
       "      <td>36.900002</td>\n",
       "    </tr>\n",
       "    <tr>\n",
       "      <th>2022-09-01</th>\n",
       "      <td>49.759998</td>\n",
       "      <td>100.889244</td>\n",
       "      <td>143.669998</td>\n",
       "      <td>87.309998</td>\n",
       "      <td>33.330002</td>\n",
       "    </tr>\n",
       "  </tbody>\n",
       "</table>\n",
       "</div>"
      ],
      "text/plain": [
       "                 SHEL         COP         CVX        XOM        IXC\n",
       "Date                                                               \n",
       "2022-05-01  58.160614  108.933136  171.674988  94.112198  39.707764\n",
       "2022-06-01  51.797909   87.461830  143.476334  84.815910  33.274773\n",
       "2022-07-01  52.877651   95.618851  162.305252  95.997269  36.250000\n",
       "2022-08-01  52.481411  107.415405  156.636765  94.670158  36.900002\n",
       "2022-09-01  49.759998  100.889244  143.669998  87.309998  33.330002"
      ]
     },
     "metadata": {},
     "output_type": "display_data"
    }
   ],
   "source": [
    "display(energy_stocks_df.head())\n",
    "display(energy_stocks_df.tail())\n"
   ]
  },
  {
   "cell_type": "code",
   "execution_count": null,
   "id": "634bb4ff-ad90-4f2b-b499-dffc8fa8e637",
   "metadata": {},
   "outputs": [
    {
     "data": {
      "text/html": [
       "<div>\n",
       "<style scoped>\n",
       "    .dataframe tbody tr th:only-of-type {\n",
       "        vertical-align: middle;\n",
       "    }\n",
       "\n",
       "    .dataframe tbody tr th {\n",
       "        vertical-align: top;\n",
       "    }\n",
       "\n",
       "    .dataframe thead th {\n",
       "        text-align: right;\n",
       "    }\n",
       "</style>\n",
       "<table border=\"1\" class=\"dataframe\">\n",
       "  <thead>\n",
       "    <tr style=\"text-align: right;\">\n",
       "      <th></th>\n",
       "      <th>SHEL</th>\n",
       "      <th>COP</th>\n",
       "      <th>CVX</th>\n",
       "      <th>XOM</th>\n",
       "      <th>IXC</th>\n",
       "    </tr>\n",
       "    <tr>\n",
       "      <th>Date</th>\n",
       "      <th></th>\n",
       "      <th></th>\n",
       "      <th></th>\n",
       "      <th></th>\n",
       "      <th></th>\n",
       "    </tr>\n",
       "  </thead>\n",
       "  <tbody>\n",
       "    <tr>\n",
       "      <th>2017-11-01</th>\n",
       "      <td>0.017293</td>\n",
       "      <td>0.000042</td>\n",
       "      <td>0.026749</td>\n",
       "      <td>-0.000720</td>\n",
       "      <td>0.013494</td>\n",
       "    </tr>\n",
       "    <tr>\n",
       "      <th>2017-12-01</th>\n",
       "      <td>0.056111</td>\n",
       "      <td>0.078813</td>\n",
       "      <td>0.061954</td>\n",
       "      <td>0.013496</td>\n",
       "      <td>0.028943</td>\n",
       "    </tr>\n",
       "    <tr>\n",
       "      <th>2018-01-01</th>\n",
       "      <td>0.052915</td>\n",
       "      <td>0.071416</td>\n",
       "      <td>0.001278</td>\n",
       "      <td>0.043759</td>\n",
       "      <td>0.051635</td>\n",
       "    </tr>\n",
       "    <tr>\n",
       "      <th>2018-02-01</th>\n",
       "      <td>-0.099231</td>\n",
       "      <td>-0.076518</td>\n",
       "      <td>-0.107140</td>\n",
       "      <td>-0.132417</td>\n",
       "      <td>-0.091873</td>\n",
       "    </tr>\n",
       "    <tr>\n",
       "      <th>2018-03-01</th>\n",
       "      <td>0.023208</td>\n",
       "      <td>0.097571</td>\n",
       "      <td>0.029085</td>\n",
       "      <td>-0.004846</td>\n",
       "      <td>0.017061</td>\n",
       "    </tr>\n",
       "  </tbody>\n",
       "</table>\n",
       "</div>"
      ],
      "text/plain": [
       "                SHEL       COP       CVX       XOM       IXC\n",
       "Date                                                        \n",
       "2017-11-01  0.017293  0.000042  0.026749 -0.000720  0.013494\n",
       "2017-12-01  0.056111  0.078813  0.061954  0.013496  0.028943\n",
       "2018-01-01  0.052915  0.071416  0.001278  0.043759  0.051635\n",
       "2018-02-01 -0.099231 -0.076518 -0.107140 -0.132417 -0.091873\n",
       "2018-03-01  0.023208  0.097571  0.029085 -0.004846  0.017061"
      ]
     },
     "execution_count": 13,
     "metadata": {},
     "output_type": "execute_result"
    }
   ],
   "source": [
    "# Calculating Pct Change for each stock and ETF\n",
    "\n",
    "energy_stocks_returns = energy_stocks_df.pct_change().dropna()\n",
    "energy_stocks_returns.head()"
   ]
  },
  {
   "cell_type": "code",
   "execution_count": null,
   "id": "a01f3449-e632-42ff-bbf0-acdedbbe5039",
   "metadata": {},
   "outputs": [
    {
     "data": {
      "text/plain": [
       "<AxesSubplot:title={'center':'Box Plot of Returns'}>"
      ]
     },
     "execution_count": 14,
     "metadata": {},
     "output_type": "execute_result"
    },
    {
     "data": {
      "image/png": "[encoded data removed]",
      "text/plain": [
       "<Figure size 1080x720 with 1 Axes>"
      ]
     },
     "metadata": {
      "needs_background": "light"
     },
     "output_type": "display_data"
    }
   ],
   "source": [
    "energy_stocks_returns.plot.box(figsize=(15,10), title=\"Box Plot of Returns\")"
   ]
  },
  {
   "cell_type": "code",
   "execution_count": null,
   "id": "767465f9-d712-4209-b5a2-e38a9d734b3c",
   "metadata": {},
   "outputs": [
    {
     "data": {
      "text/plain": [
       "0.019737833333333326"
      ]
     },
     "execution_count": 15,
     "metadata": {},
     "output_type": "execute_result"
    }
   ],
   "source": [
    "#Get the Risk Free Rate from treasury_df\n",
    "risk_free_rate = treasury_df.mean() / 100\n",
    "\n",
    "risk_free_rate"
   ]
  },
  {
   "cell_type": "code",
   "execution_count": 19,
   "id": "ea5e86d2-36db-441c-8d17-db612aad7177",
   "metadata": {},
   "outputs": [
    {
     "data": {
      "text/plain": [
       "Date\n",
       "2018-02-01   -0.099231\n",
       "2018-05-01   -0.004578\n",
       "2018-07-01   -0.012422\n",
       "2018-08-01   -0.045926\n",
       "2018-10-01   -0.072645\n",
       "Name: Adj Close, dtype: float64"
      ]
     },
     "execution_count": 19,
     "metadata": {},
     "output_type": "execute_result"
    }
   ],
   "source": [
    "# Sortino ratio for shell\n",
    "\n",
    "# Step 1: Calculating the excess returns \n",
    "\n",
    "shell_returns = shel_df.pct_change().dropna()\n",
    "\n",
    "# Step 2: Calulcating negative excess returns\n",
    "\n",
    "boolean_filter = shell_returns < 0\n",
    "Negative_excess_shell_returns = shell_returns.loc[boolean_filter]\n",
    "Negative_excess_shell_returns.head()"
   ]
  },
  {
   "cell_type": "code",
   "execution_count": 20,
   "id": "6b935edd-1a2a-4939-a684-102324ce12de",
   "metadata": {},
   "outputs": [
    {
     "data": {
      "text/plain": [
       "-0.07138219885374748"
      ]
     },
     "execution_count": 20,
     "metadata": {},
     "output_type": "execute_result"
    }
   ],
   "source": [
    "# Step 3: Calculate and Annualizing downside Standard Deviation\n",
    "\n",
    "annualized_shell_SD_downside_returns = Negative_excess_shell_returns.std() * np.sqrt(12)\n",
    "\n",
    "# Step 4: Calculating the annualized stock avg return\n",
    "annualized_shell_stock_avg_returns= shell_returns.mean() * 12\n",
    "\n",
    "# Step 5: Calculating the Sortino ratio\n",
    "\n",
    "Sortino_ratio_shell= annualized_shell_stock_avg_returns - risk_free_rate /annualized_shell_SD_downside_returns\n",
    "Sortino_ratio_shell\n",
    "\n"
   ]
  },
  {
   "cell_type": "code",
   "execution_count": null,
   "id": "e6cb63fd-8c04-41ff-a0ef-5d801740a4ae",
   "metadata": {},
   "outputs": [],
   "source": []
  },
  {
   "cell_type": "code",
   "execution_count": 21,
   "id": "9ba54515-adec-4c4d-acf5-18935b46f9f1",
   "metadata": {},
   "outputs": [
    {
     "data": {
      "text/plain": [
       "Date\n",
       "2018-02-01   -0.107140\n",
       "2018-05-01   -0.006474\n",
       "2018-07-01   -0.001266\n",
       "2018-08-01   -0.061852\n",
       "2018-10-01   -0.086932\n",
       "Name: Adj Close, dtype: float64"
      ]
     },
     "execution_count": 21,
     "metadata": {},
     "output_type": "execute_result"
    }
   ],
   "source": [
    "#Sortino ratio for Chevron\n",
    "\n",
    "# Step 1: Calculating the excess returns \n",
    "\n",
    "chev_returns = cvx_df.pct_change().dropna()\n",
    "\n",
    "# Step 2: Calulcating negative excess returns\n",
    "\n",
    "boolean_filter = chev_returns < 0\n",
    "Negative_excess_chev_returns = chev_returns.loc[boolean_filter]\n",
    "Negative_excess_chev_returns.head()\n"
   ]
  },
  {
   "cell_type": "code",
   "execution_count": 22,
   "id": "df4558cf-1fde-4848-96fa-042f54b354a3",
   "metadata": {},
   "outputs": [
    {
     "data": {
      "text/plain": [
       "0.024328791931439817"
      ]
     },
     "execution_count": 22,
     "metadata": {},
     "output_type": "execute_result"
    }
   ],
   "source": [
    "# Step 3: Calculate and Annualizing downside Standard Deviation\n",
    "\n",
    "annualized_chev_SD_downside_returns = Negative_excess_shell_returns.std() * np.sqrt(12)\n",
    "\n",
    "# Step 4: Calculating average excess returns and annualizing\n",
    "\n",
    "annualized_chev_stock_avg_returns= chev_returns.mean() * 12\n",
    "\n",
    "\n",
    "# Step 5: Calculating the Sortino ratio\n",
    "\n",
    "Sortino_ratio_chev= annualized_chev_stock_avg_returns - risk_free_rate/annualized_chev_SD_downside_returns\n",
    "Sortino_ratio_chev"
   ]
  },
  {
   "cell_type": "code",
   "execution_count": 23,
   "id": "ce0b7a0d-7acc-4650-bbd0-ee9bc06c818c",
   "metadata": {},
   "outputs": [
    {
     "data": {
      "text/plain": [
       "Date\n",
       "2017-11-01   -0.000720\n",
       "2018-02-01   -0.132417\n",
       "2018-03-01   -0.004846\n",
       "2018-07-01   -0.014746\n",
       "2018-08-01   -0.016440\n",
       "Name: Adj Close, dtype: float64"
      ]
     },
     "execution_count": 23,
     "metadata": {},
     "output_type": "execute_result"
    }
   ],
   "source": [
    "# Sortino ratio for Exxon\n",
    "\n",
    "# Step 1: Calculating the excess returns \n",
    "\n",
    "Exxon_returns = xom_df.pct_change().dropna()\n",
    "\n",
    "# Step 2: Calulcating negative excess returns\n",
    "\n",
    "boolean_filter = Exxon_returns < 0\n",
    "Negative_excess_Exxon_returns = Exxon_returns.loc[boolean_filter]\n",
    "Negative_excess_Exxon_returns.head()\n",
    "\n"
   ]
  },
  {
   "cell_type": "code",
   "execution_count": 24,
   "id": "19f1fbd2-9a09-4167-88ff-6039a18dd055",
   "metadata": {},
   "outputs": [
    {
     "data": {
      "text/plain": [
       "0.0212169084278159"
      ]
     },
     "execution_count": 24,
     "metadata": {},
     "output_type": "execute_result"
    }
   ],
   "source": [
    "# Step 3: Calculate and Annualizing downside Standard Deviation\n",
    "\n",
    "annualized_exxon_SD_downside_returns = Negative_excess_Exxon_returns.std() * np.sqrt(12)\n",
    "\n",
    "# Step 4: Calculating average excess returns and annualizing\n",
    "\n",
    "annualized_exxon_stock_avg_returns = Exxon_returns.mean() * 12\n",
    "\n",
    "# Step 5: Calculating the Sortino ratio\n",
    "\n",
    "Sortino_ratio_Exxon= annualized_exxon_stock_avg_returns - risk_free_rate/annualized_exxon_SD_downside_returns \n",
    "\n",
    "Sortino_ratio_Exxon"
   ]
  },
  {
   "cell_type": "code",
   "execution_count": null,
   "id": "83723a21-0ac1-4f8b-b455-41739f530f09",
   "metadata": {},
   "outputs": [],
   "source": []
  },
  {
   "cell_type": "code",
   "execution_count": 25,
   "id": "a40b8929-3286-4c00-907a-1732df9963e3",
   "metadata": {},
   "outputs": [
    {
     "data": {
      "text/plain": [
       "Date\n",
       "2018-02-01   -0.076518\n",
       "2018-10-01   -0.096899\n",
       "2018-11-01   -0.049235\n",
       "2018-12-01   -0.057872\n",
       "2019-03-01   -0.011893\n",
       "Name: Adj Close, dtype: float64"
      ]
     },
     "execution_count": 25,
     "metadata": {},
     "output_type": "execute_result"
    }
   ],
   "source": [
    "#Sortino ratio for Connoco\n",
    "\n",
    "# Step 1: Calculating the excess returns \n",
    "\n",
    "conno_returns = cop_df.pct_change().dropna()\n",
    "\n",
    "\n",
    "# Step 2: Calulcating negative excess returns\n",
    "\n",
    "boolean_filter = conno_returns < 0\n",
    "Negative_excess_conno_returns = conno_returns.loc[boolean_filter]\n",
    "Negative_excess_conno_returns.head()\n",
    "\n"
   ]
  },
  {
   "cell_type": "code",
   "execution_count": 26,
   "id": "4a586c7b-f4d4-4c0d-976e-6145c214922e",
   "metadata": {},
   "outputs": [
    {
     "data": {
      "text/plain": [
       "0.19080790400680964"
      ]
     },
     "execution_count": 26,
     "metadata": {},
     "output_type": "execute_result"
    }
   ],
   "source": [
    "# Step 3: Calculate and Annualizing downside Standard Deviation\n",
    "\n",
    "annualized_conno_SD_downside_returns = Negative_excess_conno_returns.std() * np.sqrt(12)\n",
    "\n",
    "# Step 4: Calculating average excess returns and annualizing\n",
    "\n",
    "annualized_conno_stock_avg_returns = conno_returns.mean() * 12\n",
    "\n",
    "# Step 5: Calculating the Sortino ratio\n",
    "\n",
    "Sortino_ratio_conno= annualized_conno_stock_avg_returns - risk_free_rate/annualized_conno_SD_downside_returns\n",
    "Sortino_ratio_conno\n"
   ]
  },
  {
   "cell_type": "code",
   "execution_count": 27,
   "id": "e52f459d-fe3b-42d2-ae10-98d4b81121ce",
   "metadata": {},
   "outputs": [
    {
     "data": {
      "text/plain": [
       "Date\n",
       "2018-02-01   -0.091873\n",
       "2018-06-01   -0.002668\n",
       "2018-08-01   -0.034819\n",
       "2018-10-01   -0.093849\n",
       "2018-11-01   -0.028379\n",
       "Name: Adj Close, dtype: float64"
      ]
     },
     "execution_count": 27,
     "metadata": {},
     "output_type": "execute_result"
    }
   ],
   "source": [
    "# Sortino ratio for ICX\n",
    "\n",
    "# Step 1: Calculating the excess returns \n",
    "\n",
    "ETF_returns = ixc_df.pct_change().dropna()\n",
    "\n",
    "# Step 2: Calulcating negative excess returns\n",
    "\n",
    "boolean_filter = ETF_returns < 0\n",
    "Negative_excess_ETF_returns = ETF_returns.loc[boolean_filter]\n",
    "Negative_excess_ETF_returns.head()\n",
    "\n"
   ]
  },
  {
   "cell_type": "code",
   "execution_count": 28,
   "id": "f98c0bb4-b5ec-4cea-a5d9-8c53fdd42cde",
   "metadata": {},
   "outputs": [
    {
     "data": {
      "text/plain": [
       "0.006888580605775713"
      ]
     },
     "execution_count": 28,
     "metadata": {},
     "output_type": "execute_result"
    }
   ],
   "source": [
    "# Step 3: Calculate and Annualizing downside Standard Deviation\n",
    "\n",
    "annualized_ETF_SD_downside_returns = Negative_excess_ETF_returns.std() * np.sqrt(12)\n",
    "\n",
    "# Step 4: Calculating average excess returns and annualizing\n",
    "\n",
    "annualized_ETF_stock_avg_returns = ETF_returns.mean() * 12\n",
    "\n",
    "# Step 5: Calculating the Sortino ratio\n",
    "\n",
    "Sortino_ratio_ETF= annualized_ETF_stock_avg_returns - risk_free_rate/annualized_ETF_SD_downside_returns\n",
    "\n",
    "Sortino_ratio_ETF\n"
   ]
  },
  {
   "cell_type": "code",
   "execution_count": 29,
   "id": "9166518b-7ebb-4dbb-b305-9b9e06e9d64b",
   "metadata": {},
   "outputs": [
    {
     "name": "stdout",
     "output_type": "stream",
     "text": [
      "Stored 'sortino_ratios' (DataFrame)\n",
      "  Company  Sortino Ratio\n",
      "0   Shell      -0.071382\n",
      "1     COP       0.190808\n",
      "2     CVX       0.024329\n",
      "3     XOM       0.021217\n",
      "4     IXC       0.006889\n"
     ]
    }
   ],
   "source": [
    "data = {'Company': ['Shell','COP','CVX','XOM', 'IXC'], \n",
    "        'Sortino Ratio': [Sortino_ratio_shell, Sortino_ratio_conno , Sortino_ratio_chev, Sortino_ratio_Exxon , Sortino_ratio_ETF]}\n",
    "\n",
    "sortino_ratios = pd.DataFrame(data, columns= ['Company','Sortino Ratio'])\n",
    "\n",
    "%store sortino_ratios\n",
    "print (sortino_ratios)\n",
    "\n",
    "\n"
   ]
  },
  {
   "cell_type": "code",
   "execution_count": 30,
   "id": "193d2631-c7d4-46ed-865a-b3263736dc87",
   "metadata": {},
   "outputs": [
    {
     "data": {
      "text/html": [
       "<div>\n",
       "<style scoped>\n",
       "    .dataframe tbody tr th:only-of-type {\n",
       "        vertical-align: middle;\n",
       "    }\n",
       "\n",
       "    .dataframe tbody tr th {\n",
       "        vertical-align: top;\n",
       "    }\n",
       "\n",
       "    .dataframe thead th {\n",
       "        text-align: right;\n",
       "    }\n",
       "</style>\n",
       "<table border=\"1\" class=\"dataframe\">\n",
       "  <thead>\n",
       "    <tr style=\"text-align: right;\">\n",
       "      <th></th>\n",
       "      <th>Company</th>\n",
       "      <th>Sortino Ratio</th>\n",
       "    </tr>\n",
       "  </thead>\n",
       "  <tbody>\n",
       "    <tr>\n",
       "      <th>0</th>\n",
       "      <td>Shell</td>\n",
       "      <td>-0.071382</td>\n",
       "    </tr>\n",
       "    <tr>\n",
       "      <th>4</th>\n",
       "      <td>IXC</td>\n",
       "      <td>0.006889</td>\n",
       "    </tr>\n",
       "    <tr>\n",
       "      <th>3</th>\n",
       "      <td>XOM</td>\n",
       "      <td>0.021217</td>\n",
       "    </tr>\n",
       "    <tr>\n",
       "      <th>2</th>\n",
       "      <td>CVX</td>\n",
       "      <td>0.024329</td>\n",
       "    </tr>\n",
       "    <tr>\n",
       "      <th>1</th>\n",
       "      <td>COP</td>\n",
       "      <td>0.190808</td>\n",
       "    </tr>\n",
       "  </tbody>\n",
       "</table>\n",
       "</div>"
      ],
      "text/plain": [
       "  Company  Sortino Ratio\n",
       "0   Shell      -0.071382\n",
       "4     IXC       0.006889\n",
       "3     XOM       0.021217\n",
       "2     CVX       0.024329\n",
       "1     COP       0.190808"
      ]
     },
     "execution_count": 30,
     "metadata": {},
     "output_type": "execute_result"
    }
   ],
   "source": [
    "sortino_ratios.sort_values(by='Sortino Ratio')\n"
   ]
  },
  {
   "cell_type": "code",
   "execution_count": 31,
   "id": "82f98c02-a5eb-4f3f-95d2-756ae5cbdf76",
   "metadata": {},
   "outputs": [
    {
     "data": {
      "text/plain": [
       "<AxesSubplot:title={'center':'Box Plot of Returns'}>"
      ]
     },
     "execution_count": 31,
     "metadata": {},
     "output_type": "execute_result"
    },
    {
     "data": {
      "image/png": "[encoded data removed]",
      "text/plain": [
       "<Figure size 1080x720 with 1 Axes>"
      ]
     },
     "metadata": {
      "needs_background": "light"
     },
     "output_type": "display_data"
    },
    {
     "data": {
      "image/png": "[encoded data removed]",
      "text/plain": [
       "<Figure size 1080x720 with 1 Axes>"
      ]
     },
     "metadata": {
      "needs_background": "light"
     },
     "output_type": "display_data"
    }
   ],
   "source": [
    "sortino_ratios.plot.bar(figsize=(15,10), title=\"Sortino Ratios for energy stocks and ETF\", use_index=\"false\", xlabel= \"Stocks & ETF\", x=\"Company\", ylabel= \"Sortino Ratio\")\n",
    "energy_stocks_returns.plot.box(figsize=(15,10), title=\"Box Plot of Returns\")"
   ]
  },
  {
   "cell_type": "code",
   "execution_count": 32,
   "id": "3303774b-2817-4083-8ad9-6d657a3b07b1",
   "metadata": {},
   "outputs": [],
   "source": [
    "# Analysis: The Sortino ratio higher than 0 is considered to be better. \n",
    "# The above plot shows that the Sortino ratio for \"Conoco\" is highest \"0.19\" compared to other stock assets and ETF. \n",
    "# We can conclude that it indicates that an investor will earn a higher return on \"Conoco\" of a downside risk.\n",
    "# and  Investing in \"Conoco\" may have a greater chance to avoid large losses. "
   ]
  },
  {
   "cell_type": "code",
   "execution_count": null,
   "id": "87d152e2-54ff-4b24-9645-87a8992c7b3a",
   "metadata": {},
   "outputs": [],
   "source": []
  },
  {
   "cell_type": "code",
   "execution_count": null,
   "id": "3bddcd9e-6310-4ecd-85c9-6412292a01ac",
   "metadata": {},
   "outputs": [],
   "source": []
  },
  {
   "cell_type": "code",
   "execution_count": null,
   "id": "47f0fdd5-4471-4335-9c72-062122c90886",
   "metadata": {},
   "outputs": [],
   "source": []
  },
  {
   "cell_type": "code",
   "execution_count": null,
   "id": "e5c98bcf-5595-40e1-acb3-272982a29949",
   "metadata": {},
   "outputs": [],
   "source": []
  },
  {
   "cell_type": "code",
   "execution_count": null,
   "id": "520386bf-1d8f-4e4d-b366-2ad062313d7b",
   "metadata": {},
   "outputs": [],
   "source": []
  }
 ],
 "metadata": {
  "kernelspec": {
   "display_name": "Python 3 (ipykernel)",
   "language": "python",
   "name": "python3"
  },
  "language_info": {
   "codemirror_mode": {
    "name": "ipython",
    "version": 3
   },
   "file_extension": ".py",
   "mimetype": "text/x-python",
   "name": "python",
   "nbconvert_exporter": "python",
   "pygments_lexer": "ipython3",
   "version": "3.7.13"
  }
 },
 "nbformat": 4,
 "nbformat_minor": 5
}
