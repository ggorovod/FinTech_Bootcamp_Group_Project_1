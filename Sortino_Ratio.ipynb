{
 "cells": [
  {
   "cell_type": "code",
   "execution_count": 3,
   "id": "b42b45c3-ee57-4b8f-b711-94d0a41972ba",
   "metadata": {},
   "outputs": [],
   "source": [
    "import pandas as pd\n",
    "import numpy as np\n",
    "from pathlib import Path\n",
    "%matplotlib inline"
   ]
  },
  {
   "cell_type": "code",
   "execution_count": null,
   "id": "da77ab5e-6ba1-4876-ac38-02d457d05bfe",
   "metadata": {},
   "outputs": [],
   "source": []
  },
  {
   "cell_type": "code",
   "execution_count": 2,
   "id": "5f177ab6-c9c8-44cc-b510-9c715cf2e90d",
   "metadata": {},
   "outputs": [],
   "source": [
    "# Import all cvs files (4 stocks, ETF, and 10yr T-Bill)"
   ]
  },
  {
   "cell_type": "code",
   "execution_count": 4,
   "id": "5de9eda4-eaaa-44de-a746-45275a5a3831",
   "metadata": {},
   "outputs": [],
   "source": [
    "shel_df = pd.read_csv(Path('data/SHEL_5yr_time_series.csv'), \n",
    "                index_col = 'Date',\n",
    "                parse_dates = True,\n",
    "                infer_datetime_format = True,                      \n",
    "                     )\n",
    "shel_df = shel_df[\"Adj Close\"]"
   ]
  },
  {
   "cell_type": "code",
   "execution_count": null,
   "id": "8832d663-9d6f-418c-a124-0a44c632eba2",
   "metadata": {},
   "outputs": [],
   "source": []
  },
  {
   "cell_type": "code",
   "execution_count": 5,
   "id": "3624a688-0dbd-4483-a007-6911d4b484cd",
   "metadata": {},
   "outputs": [],
   "source": [
    "xom_df = pd.read_csv(Path('data/XOM_5yr_time_series.csv'),\n",
    "                index_col = 'Date',\n",
    "                    parse_dates = True,\n",
    "                      infer_datetime_format = True,\n",
    "                      \n",
    "                     )\n",
    "xom_df = xom_df[\"Adj Close\"]"
   ]
  },
  {
   "cell_type": "code",
   "execution_count": 6,
   "id": "ae2e9bd5-d51f-4797-91c7-370cf0d33193",
   "metadata": {},
   "outputs": [],
   "source": [
    "cvx_df = pd.read_csv(Path('data/CVX_5yr_time_series.csv'),\n",
    "                index_col = 'Date',\n",
    "                    parse_dates = True,\n",
    "                      infer_datetime_format = True,\n",
    "                      \n",
    "                     )\n",
    "cvx_df = cvx_df[\"Adj Close\"]"
   ]
  },
  {
   "cell_type": "code",
   "execution_count": 7,
   "id": "b1b42fb3-1cd9-4404-bdae-597e892b1957",
   "metadata": {},
   "outputs": [],
   "source": [
    "cop_df = pd.read_csv(Path('data/COP_5yr_time_series.csv'),\n",
    "                index_col = 'Date',\n",
    "                    parse_dates = True,\n",
    "                      infer_datetime_format = True,\n",
    "                      \n",
    "                     )\n",
    "cop_df = cop_df[\"Adj Close\"]"
   ]
  },
  {
   "cell_type": "code",
   "execution_count": 8,
   "id": "b6c4f0ec-f328-4816-85d5-5af83bdf2945",
   "metadata": {},
   "outputs": [],
   "source": [
    "ixc_df = pd.read_csv(Path('data/IXC_5yr_time_series.csv'),\n",
    "                index_col = 'Date',\n",
    "                    parse_dates = True,\n",
    "                      infer_datetime_format = True,\n",
    "                      \n",
    "                     )\n",
    "ixc_df = ixc_df[\"Adj Close\"]"
   ]
  },
  {
   "cell_type": "code",
   "execution_count": 9,
   "id": "d12e07be-262a-4aaa-895c-24b8ac025dc5",
   "metadata": {},
   "outputs": [],
   "source": [
    "\n",
    "treasury_df = pd.read_csv(Path('data/10_yr_treasury_5yr_time_series.csv'),\n",
    "                index_col = 'Date',\n",
    "                    parse_dates = True,\n",
    "                      infer_datetime_format = True,\n",
    "                      \n",
    "                     )\n",
    "treasury_df = treasury_df[\"Adj Close\"]"
   ]
  },
  {
   "cell_type": "code",
   "execution_count": 10,
   "id": "5b9f73ce-4c4b-44ba-b8a7-6cdbf72eac76",
   "metadata": {},
   "outputs": [],
   "source": [
    "energy_stocks_df = pd.concat([shel_df, cop_df,cvx_df,xom_df,ixc_df],\n",
    "                            axis=1)\n",
    "energy_stocks_df=energy_stocks_df.set_axis(['SHEL', 'COP', 'CVX','XOM', 'IXC'], axis=1)"
   ]
  },
  {
   "cell_type": "code",
   "execution_count": 11,
   "id": "cee4b7fc-8540-471b-af92-edd3659e3ef9",
   "metadata": {},
   "outputs": [
    {
     "data": {
      "text/html": [
       "<div>\n",
       "<style scoped>\n",
       "    .dataframe tbody tr th:only-of-type {\n",
       "        vertical-align: middle;\n",
       "    }\n",
       "\n",
       "    .dataframe tbody tr th {\n",
       "        vertical-align: top;\n",
       "    }\n",
       "\n",
       "    .dataframe thead th {\n",
       "        text-align: right;\n",
       "    }\n",
       "</style>\n",
       "<table border=\"1\" class=\"dataframe\">\n",
       "  <thead>\n",
       "    <tr style=\"text-align: right;\">\n",
       "      <th></th>\n",
       "      <th>SHEL</th>\n",
       "      <th>COP</th>\n",
       "      <th>CVX</th>\n",
       "      <th>XOM</th>\n",
       "      <th>IXC</th>\n",
       "    </tr>\n",
       "    <tr>\n",
       "      <th>Date</th>\n",
       "      <th></th>\n",
       "      <th></th>\n",
       "      <th></th>\n",
       "      <th></th>\n",
       "      <th></th>\n",
       "    </tr>\n",
       "  </thead>\n",
       "  <tbody>\n",
       "    <tr>\n",
       "      <th>2017-10-01</th>\n",
       "      <td>49.569248</td>\n",
       "      <td>43.725098</td>\n",
       "      <td>92.921890</td>\n",
       "      <td>64.010841</td>\n",
       "      <td>27.338148</td>\n",
       "    </tr>\n",
       "    <tr>\n",
       "      <th>2017-11-01</th>\n",
       "      <td>50.426472</td>\n",
       "      <td>43.726921</td>\n",
       "      <td>95.407494</td>\n",
       "      <td>63.964775</td>\n",
       "      <td>27.707043</td>\n",
       "    </tr>\n",
       "    <tr>\n",
       "      <th>2017-12-01</th>\n",
       "      <td>53.255947</td>\n",
       "      <td>47.173164</td>\n",
       "      <td>101.318382</td>\n",
       "      <td>64.828041</td>\n",
       "      <td>28.508978</td>\n",
       "    </tr>\n",
       "    <tr>\n",
       "      <th>2018-01-01</th>\n",
       "      <td>56.074009</td>\n",
       "      <td>50.542061</td>\n",
       "      <td>101.447868</td>\n",
       "      <td>67.664841</td>\n",
       "      <td>29.981033</td>\n",
       "    </tr>\n",
       "    <tr>\n",
       "      <th>2018-02-01</th>\n",
       "      <td>50.509724</td>\n",
       "      <td>46.674702</td>\n",
       "      <td>90.578758</td>\n",
       "      <td>58.704857</td>\n",
       "      <td>27.226599</td>\n",
       "    </tr>\n",
       "  </tbody>\n",
       "</table>\n",
       "</div>"
      ],
      "text/plain": [
       "                 SHEL        COP         CVX        XOM        IXC\n",
       "Date                                                              \n",
       "2017-10-01  49.569248  43.725098   92.921890  64.010841  27.338148\n",
       "2017-11-01  50.426472  43.726921   95.407494  63.964775  27.707043\n",
       "2017-12-01  53.255947  47.173164  101.318382  64.828041  28.508978\n",
       "2018-01-01  56.074009  50.542061  101.447868  67.664841  29.981033\n",
       "2018-02-01  50.509724  46.674702   90.578758  58.704857  27.226599"
      ]
     },
     "metadata": {},
     "output_type": "display_data"
    },
    {
     "data": {
      "text/html": [
       "<div>\n",
       "<style scoped>\n",
       "    .dataframe tbody tr th:only-of-type {\n",
       "        vertical-align: middle;\n",
       "    }\n",
       "\n",
       "    .dataframe tbody tr th {\n",
       "        vertical-align: top;\n",
       "    }\n",
       "\n",
       "    .dataframe thead th {\n",
       "        text-align: right;\n",
       "    }\n",
       "</style>\n",
       "<table border=\"1\" class=\"dataframe\">\n",
       "  <thead>\n",
       "    <tr style=\"text-align: right;\">\n",
       "      <th></th>\n",
       "      <th>SHEL</th>\n",
       "      <th>COP</th>\n",
       "      <th>CVX</th>\n",
       "      <th>XOM</th>\n",
       "      <th>IXC</th>\n",
       "    </tr>\n",
       "    <tr>\n",
       "      <th>Date</th>\n",
       "      <th></th>\n",
       "      <th></th>\n",
       "      <th></th>\n",
       "      <th></th>\n",
       "      <th></th>\n",
       "    </tr>\n",
       "  </thead>\n",
       "  <tbody>\n",
       "    <tr>\n",
       "      <th>2022-05-01</th>\n",
       "      <td>58.160614</td>\n",
       "      <td>108.933136</td>\n",
       "      <td>171.674988</td>\n",
       "      <td>94.112198</td>\n",
       "      <td>39.707764</td>\n",
       "    </tr>\n",
       "    <tr>\n",
       "      <th>2022-06-01</th>\n",
       "      <td>51.797909</td>\n",
       "      <td>87.461830</td>\n",
       "      <td>143.476334</td>\n",
       "      <td>84.815910</td>\n",
       "      <td>33.274773</td>\n",
       "    </tr>\n",
       "    <tr>\n",
       "      <th>2022-07-01</th>\n",
       "      <td>52.877651</td>\n",
       "      <td>95.618851</td>\n",
       "      <td>162.305252</td>\n",
       "      <td>95.997269</td>\n",
       "      <td>36.250000</td>\n",
       "    </tr>\n",
       "    <tr>\n",
       "      <th>2022-08-01</th>\n",
       "      <td>52.481411</td>\n",
       "      <td>107.415405</td>\n",
       "      <td>156.636765</td>\n",
       "      <td>94.670158</td>\n",
       "      <td>36.900002</td>\n",
       "    </tr>\n",
       "    <tr>\n",
       "      <th>2022-09-01</th>\n",
       "      <td>49.759998</td>\n",
       "      <td>100.889244</td>\n",
       "      <td>143.669998</td>\n",
       "      <td>87.309998</td>\n",
       "      <td>33.330002</td>\n",
       "    </tr>\n",
       "  </tbody>\n",
       "</table>\n",
       "</div>"
      ],
      "text/plain": [
       "                 SHEL         COP         CVX        XOM        IXC\n",
       "Date                                                               \n",
       "2022-05-01  58.160614  108.933136  171.674988  94.112198  39.707764\n",
       "2022-06-01  51.797909   87.461830  143.476334  84.815910  33.274773\n",
       "2022-07-01  52.877651   95.618851  162.305252  95.997269  36.250000\n",
       "2022-08-01  52.481411  107.415405  156.636765  94.670158  36.900002\n",
       "2022-09-01  49.759998  100.889244  143.669998  87.309998  33.330002"
      ]
     },
     "metadata": {},
     "output_type": "display_data"
    }
   ],
   "source": [
    "display(energy_stocks_df.head())\n",
    "display(energy_stocks_df.tail())\n"
   ]
  },
  {
   "cell_type": "code",
   "execution_count": 12,
   "id": "ae2ade79-e8ef-4dc8-9790-6b508ba274b2",
   "metadata": {},
   "outputs": [
    {
     "data": {
      "text/html": [
       "<div>\n",
       "<style scoped>\n",
       "    .dataframe tbody tr th:only-of-type {\n",
       "        vertical-align: middle;\n",
       "    }\n",
       "\n",
       "    .dataframe tbody tr th {\n",
       "        vertical-align: top;\n",
       "    }\n",
       "\n",
       "    .dataframe thead th {\n",
       "        text-align: right;\n",
       "    }\n",
       "</style>\n",
       "<table border=\"1\" class=\"dataframe\">\n",
       "  <thead>\n",
       "    <tr style=\"text-align: right;\">\n",
       "      <th></th>\n",
       "      <th>SHEL</th>\n",
       "      <th>COP</th>\n",
       "      <th>CVX</th>\n",
       "      <th>XOM</th>\n",
       "      <th>IXC</th>\n",
       "    </tr>\n",
       "    <tr>\n",
       "      <th>Date</th>\n",
       "      <th></th>\n",
       "      <th></th>\n",
       "      <th></th>\n",
       "      <th></th>\n",
       "      <th></th>\n",
       "    </tr>\n",
       "  </thead>\n",
       "  <tbody>\n",
       "    <tr>\n",
       "      <th>2017-11-01</th>\n",
       "      <td>0.017293</td>\n",
       "      <td>0.000042</td>\n",
       "      <td>0.026749</td>\n",
       "      <td>-0.000720</td>\n",
       "      <td>0.013494</td>\n",
       "    </tr>\n",
       "    <tr>\n",
       "      <th>2017-12-01</th>\n",
       "      <td>0.056111</td>\n",
       "      <td>0.078813</td>\n",
       "      <td>0.061954</td>\n",
       "      <td>0.013496</td>\n",
       "      <td>0.028943</td>\n",
       "    </tr>\n",
       "    <tr>\n",
       "      <th>2018-01-01</th>\n",
       "      <td>0.052915</td>\n",
       "      <td>0.071416</td>\n",
       "      <td>0.001278</td>\n",
       "      <td>0.043759</td>\n",
       "      <td>0.051635</td>\n",
       "    </tr>\n",
       "    <tr>\n",
       "      <th>2018-02-01</th>\n",
       "      <td>-0.099231</td>\n",
       "      <td>-0.076518</td>\n",
       "      <td>-0.107140</td>\n",
       "      <td>-0.132417</td>\n",
       "      <td>-0.091873</td>\n",
       "    </tr>\n",
       "    <tr>\n",
       "      <th>2018-03-01</th>\n",
       "      <td>0.023208</td>\n",
       "      <td>0.097571</td>\n",
       "      <td>0.029085</td>\n",
       "      <td>-0.004846</td>\n",
       "      <td>0.017061</td>\n",
       "    </tr>\n",
       "  </tbody>\n",
       "</table>\n",
       "</div>"
      ],
      "text/plain": [
       "                SHEL       COP       CVX       XOM       IXC\n",
       "Date                                                        \n",
       "2017-11-01  0.017293  0.000042  0.026749 -0.000720  0.013494\n",
       "2017-12-01  0.056111  0.078813  0.061954  0.013496  0.028943\n",
       "2018-01-01  0.052915  0.071416  0.001278  0.043759  0.051635\n",
       "2018-02-01 -0.099231 -0.076518 -0.107140 -0.132417 -0.091873\n",
       "2018-03-01  0.023208  0.097571  0.029085 -0.004846  0.017061"
      ]
     },
     "execution_count": 12,
     "metadata": {},
     "output_type": "execute_result"
    }
   ],
   "source": [
    "# Calculating Pct Change for each stock and ETF\n",
    "\n",
    "energy_stocks_returns = energy_stocks_df.pct_change().dropna()\n",
    "energy_stocks_returns.head()"
   ]
  },
  {
   "cell_type": "code",
   "execution_count": 46,
   "id": "a7e95593-c87a-4afa-958a-aa729b5a8770",
   "metadata": {},
   "outputs": [
    {
     "data": {
      "text/plain": [
       "0.019737833333333333"
      ]
     },
     "execution_count": 46,
     "metadata": {},
     "output_type": "execute_result"
    }
   ],
   "source": [
    "#Get the Risk Free Rate from treasury_df\n",
    "risk_free_rate = treasury_df.mean() / 100\n",
    "\n",
    "Expected_returns = risk_free_rate\n",
    "\n",
    "Expected_returns\n"
   ]
  },
  {
   "cell_type": "code",
   "execution_count": null,
   "id": "06df4f3c-268f-404f-a99e-8f8a4b39be25",
   "metadata": {},
   "outputs": [],
   "source": []
  },
  {
   "cell_type": "code",
   "execution_count": null,
   "id": "695c6c4b-3da8-4518-82ab-e89653c98f68",
   "metadata": {},
   "outputs": [],
   "source": []
  },
  {
   "cell_type": "code",
   "execution_count": null,
   "id": "d3cea943-567a-4a3b-8846-943f6006ead0",
   "metadata": {},
   "outputs": [],
   "source": []
  },
  {
   "cell_type": "code",
   "execution_count": 33,
   "id": "ea5e86d2-36db-441c-8d17-db612aad7177",
   "metadata": {},
   "outputs": [
    {
     "data": {
      "text/plain": [
       "Date\n",
       "2017-11-01    0.000006\n",
       "2018-02-01    0.014154\n",
       "2018-05-01    0.000591\n",
       "2018-06-01    0.000133\n",
       "2018-07-01    0.001034\n",
       "Name: Adj Close, dtype: float64"
      ]
     },
     "execution_count": 33,
     "metadata": {},
     "output_type": "execute_result"
    }
   ],
   "source": [
    "# Sortino ratio for shell\n",
    "\n",
    "# Step 1: Calculating the excess returns \n",
    "\n",
    "shell_returns = shel_df.pct_change().dropna()\n",
    "Shell_Excess_returns = shell_returns - Expected_returns\n",
    "\n",
    "# Step 2: Calulcating Negative excess returns\n",
    "\n",
    "boolean_filter = Shell_Excess_returns < 0\n",
    "Negative_excess_shell_returns = Shell_Excess_returns.loc[boolean_filter]\n",
    "Negative_excess_shell_returns.head()\n",
    "\n",
    "# Step 3: Calculating square of negative excess returns\n",
    "\n",
    "Square_of_negative_excess_shell_returns = Negative_excess_shell_returns**2\n",
    "Square_of_negative_excess_shell_returns.head()\n",
    "\n",
    "\n"
   ]
  },
  {
   "cell_type": "code",
   "execution_count": 34,
   "id": "6b935edd-1a2a-4939-a684-102324ce12de",
   "metadata": {},
   "outputs": [
    {
     "data": {
      "text/plain": [
       "-0.5635531541875928"
      ]
     },
     "execution_count": 34,
     "metadata": {},
     "output_type": "execute_result"
    }
   ],
   "source": [
    "# Step 5: Caluclating the downsize risk and annualizing\n",
    "\n",
    "value = Square_of_negative_excess_shell_returns.sum()/12\n",
    "SD_negative_excess_shell_returns = np.sqrt(value)\n",
    "\n",
    "# Step 6: Calculating Average excess returns and annualizing\n",
    "\n",
    "Average_Shell_Excess_returns= Shell_Excess_returns.sum()/12\n",
    "\n",
    "# Step 7: Calculating the Sortino ratio\n",
    "\n",
    "Sortino_ratio_shell= Average_Shell_Excess_returns/SD_negative_excess_shell_returns\n",
    "Sortino_ratio_shell"
   ]
  },
  {
   "cell_type": "code",
   "execution_count": 35,
   "id": "9ba54515-adec-4c4d-acf5-18935b46f9f1",
   "metadata": {},
   "outputs": [
    {
     "data": {
      "text/plain": [
       "Date\n",
       "2018-01-01    0.000341\n",
       "2018-02-01    0.016098\n",
       "2018-05-01    0.000687\n",
       "2018-07-01    0.000441\n",
       "2018-08-01    0.006657\n",
       "Name: Adj Close, dtype: float64"
      ]
     },
     "execution_count": 35,
     "metadata": {},
     "output_type": "execute_result"
    }
   ],
   "source": [
    "#Sortino ratio for Chevron\n",
    "\n",
    "# Step 1: Calculating the excess returns \n",
    "\n",
    "chev_returns = cvx_df.pct_change().dropna()\n",
    "chev_Excess_returns = chev_returns - Expected_returns\n",
    "\n",
    "# Step 2: Calulcating Negative excess returns\n",
    "\n",
    "boolean_filter = chev_Excess_returns < 0\n",
    "Negative_excess_chev_returns = chev_Excess_returns.loc[boolean_filter]\n",
    "Negative_excess_chev_returns.head()\n",
    "\n",
    "# Step 3: Calculating square of negative excess returns\n",
    "\n",
    "Square_of_negative_excess_chev_returns = Negative_excess_chev_returns**2\n",
    "Square_of_negative_excess_chev_returns.head()\n",
    "\n",
    "\n"
   ]
  },
  {
   "cell_type": "code",
   "execution_count": 36,
   "id": "df4558cf-1fde-4848-96fa-042f54b354a3",
   "metadata": {},
   "outputs": [
    {
     "data": {
      "text/plain": [
       "-0.2868677241223427"
      ]
     },
     "execution_count": 36,
     "metadata": {},
     "output_type": "execute_result"
    }
   ],
   "source": [
    "# Step 4: Caluclating the downsize risk and annualizing\n",
    "\n",
    "\n",
    "value = Square_of_negative_excess_chev_returns.sum()/12\n",
    "SD_negative_excess_chev_returns = np.sqrt(value)\n",
    "\n",
    "# Step 5: Calculating Average excess returns and annualizing\n",
    "\n",
    "Average_chev_Excess_returns= chev_Excess_returns.sum()/12\n",
    "\n",
    "# Step 6: Calculating the Sortino ratio\n",
    "\n",
    "Sortino_ratio_chev= Average_chev_Excess_returns/SD_negative_excess_chev_returns\n",
    "Sortino_ratio_chev"
   ]
  },
  {
   "cell_type": "code",
   "execution_count": null,
   "id": "fa7cd3d3-1be4-42dc-9142-71e64cbad174",
   "metadata": {},
   "outputs": [],
   "source": []
  },
  {
   "cell_type": "code",
   "execution_count": 37,
   "id": "ce0b7a0d-7acc-4650-bbd0-ee9bc06c818c",
   "metadata": {},
   "outputs": [
    {
     "data": {
      "text/plain": [
       "Date\n",
       "2017-11-01    0.000419\n",
       "2017-12-01    0.000039\n",
       "2018-02-01    0.023151\n",
       "2018-03-01    0.000604\n",
       "2018-07-01    0.001189\n",
       "Name: Adj Close, dtype: float64"
      ]
     },
     "execution_count": 37,
     "metadata": {},
     "output_type": "execute_result"
    }
   ],
   "source": [
    "# Sortino ratio for Exxon\n",
    "\n",
    "# Step 1: Calculating the excess returns \n",
    "\n",
    "Exxon_returns = xom_df.pct_change().dropna()\n",
    "Exxon_Excess_returns = Exxon_returns - Expected_returns\n",
    "\n",
    "# Step 2: Calulcating Negative excess returns\n",
    "\n",
    "boolean_filter = Exxon_Excess_returns < 0\n",
    "Negative_excess_Exxon_returns = Exxon_Excess_returns.loc[boolean_filter]\n",
    "Negative_excess_Exxon_returns.head()\n",
    "\n",
    "# Step 3: Calculating square of negative excess returns\n",
    "\n",
    "Square_of_negative_excess_Exxon_returns = Negative_excess_Exxon_returns**2\n",
    "Square_of_negative_excess_Exxon_returns.head()"
   ]
  },
  {
   "cell_type": "code",
   "execution_count": null,
   "id": "40e3c66a-a302-491b-b409-00298ddf9789",
   "metadata": {},
   "outputs": [],
   "source": []
  },
  {
   "cell_type": "code",
   "execution_count": 38,
   "id": "19f1fbd2-9a09-4167-88ff-6039a18dd055",
   "metadata": {},
   "outputs": [
    {
     "data": {
      "text/plain": [
       "-0.30600203667151143"
      ]
     },
     "execution_count": 38,
     "metadata": {},
     "output_type": "execute_result"
    }
   ],
   "source": [
    "# Step 4: Caluclating the downsize risk and annualizing\n",
    "\n",
    "value = Square_of_negative_excess_Exxon_returns.sum()/12\n",
    "SD_negative_excess_Exxon_returns = np.sqrt(value)\n",
    "\n",
    "# Step 5: Calculating Average excess returns and annualizing\n",
    "\n",
    "Average_Exxon_Excess_returns= Exxon_Excess_returns.sum()/12\n",
    "\n",
    "# Step 6: Calculating the Sortino ratio\n",
    "\n",
    "Sortino_ratio_Exxon= Average_Exxon_Excess_returns/SD_negative_excess_Exxon_returns\n",
    "Sortino_ratio_Exxon"
   ]
  },
  {
   "cell_type": "code",
   "execution_count": null,
   "id": "c082c7ae-0f2a-4fbb-b818-421e4bb04775",
   "metadata": {},
   "outputs": [],
   "source": []
  },
  {
   "cell_type": "code",
   "execution_count": 39,
   "id": "a40b8929-3286-4c00-907a-1732df9963e3",
   "metadata": {},
   "outputs": [
    {
     "data": {
      "text/plain": [
       "Date\n",
       "2017-11-01    0.000388\n",
       "2018-02-01    0.009265\n",
       "2018-10-01    0.013604\n",
       "2018-11-01    0.004757\n",
       "2018-12-01    0.006023\n",
       "Name: Adj Close, dtype: float64"
      ]
     },
     "execution_count": 39,
     "metadata": {},
     "output_type": "execute_result"
    }
   ],
   "source": [
    "#Sortino ratio for Connoco\n",
    "\n",
    "# Step 1: Calculating the excess returns \n",
    "\n",
    "conno_returns = cop_df.pct_change().dropna()\n",
    "conno_Excess_returns = conno_returns - Expected_returns\n",
    "\n",
    "# Step 2: Calulcating Negative excess returns\n",
    "\n",
    "boolean_filter = conno_Excess_returns < 0\n",
    "Negative_excess_conno_returns = conno_Excess_returns.loc[boolean_filter]\n",
    "Negative_excess_conno_returns.head()\n",
    "\n",
    "# Step 3: Calculating square of negative excess returns\n",
    "\n",
    "Square_of_negative_excess_conno_returns = Negative_excess_conno_returns**2\n",
    "Square_of_negative_excess_conno_returns.head()"
   ]
  },
  {
   "cell_type": "code",
   "execution_count": null,
   "id": "9238a8d1-d23b-4ded-9a31-b3ea600a2312",
   "metadata": {},
   "outputs": [],
   "source": []
  },
  {
   "cell_type": "code",
   "execution_count": null,
   "id": "ea95997c-3a2f-4602-89f7-c9b7581d26e1",
   "metadata": {},
   "outputs": [],
   "source": []
  },
  {
   "cell_type": "code",
   "execution_count": 40,
   "id": "4a586c7b-f4d4-4c0d-976e-6145c214922e",
   "metadata": {},
   "outputs": [
    {
     "data": {
      "text/plain": [
       "0.06206900238000019"
      ]
     },
     "execution_count": 40,
     "metadata": {},
     "output_type": "execute_result"
    }
   ],
   "source": [
    "# Step 4: Caluclating the downsize risk and annualizing\n",
    "\n",
    "value = Square_of_negative_excess_conno_returns.sum()/12\n",
    "SD_negative_excess_conno_returns = np.sqrt(value)\n",
    "\n",
    "# Step 5: Calculating Average excess returns and annualizing\n",
    "\n",
    "Average_conno_Excess_returns= conno_Excess_returns.sum()/12\n",
    "\n",
    "# Step 6: Calculating the Sortino ratio\n",
    "\n",
    "Sortino_ratio_conno= Average_conno_Excess_returns/SD_negative_excess_conno_returns\n",
    "Sortino_ratio_conno\n"
   ]
  },
  {
   "cell_type": "code",
   "execution_count": null,
   "id": "6dd52852-1960-4158-b810-d864a1f6c7f2",
   "metadata": {},
   "outputs": [],
   "source": []
  },
  {
   "cell_type": "code",
   "execution_count": 41,
   "id": "e52f459d-fe3b-42d2-ae10-98d4b81121ce",
   "metadata": {},
   "outputs": [
    {
     "data": {
      "text/plain": [
       "Date\n",
       "2017-11-01    0.000039\n",
       "2018-02-01    0.012457\n",
       "2018-03-01    0.000007\n",
       "2018-05-01    0.000062\n",
       "2018-06-01    0.000502\n",
       "Name: Adj Close, dtype: float64"
      ]
     },
     "execution_count": 41,
     "metadata": {},
     "output_type": "execute_result"
    }
   ],
   "source": [
    "# Sortino ratio for ICX\n",
    "\n",
    "# Step 1: Calculating the excess returns \n",
    "\n",
    "ETF_returns = ixc_df.pct_change().dropna()\n",
    "ETF_Excess_returns = ETF_returns - Expected_returns\n",
    "\n",
    "# Step 2: Calulcating Negative excess returns\n",
    "\n",
    "boolean_filter = ETF_Excess_returns < 0\n",
    "Negative_excess_ETF_returns = ETF_Excess_returns.loc[boolean_filter]\n",
    "Negative_excess_ETF_returns.head()\n",
    "\n",
    "# Step 3: Calculating square of negative excess returns\n",
    "\n",
    "Square_of_negative_excess_ETF_returns = Negative_excess_ETF_returns**2\n",
    "Square_of_negative_excess_ETF_returns.head()"
   ]
  },
  {
   "cell_type": "code",
   "execution_count": 42,
   "id": "f98c0bb4-b5ec-4cea-a5d9-8c53fdd42cde",
   "metadata": {},
   "outputs": [
    {
     "data": {
      "text/plain": [
       "-0.3804752781531778"
      ]
     },
     "execution_count": 42,
     "metadata": {},
     "output_type": "execute_result"
    }
   ],
   "source": [
    "# Step 4: Caluclating the downsize risk and annualizing\n",
    "\n",
    "value = Square_of_negative_excess_ETF_returns.sum()/12\n",
    "SD_negative_excess_ETF_returns = np.sqrt(value)\n",
    "\n",
    "# Step 5: Calculating Average excess returns and annualizing\n",
    "\n",
    "Average_ETF_Excess_returns= ETF_Excess_returns.sum()/12\n",
    "\n",
    "# Step 6: Calculating the Sortino ratio\n",
    "\n",
    "Sortino_ratio_ETF= Average_ETF_Excess_returns/SD_negative_excess_ETF_returns\n",
    "Sortino_ratio_ETF\n"
   ]
  },
  {
   "cell_type": "code",
   "execution_count": 45,
   "id": "9166518b-7ebb-4dbb-b305-9b9e06e9d64b",
   "metadata": {},
   "outputs": [
    {
     "name": "stdout",
     "output_type": "stream",
     "text": [
      "  Company  Sortino Ratio\n",
      "0   Shell      -0.563553\n",
      "1     COP       0.062069\n",
      "2     CVX      -0.286868\n",
      "3     XOM      -0.306002\n",
      "4     ICX      -0.380475\n"
     ]
    }
   ],
   "source": [
    "data = {'Company': ['Shell','COP','CVX','XOM', 'ICX'], \n",
    "        'Sortino Ratio': [Sortino_ratio_shell, Sortino_ratio_conno , Sortino_ratio_chev, Sortino_ratio_Exxon , Sortino_ratio_ETF]}\n",
    "\n",
    "sortino_ratios = pd.DataFrame(data, columns= ['Company','Sortino Ratio'])\n",
    "print (sortino_ratios)\n"
   ]
  },
  {
   "cell_type": "code",
   "execution_count": 44,
   "id": "82f98c02-a5eb-4f3f-95d2-756ae5cbdf76",
   "metadata": {},
   "outputs": [
    {
     "data": {
      "text/plain": [
       "<AxesSubplot:title={'center':'Sortino Ratios'}>"
      ]
     },
     "execution_count": 44,
     "metadata": {},
     "output_type": "execute_result"
    },
    {
     "data": {
      "image/png": "[encoded data removed]",
      "text/plain": [
       "<Figure size 1080x720 with 1 Axes>"
      ]
     },
     "metadata": {
      "needs_background": "light"
     },
     "output_type": "display_data"
    }
   ],
   "source": [
    "sortino_ratios.plot.bar(figsize=(15,10), title=\"Sortino Ratios\")"
   ]
  },
  {
   "cell_type": "code",
   "execution_count": null,
   "id": "78fb0028-b5ee-427d-bd33-4a8540672ca9",
   "metadata": {},
   "outputs": [],
   "source": []
  },
  {
   "cell_type": "code",
   "execution_count": null,
   "id": "14bdd85a-c7d7-4488-a562-b72b0ae81199",
   "metadata": {},
   "outputs": [],
   "source": []
  },
  {
   "cell_type": "code",
   "execution_count": null,
   "id": "b3461119-978a-45ba-a1ab-ca3154db065b",
   "metadata": {},
   "outputs": [],
   "source": []
  },
  {
   "cell_type": "code",
   "execution_count": 27,
   "id": "3303774b-2817-4083-8ad9-6d657a3b07b1",
   "metadata": {},
   "outputs": [
    {
     "ename": "SyntaxError",
     "evalue": "invalid syntax (<ipython-input-27-e39a19369af1>, line 1)",
     "output_type": "error",
     "traceback": [
      "\u001b[1;36m  File \u001b[1;32m\"<ipython-input-27-e39a19369af1>\"\u001b[1;36m, line \u001b[1;32m1\u001b[0m\n\u001b[1;33m    Analysis: Typically Sortino ratio higher than 0 is considered to be better. From the given outcome\u001b[0m\n\u001b[1;37m                              ^\u001b[0m\n\u001b[1;31mSyntaxError\u001b[0m\u001b[1;31m:\u001b[0m invalid syntax\n"
     ]
    }
   ],
   "source": [
    "# Analysis: Typically Sortino ratio higher than 0 is considered to be better. From the given outcome\n",
    "# the Sortino ratio for \"Connoco\" is above 0 it means it is generating more returns compared with other stocks\n",
    "# and ETF and it has a great chance to avoiding large losses. "
   ]
  },
  {
   "cell_type": "code",
   "execution_count": null,
   "id": "47f0fdd5-4471-4335-9c72-062122c90886",
   "metadata": {},
   "outputs": [],
   "source": []
  },
  {
   "cell_type": "code",
   "execution_count": null,
   "id": "e5c98bcf-5595-40e1-acb3-272982a29949",
   "metadata": {},
   "outputs": [],
   "source": []
  }
 ],
 "metadata": {
  "kernelspec": {
   "display_name": "Python 3",
   "language": "python",
   "name": "python3"
  },
  "language_info": {
   "codemirror_mode": {
    "name": "ipython",
    "version": 3
   },
   "file_extension": ".py",
   "mimetype": "text/x-python",
   "name": "python",
   "nbconvert_exporter": "python",
   "pygments_lexer": "ipython3",
   "version": "3.6.3"
  }
 },
 "nbformat": 4,
 "nbformat_minor": 5
}
